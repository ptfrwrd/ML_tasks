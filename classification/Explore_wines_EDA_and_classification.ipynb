{
  "nbformat": 4,
  "nbformat_minor": 0,
  "metadata": {
    "colab": {
      "name": "Explore wines, EDA and classification.ipynb",
      "provenance": [],
      "authorship_tag": "ABX9TyOjtge8s35sWwD1zQTlfU4g",
      "include_colab_link": true
    },
    "kernelspec": {
      "name": "python3",
      "display_name": "Python 3"
    },
    "accelerator": "GPU"
  },
  "cells": [
    {
      "cell_type": "markdown",
      "metadata": {
        "id": "view-in-github",
        "colab_type": "text"
      },
      "source": [
        "<a href=\"https://colab.research.google.com/github/ptfrwrd/EDA_and_Classification/blob/master/Explore_wines_EDA_and_classification.ipynb\" target=\"_parent\"><img src=\"https://colab.research.google.com/assets/colab-badge.svg\" alt=\"Open In Colab\"/></a>"
      ]
    },
    {
      "cell_type": "code",
      "metadata": {
        "id": "R-2EJUCFKyYj",
        "colab_type": "code",
        "colab": {
          "base_uri": "https://localhost:8080/",
          "height": 51
        },
        "outputId": "2bcccf4b-c419-4fb1-caf7-70a6d7942703"
      },
      "source": [
        "import numpy as np \n",
        "import pandas as pd \n",
        "import matplotlib.pyplot as plt\n",
        "import seaborn as sns"
      ],
      "execution_count": 1,
      "outputs": [
        {
          "output_type": "stream",
          "text": [
            "/usr/local/lib/python3.6/dist-packages/statsmodels/tools/_testing.py:19: FutureWarning: pandas.util.testing is deprecated. Use the functions in the public API at pandas.testing instead.\n",
            "  import pandas.util.testing as tm\n"
          ],
          "name": "stderr"
        }
      ]
    },
    {
      "cell_type": "code",
      "metadata": {
        "id": "nZ8XcWdzLC9A",
        "colab_type": "code",
        "colab": {
          "resources": {
            "http://localhost:8080/nbextensions/google.colab/files.js": {
              "data": "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",
              "ok": true,
              "headers": [
                [
                  "content-type",
                  "application/javascript"
                ]
              ],
              "status": 200,
              "status_text": ""
            }
          },
          "base_uri": "https://localhost:8080/",
          "height": 89
        },
        "outputId": "9eccdc19-d1a1-4bc1-9508-4106434893e8"
      },
      "source": [
        "! pip install -q kaggle\n",
        "from google.colab import files\n",
        "files.upload()"
      ],
      "execution_count": 2,
      "outputs": [
        {
          "output_type": "display_data",
          "data": {
            "text/html": [
              "\n",
              "     <input type=\"file\" id=\"files-d69e1482-5439-444c-bc9d-1cacf0d0adca\" name=\"files[]\" multiple disabled\n",
              "        style=\"border:none\" />\n",
              "     <output id=\"result-d69e1482-5439-444c-bc9d-1cacf0d0adca\">\n",
              "      Upload widget is only available when the cell has been executed in the\n",
              "      current browser session. Please rerun this cell to enable.\n",
              "      </output>\n",
              "      <script src=\"/nbextensions/google.colab/files.js\"></script> "
            ],
            "text/plain": [
              "<IPython.core.display.HTML object>"
            ]
          },
          "metadata": {
            "tags": []
          }
        },
        {
          "output_type": "stream",
          "text": [
            "Saving kaggle.json to kaggle.json\n"
          ],
          "name": "stdout"
        },
        {
          "output_type": "execute_result",
          "data": {
            "text/plain": [
              "{'kaggle.json': b'{\"username\":\"ptfrwrd\",\"key\":\"4a2f5a982ed53062345976efa42bd4c8\"}'}"
            ]
          },
          "metadata": {
            "tags": []
          },
          "execution_count": 2
        }
      ]
    },
    {
      "cell_type": "code",
      "metadata": {
        "id": "PmvWT_JALGss",
        "colab_type": "code",
        "colab": {}
      },
      "source": [
        "! mkdir ~/.kaggle\n",
        "! cp kaggle.json ~/.kaggle/\n",
        "! chmod 600 ~/.kaggle/kaggle.json"
      ],
      "execution_count": 3,
      "outputs": []
    },
    {
      "cell_type": "code",
      "metadata": {
        "id": "dUz9I6rLLOFJ",
        "colab_type": "code",
        "colab": {
          "base_uri": "https://localhost:8080/",
          "height": 68
        },
        "outputId": "f7c79b99-8825-4920-a92a-a03f5b5a44de"
      },
      "source": [
        "! kaggle datasets download -d  brynja/wineuci"
      ],
      "execution_count": 6,
      "outputs": [
        {
          "output_type": "stream",
          "text": [
            "Downloading wineuci.zip to /content\n",
            "\r  0% 0.00/4.20k [00:00<?, ?B/s]\n",
            "\r100% 4.20k/4.20k [00:00<00:00, 3.49MB/s]\n"
          ],
          "name": "stdout"
        }
      ]
    },
    {
      "cell_type": "code",
      "metadata": {
        "id": "m4qq3_KjLbvA",
        "colab_type": "code",
        "colab": {
          "base_uri": "https://localhost:8080/",
          "height": 51
        },
        "outputId": "d3b172b5-f5a2-4922-846e-fe4e8bdb50b7"
      },
      "source": [
        "! mkdir data\n",
        "! unzip wineuci.zip -d data"
      ],
      "execution_count": 7,
      "outputs": [
        {
          "output_type": "stream",
          "text": [
            "Archive:  wineuci.zip\n",
            "  inflating: data/Wine.csv           \n"
          ],
          "name": "stdout"
        }
      ]
    },
    {
      "cell_type": "markdown",
      "metadata": {
        "id": "Fycp4PmiLfLU",
        "colab_type": "text"
      },
      "source": [
        "# EDA:"
      ]
    },
    {
      "cell_type": "markdown",
      "metadata": {
        "id": "1RmgONhKLydl",
        "colab_type": "text"
      },
      "source": [
        "**Labels:**\n",
        "\"name\" - Number denoting a specific wine class\n",
        "\n",
        "**Number of instances of each wine class**\n",
        "\n",
        "- Class 1 - 59\n",
        "- Class 2 - 71\n",
        "- Class 3 - 48\n",
        "\n",
        "**Features:**\n",
        "\n",
        "- Alcohol\n",
        "- Malic acid\n",
        "- Ash\n",
        "- Alcalinity of ash\n",
        "- Magnesium\n",
        "- Total phenols\n",
        "- Flavanoids\n",
        "- Nonflavanoid phenols\n",
        "- Proanthocyanins\n",
        "- Color intensity\n",
        "- Hue\n",
        "- OD280/OD315 of diluted wines\n",
        "- Proline"
      ]
    },
    {
      "cell_type": "code",
      "metadata": {
        "id": "DWS3V5ooLiQV",
        "colab_type": "code",
        "colab": {
          "base_uri": "https://localhost:8080/",
          "height": 204
        },
        "outputId": "065f08d3-1b4e-419f-ef65-8b1a9e6425ed"
      },
      "source": [
        "wines_data = pd.read_csv('data/Wine.csv')\n",
        "wines_data.head(5)"
      ],
      "execution_count": 8,
      "outputs": [
        {
          "output_type": "execute_result",
          "data": {
            "text/html": [
              "<div>\n",
              "<style scoped>\n",
              "    .dataframe tbody tr th:only-of-type {\n",
              "        vertical-align: middle;\n",
              "    }\n",
              "\n",
              "    .dataframe tbody tr th {\n",
              "        vertical-align: top;\n",
              "    }\n",
              "\n",
              "    .dataframe thead th {\n",
              "        text-align: right;\n",
              "    }\n",
              "</style>\n",
              "<table border=\"1\" class=\"dataframe\">\n",
              "  <thead>\n",
              "    <tr style=\"text-align: right;\">\n",
              "      <th></th>\n",
              "      <th>1</th>\n",
              "      <th>14.23</th>\n",
              "      <th>1.71</th>\n",
              "      <th>2.43</th>\n",
              "      <th>15.6</th>\n",
              "      <th>127</th>\n",
              "      <th>2.8</th>\n",
              "      <th>3.06</th>\n",
              "      <th>.28</th>\n",
              "      <th>2.29</th>\n",
              "      <th>5.64</th>\n",
              "      <th>1.04</th>\n",
              "      <th>3.92</th>\n",
              "      <th>1065</th>\n",
              "    </tr>\n",
              "  </thead>\n",
              "  <tbody>\n",
              "    <tr>\n",
              "      <th>0</th>\n",
              "      <td>1</td>\n",
              "      <td>13.20</td>\n",
              "      <td>1.78</td>\n",
              "      <td>2.14</td>\n",
              "      <td>11.2</td>\n",
              "      <td>100</td>\n",
              "      <td>2.65</td>\n",
              "      <td>2.76</td>\n",
              "      <td>0.26</td>\n",
              "      <td>1.28</td>\n",
              "      <td>4.38</td>\n",
              "      <td>1.05</td>\n",
              "      <td>3.40</td>\n",
              "      <td>1050</td>\n",
              "    </tr>\n",
              "    <tr>\n",
              "      <th>1</th>\n",
              "      <td>1</td>\n",
              "      <td>13.16</td>\n",
              "      <td>2.36</td>\n",
              "      <td>2.67</td>\n",
              "      <td>18.6</td>\n",
              "      <td>101</td>\n",
              "      <td>2.80</td>\n",
              "      <td>3.24</td>\n",
              "      <td>0.30</td>\n",
              "      <td>2.81</td>\n",
              "      <td>5.68</td>\n",
              "      <td>1.03</td>\n",
              "      <td>3.17</td>\n",
              "      <td>1185</td>\n",
              "    </tr>\n",
              "    <tr>\n",
              "      <th>2</th>\n",
              "      <td>1</td>\n",
              "      <td>14.37</td>\n",
              "      <td>1.95</td>\n",
              "      <td>2.50</td>\n",
              "      <td>16.8</td>\n",
              "      <td>113</td>\n",
              "      <td>3.85</td>\n",
              "      <td>3.49</td>\n",
              "      <td>0.24</td>\n",
              "      <td>2.18</td>\n",
              "      <td>7.80</td>\n",
              "      <td>0.86</td>\n",
              "      <td>3.45</td>\n",
              "      <td>1480</td>\n",
              "    </tr>\n",
              "    <tr>\n",
              "      <th>3</th>\n",
              "      <td>1</td>\n",
              "      <td>13.24</td>\n",
              "      <td>2.59</td>\n",
              "      <td>2.87</td>\n",
              "      <td>21.0</td>\n",
              "      <td>118</td>\n",
              "      <td>2.80</td>\n",
              "      <td>2.69</td>\n",
              "      <td>0.39</td>\n",
              "      <td>1.82</td>\n",
              "      <td>4.32</td>\n",
              "      <td>1.04</td>\n",
              "      <td>2.93</td>\n",
              "      <td>735</td>\n",
              "    </tr>\n",
              "    <tr>\n",
              "      <th>4</th>\n",
              "      <td>1</td>\n",
              "      <td>14.20</td>\n",
              "      <td>1.76</td>\n",
              "      <td>2.45</td>\n",
              "      <td>15.2</td>\n",
              "      <td>112</td>\n",
              "      <td>3.27</td>\n",
              "      <td>3.39</td>\n",
              "      <td>0.34</td>\n",
              "      <td>1.97</td>\n",
              "      <td>6.75</td>\n",
              "      <td>1.05</td>\n",
              "      <td>2.85</td>\n",
              "      <td>1450</td>\n",
              "    </tr>\n",
              "  </tbody>\n",
              "</table>\n",
              "</div>"
            ],
            "text/plain": [
              "   1  14.23  1.71  2.43  15.6  127  ...   .28  2.29  5.64  1.04  3.92  1065\n",
              "0  1  13.20  1.78  2.14  11.2  100  ...  0.26  1.28  4.38  1.05  3.40  1050\n",
              "1  1  13.16  2.36  2.67  18.6  101  ...  0.30  2.81  5.68  1.03  3.17  1185\n",
              "2  1  14.37  1.95  2.50  16.8  113  ...  0.24  2.18  7.80  0.86  3.45  1480\n",
              "3  1  13.24  2.59  2.87  21.0  118  ...  0.39  1.82  4.32  1.04  2.93   735\n",
              "4  1  14.20  1.76  2.45  15.2  112  ...  0.34  1.97  6.75  1.05  2.85  1450\n",
              "\n",
              "[5 rows x 14 columns]"
            ]
          },
          "metadata": {
            "tags": []
          },
          "execution_count": 8
        }
      ]
    },
    {
      "cell_type": "code",
      "metadata": {
        "id": "Qh9RhzWnLr35",
        "colab_type": "code",
        "colab": {
          "base_uri": "https://localhost:8080/",
          "height": 204
        },
        "outputId": "ca7f2e7e-f220-4d2a-c5b1-433cccf60ed8"
      },
      "source": [
        "# Rename columns\n",
        "wines_data.columns = ['name'\n",
        "                    ,'alcohol'\n",
        "             \t      ,'malicAcid'\n",
        "             \t      ,'ash'\n",
        "                    ,'ashalcalinity'\n",
        "             \t      ,'magnesium'\n",
        "            \t      ,'totalPhenols'\n",
        "             \t      ,'flavanoids'\n",
        "                    ,'nonFlavanoidPhenols'\n",
        "             \t      ,'proanthocyanins'\n",
        "            \t      ,'colorIntensity'\n",
        "             \t      ,'hue'\n",
        "             \t      ,'od280_od315'\n",
        "             \t      ,'proline'\n",
        "                      ]\n",
        "\n",
        "wines_data.head(5)"
      ],
      "execution_count": 9,
      "outputs": [
        {
          "output_type": "execute_result",
          "data": {
            "text/html": [
              "<div>\n",
              "<style scoped>\n",
              "    .dataframe tbody tr th:only-of-type {\n",
              "        vertical-align: middle;\n",
              "    }\n",
              "\n",
              "    .dataframe tbody tr th {\n",
              "        vertical-align: top;\n",
              "    }\n",
              "\n",
              "    .dataframe thead th {\n",
              "        text-align: right;\n",
              "    }\n",
              "</style>\n",
              "<table border=\"1\" class=\"dataframe\">\n",
              "  <thead>\n",
              "    <tr style=\"text-align: right;\">\n",
              "      <th></th>\n",
              "      <th>name</th>\n",
              "      <th>alcohol</th>\n",
              "      <th>malicAcid</th>\n",
              "      <th>ash</th>\n",
              "      <th>ashalcalinity</th>\n",
              "      <th>magnesium</th>\n",
              "      <th>totalPhenols</th>\n",
              "      <th>flavanoids</th>\n",
              "      <th>nonFlavanoidPhenols</th>\n",
              "      <th>proanthocyanins</th>\n",
              "      <th>colorIntensity</th>\n",
              "      <th>hue</th>\n",
              "      <th>od280_od315</th>\n",
              "      <th>proline</th>\n",
              "    </tr>\n",
              "  </thead>\n",
              "  <tbody>\n",
              "    <tr>\n",
              "      <th>0</th>\n",
              "      <td>1</td>\n",
              "      <td>13.20</td>\n",
              "      <td>1.78</td>\n",
              "      <td>2.14</td>\n",
              "      <td>11.2</td>\n",
              "      <td>100</td>\n",
              "      <td>2.65</td>\n",
              "      <td>2.76</td>\n",
              "      <td>0.26</td>\n",
              "      <td>1.28</td>\n",
              "      <td>4.38</td>\n",
              "      <td>1.05</td>\n",
              "      <td>3.40</td>\n",
              "      <td>1050</td>\n",
              "    </tr>\n",
              "    <tr>\n",
              "      <th>1</th>\n",
              "      <td>1</td>\n",
              "      <td>13.16</td>\n",
              "      <td>2.36</td>\n",
              "      <td>2.67</td>\n",
              "      <td>18.6</td>\n",
              "      <td>101</td>\n",
              "      <td>2.80</td>\n",
              "      <td>3.24</td>\n",
              "      <td>0.30</td>\n",
              "      <td>2.81</td>\n",
              "      <td>5.68</td>\n",
              "      <td>1.03</td>\n",
              "      <td>3.17</td>\n",
              "      <td>1185</td>\n",
              "    </tr>\n",
              "    <tr>\n",
              "      <th>2</th>\n",
              "      <td>1</td>\n",
              "      <td>14.37</td>\n",
              "      <td>1.95</td>\n",
              "      <td>2.50</td>\n",
              "      <td>16.8</td>\n",
              "      <td>113</td>\n",
              "      <td>3.85</td>\n",
              "      <td>3.49</td>\n",
              "      <td>0.24</td>\n",
              "      <td>2.18</td>\n",
              "      <td>7.80</td>\n",
              "      <td>0.86</td>\n",
              "      <td>3.45</td>\n",
              "      <td>1480</td>\n",
              "    </tr>\n",
              "    <tr>\n",
              "      <th>3</th>\n",
              "      <td>1</td>\n",
              "      <td>13.24</td>\n",
              "      <td>2.59</td>\n",
              "      <td>2.87</td>\n",
              "      <td>21.0</td>\n",
              "      <td>118</td>\n",
              "      <td>2.80</td>\n",
              "      <td>2.69</td>\n",
              "      <td>0.39</td>\n",
              "      <td>1.82</td>\n",
              "      <td>4.32</td>\n",
              "      <td>1.04</td>\n",
              "      <td>2.93</td>\n",
              "      <td>735</td>\n",
              "    </tr>\n",
              "    <tr>\n",
              "      <th>4</th>\n",
              "      <td>1</td>\n",
              "      <td>14.20</td>\n",
              "      <td>1.76</td>\n",
              "      <td>2.45</td>\n",
              "      <td>15.2</td>\n",
              "      <td>112</td>\n",
              "      <td>3.27</td>\n",
              "      <td>3.39</td>\n",
              "      <td>0.34</td>\n",
              "      <td>1.97</td>\n",
              "      <td>6.75</td>\n",
              "      <td>1.05</td>\n",
              "      <td>2.85</td>\n",
              "      <td>1450</td>\n",
              "    </tr>\n",
              "  </tbody>\n",
              "</table>\n",
              "</div>"
            ],
            "text/plain": [
              "   name  alcohol  malicAcid   ash  ...  colorIntensity   hue  od280_od315  proline\n",
              "0     1    13.20       1.78  2.14  ...            4.38  1.05         3.40     1050\n",
              "1     1    13.16       2.36  2.67  ...            5.68  1.03         3.17     1185\n",
              "2     1    14.37       1.95  2.50  ...            7.80  0.86         3.45     1480\n",
              "3     1    13.24       2.59  2.87  ...            4.32  1.04         2.93      735\n",
              "4     1    14.20       1.76  2.45  ...            6.75  1.05         2.85     1450\n",
              "\n",
              "[5 rows x 14 columns]"
            ]
          },
          "metadata": {
            "tags": []
          },
          "execution_count": 9
        }
      ]
    },
    {
      "cell_type": "code",
      "metadata": {
        "id": "f5RPBdP2MYZY",
        "colab_type": "code",
        "colab": {
          "base_uri": "https://localhost:8080/",
          "height": 833
        },
        "outputId": "0450e663-a622-41e2-99b2-0b2db3244812"
      },
      "source": [
        "print(wines_data.info())\n",
        "print(wines_data.describe())\n",
        "print(wines_data.isnull().sum())"
      ],
      "execution_count": 13,
      "outputs": [
        {
          "output_type": "stream",
          "text": [
            "<class 'pandas.core.frame.DataFrame'>\n",
            "RangeIndex: 177 entries, 0 to 176\n",
            "Data columns (total 14 columns):\n",
            " #   Column               Non-Null Count  Dtype  \n",
            "---  ------               --------------  -----  \n",
            " 0   name                 177 non-null    int64  \n",
            " 1   alcohol              177 non-null    float64\n",
            " 2   malicAcid            177 non-null    float64\n",
            " 3   ash                  177 non-null    float64\n",
            " 4   ashalcalinity        177 non-null    float64\n",
            " 5   magnesium            177 non-null    int64  \n",
            " 6   totalPhenols         177 non-null    float64\n",
            " 7   flavanoids           177 non-null    float64\n",
            " 8   nonFlavanoidPhenols  177 non-null    float64\n",
            " 9   proanthocyanins      177 non-null    float64\n",
            " 10  colorIntensity       177 non-null    float64\n",
            " 11  hue                  177 non-null    float64\n",
            " 12  od280_od315          177 non-null    float64\n",
            " 13  proline              177 non-null    int64  \n",
            "dtypes: float64(11), int64(3)\n",
            "memory usage: 19.5 KB\n",
            "None\n",
            "             name     alcohol   malicAcid  ...         hue  od280_od315      proline\n",
            "count  177.000000  177.000000  177.000000  ...  177.000000   177.000000   177.000000\n",
            "mean     1.943503   12.993672    2.339887  ...    0.956983     2.604294   745.096045\n",
            "std      0.773991    0.808808    1.119314  ...    0.229135     0.705103   314.884046\n",
            "min      1.000000   11.030000    0.740000  ...    0.480000     1.270000   278.000000\n",
            "25%      1.000000   12.360000    1.600000  ...    0.780000     1.930000   500.000000\n",
            "50%      2.000000   13.050000    1.870000  ...    0.960000     2.780000   672.000000\n",
            "75%      3.000000   13.670000    3.100000  ...    1.120000     3.170000   985.000000\n",
            "max      3.000000   14.830000    5.800000  ...    1.710000     4.000000  1680.000000\n",
            "\n",
            "[8 rows x 14 columns]\n",
            "name                   0\n",
            "alcohol                0\n",
            "malicAcid              0\n",
            "ash                    0\n",
            "ashalcalinity          0\n",
            "magnesium              0\n",
            "totalPhenols           0\n",
            "flavanoids             0\n",
            "nonFlavanoidPhenols    0\n",
            "proanthocyanins        0\n",
            "colorIntensity         0\n",
            "hue                    0\n",
            "od280_od315            0\n",
            "proline                0\n",
            "dtype: int64\n"
          ],
          "name": "stdout"
        }
      ]
    },
    {
      "cell_type": "code",
      "metadata": {
        "id": "gQ1itZtOc-F6",
        "colab_type": "code",
        "colab": {
          "base_uri": "https://localhost:8080/",
          "height": 729
        },
        "outputId": "c7a9142d-62a3-440c-d5d2-f16068793344"
      },
      "source": [
        "# see distributions\n",
        "\n",
        "f, axes = plt.subplots(4, 4, figsize=(10, 10))\n",
        "sns.despine(left=True)\n",
        "\n",
        "sns.distplot(wines_data['alcohol'], color='b', ax=axes[0, 0])\n",
        "sns.distplot(wines_data['malicAcid'], color='m', ax=axes[0, 1])\n",
        "sns.distplot(wines_data['ash'], color='r', ax=axes[0, 2])\n",
        "sns.distplot(wines_data['ashalcalinity'], color='g', ax=axes[0, 3])\n",
        "\n",
        "\n",
        "sns.distplot(wines_data['magnesium'], color='b', ax=axes[1, 0])\n",
        "sns.distplot(wines_data['totalPhenols'], color='m', ax=axes[1, 1])\n",
        "sns.distplot(wines_data['flavanoids'], color='r', ax=axes[1, 2])\n",
        "sns.distplot(wines_data['nonFlavanoidPhenols'], color='g', ax=axes[1, 3])\n",
        "\n",
        "sns.distplot(wines_data['proanthocyanins'], color='b', ax=axes[2, 0])\n",
        "sns.distplot(wines_data['colorIntensity'], color='m', ax=axes[2, 1])\n",
        "sns.distplot(wines_data['hue'], color='r', ax=axes[2, 2])\n",
        "sns.distplot(wines_data['od280_od315'], color='g', ax=axes[2, 3])\n",
        "\n",
        "sns.distplot(wines_data['proline'], color='g', ax=axes[3, 0])\n",
        "\n",
        "plt.setp(axes, yticks=[])\n",
        "plt.tight_layout()"
      ],
      "execution_count": 77,
      "outputs": [
        {
          "output_type": "display_data",
          "data": {
            "image/png": "[encoded data removed]",
            "text/plain": [
              "<Figure size 720x720 with 16 Axes>"
            ]
          },
          "metadata": {
            "tags": [],
            "needs_background": "light"
          }
        }
      ]
    },
    {
      "cell_type": "code",
      "metadata": {
        "id": "88icXiM-gGSj",
        "colab_type": "code",
        "colab": {
          "base_uri": "https://localhost:8080/",
          "height": 320
        },
        "outputId": "43d131f7-69bf-4781-b412-72c6f58f4cfe"
      },
      "source": [
        "wine_names = pd.DataFrame(wines_data['name'].value_counts().sort_values(ascending=False))\n",
        "plt.figure(figsize=(5,5))\n",
        "ax = sns.barplot(x = wine_names.index, y = 'name' , data = wine_names)"
      ],
      "execution_count": 90,
      "outputs": [
        {
          "output_type": "display_data",
          "data": {
            "image/png": "[encoded data removed]",
            "text/plain": [
              "<Figure size 360x360 with 1 Axes>"
            ]
          },
          "metadata": {
            "tags": [],
            "needs_background": "light"
          }
        }
      ]
    },
    {
      "cell_type": "markdown",
      "metadata": {
        "id": "hQNMvvYDgTUP",
        "colab_type": "text"
      },
      "source": [
        "The biggest wine`s class is 2."
      ]
    },
    {
      "cell_type": "code",
      "metadata": {
        "id": "hpXont_Me29b",
        "colab_type": "code",
        "colab": {
          "base_uri": "https://localhost:8080/",
          "height": 369
        },
        "outputId": "0ffed658-e6db-42d6-e5d1-28c800489b21"
      },
      "source": [
        "ax = sns.catplot(x = 'name', y = 'alcohol', kind = \"box\", data = wines_data)\n",
        "ax.fig.set_size_inches(5, 5)"
      ],
      "execution_count": 87,
      "outputs": [
        {
          "output_type": "display_data",
          "data": {
            "image/png": "[encoded data removed]",
            "text/plain": [
              "<Figure size 360x360 with 1 Axes>"
            ]
          },
          "metadata": {
            "tags": [],
            "needs_background": "light"
          }
        }
      ]
    },
    {
      "cell_type": "markdown",
      "metadata": {
        "id": "pe5QyjeDgeUD",
        "colab_type": "text"
      },
      "source": [
        "The first class wines are the most alcoholic."
      ]
    },
    {
      "cell_type": "code",
      "metadata": {
        "id": "Zt2WdCzGfqtI",
        "colab_type": "code",
        "colab": {
          "base_uri": "https://localhost:8080/",
          "height": 369
        },
        "outputId": "32637489-1709-4578-bf40-3c15d3fcc390"
      },
      "source": [
        "ax = sns.catplot(x = 'name', y = 'colorIntensity', kind = \"box\", data = wines_data)\n",
        "ax.fig.set_size_inches(5, 5)"
      ],
      "execution_count": 88,
      "outputs": [
        {
          "output_type": "display_data",
          "data": {
            "image/png": "[encoded data removed]",
            "text/plain": [
              "<Figure size 360x360 with 1 Axes>"
            ]
          },
          "metadata": {
            "tags": [],
            "needs_background": "light"
          }
        }
      ]
    },
    {
      "cell_type": "markdown",
      "metadata": {
        "id": "lNn6x7rMgksx",
        "colab_type": "text"
      },
      "source": [
        "The third class wines have the most color intensity."
      ]
    },
    {
      "cell_type": "code",
      "metadata": {
        "id": "gAcEmb2vMlS3",
        "colab_type": "code",
        "colab": {
          "base_uri": "https://localhost:8080/",
          "height": 831
        },
        "outputId": "b9221ab9-ec28-4450-9bd0-31aa503b230c"
      },
      "source": [
        "# See correlation btw features\n",
        "corr = wines_data.corr()\n",
        "mask = np.zeros_like(corr, dtype=np.bool)\n",
        "mask[np.triu_indices_from(mask)] = True\n",
        "f, ax = plt.subplots(figsize=(15, 15))\n",
        "cmap = sns.diverging_palette(220, 10, as_cmap=True)\n",
        "sns.heatmap(corr, mask=mask, cmap=cmap, vmax=.3, center=0,square=True, linewidths=.5, cbar_kws={\"shrink\": .5}, annot = True)"
      ],
      "execution_count": 15,
      "outputs": [
        {
          "output_type": "execute_result",
          "data": {
            "text/plain": [
              "<matplotlib.axes._subplots.AxesSubplot at 0x7f4ff53fc1d0>"
            ]
          },
          "metadata": {
            "tags": []
          },
          "execution_count": 15
        },
        {
          "output_type": "display_data",
          "data": {
            "image/png": "[encoded data removed]",
            "text/plain": [
              "<Figure size 1080x1080 with 2 Axes>"
            ]
          },
          "metadata": {
            "tags": [],
            "needs_background": "light"
          }
        }
      ]
    },
    {
      "cell_type": "markdown",
      "metadata": {
        "id": "UlkoH1PXNwmf",
        "colab_type": "text"
      },
      "source": [
        "- The closer the correlation value is to 0, the weaker the related features are.\n",
        "\n",
        "- The closer the correlation value is to | 1 |, the stronger the relationship of features, with a correlation equal to 1, the relationship is linear and the feature can be removed.\n",
        "\n",
        "According to the correlation results, we can try to drop ash, totalPhenols and proline features, bcs the have the highest mean."
      ]
    },
    {
      "cell_type": "code",
      "metadata": {
        "id": "fY_ND8XhQFuq",
        "colab_type": "code",
        "colab": {
          "base_uri": "https://localhost:8080/",
          "height": 204
        },
        "outputId": "ec2abc0f-6e70-4268-cf32-175206ae0b5e"
      },
      "source": [
        "wines_data_droped = wines_data.drop(['name','ash', 'totalPhenols',  'proline'], axis=1)\n",
        "wines_data_droped .head(5)"
      ],
      "execution_count": 18,
      "outputs": [
        {
          "output_type": "execute_result",
          "data": {
            "text/html": [
              "<div>\n",
              "<style scoped>\n",
              "    .dataframe tbody tr th:only-of-type {\n",
              "        vertical-align: middle;\n",
              "    }\n",
              "\n",
              "    .dataframe tbody tr th {\n",
              "        vertical-align: top;\n",
              "    }\n",
              "\n",
              "    .dataframe thead th {\n",
              "        text-align: right;\n",
              "    }\n",
              "</style>\n",
              "<table border=\"1\" class=\"dataframe\">\n",
              "  <thead>\n",
              "    <tr style=\"text-align: right;\">\n",
              "      <th></th>\n",
              "      <th>alcohol</th>\n",
              "      <th>malicAcid</th>\n",
              "      <th>ashalcalinity</th>\n",
              "      <th>magnesium</th>\n",
              "      <th>flavanoids</th>\n",
              "      <th>nonFlavanoidPhenols</th>\n",
              "      <th>proanthocyanins</th>\n",
              "      <th>colorIntensity</th>\n",
              "      <th>hue</th>\n",
              "      <th>od280_od315</th>\n",
              "    </tr>\n",
              "  </thead>\n",
              "  <tbody>\n",
              "    <tr>\n",
              "      <th>0</th>\n",
              "      <td>13.20</td>\n",
              "      <td>1.78</td>\n",
              "      <td>11.2</td>\n",
              "      <td>100</td>\n",
              "      <td>2.76</td>\n",
              "      <td>0.26</td>\n",
              "      <td>1.28</td>\n",
              "      <td>4.38</td>\n",
              "      <td>1.05</td>\n",
              "      <td>3.40</td>\n",
              "    </tr>\n",
              "    <tr>\n",
              "      <th>1</th>\n",
              "      <td>13.16</td>\n",
              "      <td>2.36</td>\n",
              "      <td>18.6</td>\n",
              "      <td>101</td>\n",
              "      <td>3.24</td>\n",
              "      <td>0.30</td>\n",
              "      <td>2.81</td>\n",
              "      <td>5.68</td>\n",
              "      <td>1.03</td>\n",
              "      <td>3.17</td>\n",
              "    </tr>\n",
              "    <tr>\n",
              "      <th>2</th>\n",
              "      <td>14.37</td>\n",
              "      <td>1.95</td>\n",
              "      <td>16.8</td>\n",
              "      <td>113</td>\n",
              "      <td>3.49</td>\n",
              "      <td>0.24</td>\n",
              "      <td>2.18</td>\n",
              "      <td>7.80</td>\n",
              "      <td>0.86</td>\n",
              "      <td>3.45</td>\n",
              "    </tr>\n",
              "    <tr>\n",
              "      <th>3</th>\n",
              "      <td>13.24</td>\n",
              "      <td>2.59</td>\n",
              "      <td>21.0</td>\n",
              "      <td>118</td>\n",
              "      <td>2.69</td>\n",
              "      <td>0.39</td>\n",
              "      <td>1.82</td>\n",
              "      <td>4.32</td>\n",
              "      <td>1.04</td>\n",
              "      <td>2.93</td>\n",
              "    </tr>\n",
              "    <tr>\n",
              "      <th>4</th>\n",
              "      <td>14.20</td>\n",
              "      <td>1.76</td>\n",
              "      <td>15.2</td>\n",
              "      <td>112</td>\n",
              "      <td>3.39</td>\n",
              "      <td>0.34</td>\n",
              "      <td>1.97</td>\n",
              "      <td>6.75</td>\n",
              "      <td>1.05</td>\n",
              "      <td>2.85</td>\n",
              "    </tr>\n",
              "  </tbody>\n",
              "</table>\n",
              "</div>"
            ],
            "text/plain": [
              "   alcohol  malicAcid  ashalcalinity  ...  colorIntensity   hue  od280_od315\n",
              "0    13.20       1.78           11.2  ...            4.38  1.05         3.40\n",
              "1    13.16       2.36           18.6  ...            5.68  1.03         3.17\n",
              "2    14.37       1.95           16.8  ...            7.80  0.86         3.45\n",
              "3    13.24       2.59           21.0  ...            4.32  1.04         2.93\n",
              "4    14.20       1.76           15.2  ...            6.75  1.05         2.85\n",
              "\n",
              "[5 rows x 10 columns]"
            ]
          },
          "metadata": {
            "tags": []
          },
          "execution_count": 18
        }
      ]
    },
    {
      "cell_type": "markdown",
      "metadata": {
        "id": "knKeqyUUQmBx",
        "colab_type": "text"
      },
      "source": [
        "# Try different classification models."
      ]
    },
    {
      "cell_type": "code",
      "metadata": {
        "id": "QJ-qJmNZQVcX",
        "colab_type": "code",
        "colab": {}
      },
      "source": [
        "from sklearn.model_selection import train_test_split\n",
        "\n",
        "# create train-test data\n",
        "X_train, X_test, Y_train, Y_test = train_test_split(wines_data_droped, wines_data['name'], test_size = 0.3, random_state = 42)"
      ],
      "execution_count": 19,
      "outputs": []
    },
    {
      "cell_type": "code",
      "metadata": {
        "id": "i82z1CdyQjND",
        "colab_type": "code",
        "colab": {}
      },
      "source": [
        "# import classificators \n",
        "from sklearn.model_selection import KFold\n",
        "from sklearn.linear_model import LogisticRegression\n",
        "from sklearn.naive_bayes import GaussianNB\n",
        "from sklearn.neighbors import KNeighborsClassifier\n",
        "from sklearn.tree import DecisionTreeClassifier\n",
        "from sklearn.svm import SVC\n",
        "from sklearn.neural_network import MLPClassifier\n",
        "from sklearn.ensemble import RandomForestClassifier\n",
        "from xgboost import XGBClassifier\n",
        "from sklearn.ensemble import AdaBoostClassifier\n",
        "from sklearn.ensemble import GradientBoostingClassifier"
      ],
      "execution_count": 21,
      "outputs": []
    },
    {
      "cell_type": "code",
      "metadata": {
        "id": "itQh0X_OUudA",
        "colab_type": "code",
        "colab": {
          "base_uri": "https://localhost:8080/",
          "height": 483
        },
        "outputId": "44c05c8a-c1c8-4106-a99a-7edea9be92b2"
      },
      "source": [
        "# Create DataFrame, where we will save the results\n",
        "results = {'Classificators': ['Logistic regression', 'Naive Bayes', 'K-Nearest Neighbour', 'Decision Tree',\n",
        "                            'Support Vector Machine-linear', 'Support Vector Machine-poly', 'Support Vector Machine-sigmoid',\n",
        "                            'Support Vector Machine-rbf', 'Random Forest', 'eXtreme Gradient Boost',\n",
        "                            'MLP', 'AdaBoostClassifier', 'GradientBoostingClassifier'], 'Accuracy': np.zeros(13)}\n",
        "results = pd.DataFrame(results).set_index('Classificators')\n",
        "results"
      ],
      "execution_count": 58,
      "outputs": [
        {
          "output_type": "execute_result",
          "data": {
            "text/html": [
              "<div>\n",
              "<style scoped>\n",
              "    .dataframe tbody tr th:only-of-type {\n",
              "        vertical-align: middle;\n",
              "    }\n",
              "\n",
              "    .dataframe tbody tr th {\n",
              "        vertical-align: top;\n",
              "    }\n",
              "\n",
              "    .dataframe thead th {\n",
              "        text-align: right;\n",
              "    }\n",
              "</style>\n",
              "<table border=\"1\" class=\"dataframe\">\n",
              "  <thead>\n",
              "    <tr style=\"text-align: right;\">\n",
              "      <th></th>\n",
              "      <th>Accuracy</th>\n",
              "    </tr>\n",
              "    <tr>\n",
              "      <th>Classificators</th>\n",
              "      <th></th>\n",
              "    </tr>\n",
              "  </thead>\n",
              "  <tbody>\n",
              "    <tr>\n",
              "      <th>Logistic regression</th>\n",
              "      <td>0.0</td>\n",
              "    </tr>\n",
              "    <tr>\n",
              "      <th>Naive Bayes</th>\n",
              "      <td>0.0</td>\n",
              "    </tr>\n",
              "    <tr>\n",
              "      <th>K-Nearest Neighbour</th>\n",
              "      <td>0.0</td>\n",
              "    </tr>\n",
              "    <tr>\n",
              "      <th>Decision Tree</th>\n",
              "      <td>0.0</td>\n",
              "    </tr>\n",
              "    <tr>\n",
              "      <th>Support Vector Machine-linear</th>\n",
              "      <td>0.0</td>\n",
              "    </tr>\n",
              "    <tr>\n",
              "      <th>Support Vector Machine-poly</th>\n",
              "      <td>0.0</td>\n",
              "    </tr>\n",
              "    <tr>\n",
              "      <th>Support Vector Machine-sigmoid</th>\n",
              "      <td>0.0</td>\n",
              "    </tr>\n",
              "    <tr>\n",
              "      <th>Support Vector Machine-rbf</th>\n",
              "      <td>0.0</td>\n",
              "    </tr>\n",
              "    <tr>\n",
              "      <th>Random Forest</th>\n",
              "      <td>0.0</td>\n",
              "    </tr>\n",
              "    <tr>\n",
              "      <th>eXtreme Gradient Boost</th>\n",
              "      <td>0.0</td>\n",
              "    </tr>\n",
              "    <tr>\n",
              "      <th>MLP</th>\n",
              "      <td>0.0</td>\n",
              "    </tr>\n",
              "    <tr>\n",
              "      <th>AdaBoostClassifier</th>\n",
              "      <td>0.0</td>\n",
              "    </tr>\n",
              "    <tr>\n",
              "      <th>GradientBoostingClassifier</th>\n",
              "      <td>0.0</td>\n",
              "    </tr>\n",
              "  </tbody>\n",
              "</table>\n",
              "</div>"
            ],
            "text/plain": [
              "                                Accuracy\n",
              "Classificators                          \n",
              "Logistic regression                  0.0\n",
              "Naive Bayes                          0.0\n",
              "K-Nearest Neighbour                  0.0\n",
              "Decision Tree                        0.0\n",
              "Support Vector Machine-linear        0.0\n",
              "Support Vector Machine-poly          0.0\n",
              "Support Vector Machine-sigmoid       0.0\n",
              "Support Vector Machine-rbf           0.0\n",
              "Random Forest                        0.0\n",
              "eXtreme Gradient Boost               0.0\n",
              "MLP                                  0.0\n",
              "AdaBoostClassifier                   0.0\n",
              "GradientBoostingClassifier           0.0"
            ]
          },
          "metadata": {
            "tags": []
          },
          "execution_count": 58
        }
      ]
    },
    {
      "cell_type": "code",
      "metadata": {
        "id": "BtXOAC7TRRit",
        "colab_type": "code",
        "colab": {}
      },
      "source": [
        "kfold = KFold(n_splits = 10)\n",
        "\n",
        "# Logistic regression\n",
        "classificator = LogisticRegression(solver='lbfgs',class_weight='balanced', max_iter=10000)\n",
        "cv_result = cross_val_score(classificator, X_train, Y_train.values.ravel(), cv = kfold, scoring = \"accuracy\")\n",
        "results['Accuracy'][0] = cv_result.mean()\n",
        "\n",
        "# Naive Bayes\n",
        "classificator = GaussianNB()\n",
        "cv_result = cross_val_score(classificator, X_train, Y_train.values.ravel(), cv = kfold, scoring = \"accuracy\")\n",
        "results['Accuracy'][1] = cv_result.mean()\n",
        "\n",
        "# K-Nearest Neighbour\n",
        "classificator = KNeighborsClassifier(n_neighbors = 3)\n",
        "cv_result = cross_val_score(classificator, X_train, Y_train.values.ravel(), cv = kfold, scoring = \"accuracy\")\n",
        "results['Accuracy'][2] = cv_result.mean()\n",
        "\n",
        "# Decision Tree\n",
        "classificator = DecisionTreeClassifier()\n",
        "cv_result = cross_val_score(classificator, X_train, Y_train.values.ravel(), cv = kfold, scoring = \"accuracy\")\n",
        "results['Accuracy'][3] = cv_result.mean()\n",
        "\n",
        "# Support Vector Machine-linear\n",
        "classificator = SVC(kernel=\"linear\")\n",
        "cv_result = cross_val_score(classificator, X_train, Y_train.values.ravel(), cv = kfold, scoring = \"accuracy\")\n",
        "results['Accuracy'][4] = cv_result.mean()\n",
        "\n",
        "# Support Vector Machine-poly\n",
        "classificator = SVC(kernel=\"poly\")\n",
        "cv_result = cross_val_score(classificator, X_train, Y_train.values.ravel(), cv = kfold, scoring = \"accuracy\")\n",
        "results['Accuracy'][5] = cv_result.mean()\n",
        "\n",
        "# Support Vector Machine-sigmoid\n",
        "classificator = SVC(kernel=\"sigmoid\")\n",
        "cv_result = cross_val_score(classificator, X_train, Y_train.values.ravel(), cv = kfold, scoring = \"accuracy\")\n",
        "results['Accuracy'][6] = cv_result.mean()\n",
        "\n",
        "# Support Vector Machine-rbf\t\n",
        "classificator = SVC(kernel=\"rbf\")\n",
        "cv_result = cross_val_score(classificator, X_train, Y_train.values.ravel(), cv = kfold, scoring = \"accuracy\")\n",
        "results['Accuracy'][7] = cv_result.mean()\n",
        "\n",
        "# Random Forest\n",
        "classificator = RandomForestClassifier(n_estimators=7)\n",
        "cv_result = cross_val_score(classificator, X_train, Y_train.values.ravel(), cv = kfold, scoring = \"accuracy\")\n",
        "results['Accuracy'][8] = cv_result.mean()\n",
        "\n",
        "# eXtreme Gradient Boost\n",
        "classificator =  XGBClassifier()\n",
        "cv_result = cross_val_score(classificator, X_train, Y_train.values.ravel(), cv = kfold, scoring = \"accuracy\")\n",
        "results['Accuracy'][9] = cv_result.mean()\n",
        "\n",
        "# MLP\n",
        "classificator = MLPClassifier(hidden_layer_sizes=(45,30,15), solver='sgd', learning_rate_init=0.01, max_iter=500)\n",
        "cv_result = cross_val_score(classificator, X_train, Y_train.values.ravel(), cv = kfold, scoring = \"accuracy\")\n",
        "results['Accuracy'][10] = cv_result.mean()\n",
        "\n",
        "# AdaBoostClassifier\n",
        "classificator = AdaBoostClassifier()\n",
        "cv_result = cross_val_score(classificator, X_train, Y_train.values.ravel(), cv = kfold, scoring = \"accuracy\")\n",
        "results['Accuracy'][11] = cv_result.mean()\n",
        "\n",
        "# GradientBoostingClassifier\n",
        "classificator = GradientBoostingClassifier()\n",
        "cv_result = cross_val_score(classificator, X_train, Y_train.values.ravel(), cv = kfold, scoring = \"accuracy\")\n",
        "results['Accuracy'][12] = cv_result.mean()"
      ],
      "execution_count": 65,
      "outputs": []
    },
    {
      "cell_type": "code",
      "metadata": {
        "id": "O0cr-ALJWZxb",
        "colab_type": "code",
        "colab": {
          "base_uri": "https://localhost:8080/",
          "height": 483
        },
        "outputId": "2ce1055f-caba-4924-f2c7-4bc588c267ab"
      },
      "source": [
        "results"
      ],
      "execution_count": 69,
      "outputs": [
        {
          "output_type": "execute_result",
          "data": {
            "text/html": [
              "<div>\n",
              "<style scoped>\n",
              "    .dataframe tbody tr th:only-of-type {\n",
              "        vertical-align: middle;\n",
              "    }\n",
              "\n",
              "    .dataframe tbody tr th {\n",
              "        vertical-align: top;\n",
              "    }\n",
              "\n",
              "    .dataframe thead th {\n",
              "        text-align: right;\n",
              "    }\n",
              "</style>\n",
              "<table border=\"1\" class=\"dataframe\">\n",
              "  <thead>\n",
              "    <tr style=\"text-align: right;\">\n",
              "      <th></th>\n",
              "      <th>Accuracy</th>\n",
              "    </tr>\n",
              "    <tr>\n",
              "      <th>Classificators</th>\n",
              "      <th></th>\n",
              "    </tr>\n",
              "  </thead>\n",
              "  <tbody>\n",
              "    <tr>\n",
              "      <th>Logistic regression</th>\n",
              "      <td>0.967949</td>\n",
              "    </tr>\n",
              "    <tr>\n",
              "      <th>Naive Bayes</th>\n",
              "      <td>0.968590</td>\n",
              "    </tr>\n",
              "    <tr>\n",
              "      <th>K-Nearest Neighbour</th>\n",
              "      <td>0.839103</td>\n",
              "    </tr>\n",
              "    <tr>\n",
              "      <th>Decision Tree</th>\n",
              "      <td>0.893590</td>\n",
              "    </tr>\n",
              "    <tr>\n",
              "      <th>Support Vector Machine-linear</th>\n",
              "      <td>0.975641</td>\n",
              "    </tr>\n",
              "    <tr>\n",
              "      <th>Support Vector Machine-poly</th>\n",
              "      <td>0.535256</td>\n",
              "    </tr>\n",
              "    <tr>\n",
              "      <th>Support Vector Machine-sigmoid</th>\n",
              "      <td>0.405769</td>\n",
              "    </tr>\n",
              "    <tr>\n",
              "      <th>Support Vector Machine-rbf</th>\n",
              "      <td>0.526923</td>\n",
              "    </tr>\n",
              "    <tr>\n",
              "      <th>Random Forest</th>\n",
              "      <td>0.976282</td>\n",
              "    </tr>\n",
              "    <tr>\n",
              "      <th>eXtreme Gradient Boost</th>\n",
              "      <td>0.951282</td>\n",
              "    </tr>\n",
              "    <tr>\n",
              "      <th>MLP</th>\n",
              "      <td>0.314744</td>\n",
              "    </tr>\n",
              "    <tr>\n",
              "      <th>AdaBoostClassifier</th>\n",
              "      <td>0.901923</td>\n",
              "    </tr>\n",
              "    <tr>\n",
              "      <th>GradientBoostingClassifier</th>\n",
              "      <td>0.942308</td>\n",
              "    </tr>\n",
              "  </tbody>\n",
              "</table>\n",
              "</div>"
            ],
            "text/plain": [
              "                                Accuracy\n",
              "Classificators                          \n",
              "Logistic regression             0.967949\n",
              "Naive Bayes                     0.968590\n",
              "K-Nearest Neighbour             0.839103\n",
              "Decision Tree                   0.893590\n",
              "Support Vector Machine-linear   0.975641\n",
              "Support Vector Machine-poly     0.535256\n",
              "Support Vector Machine-sigmoid  0.405769\n",
              "Support Vector Machine-rbf      0.526923\n",
              "Random Forest                   0.976282\n",
              "eXtreme Gradient Boost          0.951282\n",
              "MLP                             0.314744\n",
              "AdaBoostClassifier              0.901923\n",
              "GradientBoostingClassifier      0.942308"
            ]
          },
          "metadata": {
            "tags": []
          },
          "execution_count": 69
        }
      ]
    },
    {
      "cell_type": "markdown",
      "metadata": {
        "id": "dW8D2F1NY1AJ",
        "colab_type": "text"
      },
      "source": [
        "Random Forest gave the best result (0.976282), MLP gave the worst result (0.314744)"
      ]
    },
    {
      "cell_type": "markdown",
      "metadata": {
        "id": "at-RoZzjbEZM",
        "colab_type": "text"
      },
      "source": [
        "Now, explore the best classificators to predict, bcs analysis above is basic, it helps select some algorithms.\n",
        "\n",
        "The best classificators have accuracy > 0.95\n"
      ]
    },
    {
      "cell_type": "code",
      "metadata": {
        "id": "ut_rKUpEZLUl",
        "colab_type": "code",
        "colab": {
          "base_uri": "https://localhost:8080/",
          "height": 187
        },
        "outputId": "cb2e53f7-dc31-49af-855b-4590f27a799d"
      },
      "source": [
        "# Naive Bayes predictions\n",
        "from sklearn.metrics import classification_report,confusion_matrix\n",
        "\n",
        "classificator = GaussianNB()\n",
        "classificator.fit(X_train, Y_train)\n",
        "predictions = classificator.predict(X_test)\n",
        "\n",
        "confusion_matrix(Y_test,predictions)\n",
        "print(classification_report(Y_test,predictions))"
      ],
      "execution_count": 71,
      "outputs": [
        {
          "output_type": "stream",
          "text": [
            "              precision    recall  f1-score   support\n",
            "\n",
            "           1       0.95      0.95      0.95        19\n",
            "           2       0.94      0.81      0.87        21\n",
            "           3       0.82      1.00      0.90        14\n",
            "\n",
            "    accuracy                           0.91        54\n",
            "   macro avg       0.91      0.92      0.91        54\n",
            "weighted avg       0.91      0.91      0.91        54\n",
            "\n"
          ],
          "name": "stdout"
        }
      ]
    },
    {
      "cell_type": "code",
      "metadata": {
        "id": "sO1HOUBxaz8e",
        "colab_type": "code",
        "colab": {
          "base_uri": "https://localhost:8080/",
          "height": 187
        },
        "outputId": "b1afca1a-6540-4993-b783-8918675e3934"
      },
      "source": [
        "# Logistic regression predictions\n",
        "\n",
        "classificator = LogisticRegression(solver='lbfgs',class_weight='balanced', max_iter=10000)\n",
        "classificator.fit(X_train, Y_train)\n",
        "predictions = classificator.predict(X_test)\n",
        "\n",
        "confusion_matrix(Y_test,predictions)\n",
        "print(classification_report(Y_test,predictions))"
      ],
      "execution_count": 72,
      "outputs": [
        {
          "output_type": "stream",
          "text": [
            "              precision    recall  f1-score   support\n",
            "\n",
            "           1       0.90      0.95      0.92        19\n",
            "           2       0.94      0.81      0.87        21\n",
            "           3       0.88      1.00      0.93        14\n",
            "\n",
            "    accuracy                           0.91        54\n",
            "   macro avg       0.91      0.92      0.91        54\n",
            "weighted avg       0.91      0.91      0.91        54\n",
            "\n"
          ],
          "name": "stdout"
        }
      ]
    },
    {
      "cell_type": "code",
      "metadata": {
        "id": "34TjgAFwbk5r",
        "colab_type": "code",
        "colab": {
          "base_uri": "https://localhost:8080/",
          "height": 187
        },
        "outputId": "d170a282-c209-41af-9d19-6a6cb5fefab1"
      },
      "source": [
        "# Random Forest predictions\n",
        "\n",
        "classificator = RandomForestClassifier(n_estimators=7)\n",
        "classificator.fit(X_train, Y_train)\n",
        "predictions = classificator.predict(X_test)\n",
        "\n",
        "confusion_matrix(Y_test,predictions)\n",
        "print(classification_report(Y_test,predictions))"
      ],
      "execution_count": 73,
      "outputs": [
        {
          "output_type": "stream",
          "text": [
            "              precision    recall  f1-score   support\n",
            "\n",
            "           1       0.90      1.00      0.95        19\n",
            "           2       1.00      0.81      0.89        21\n",
            "           3       0.88      1.00      0.93        14\n",
            "\n",
            "    accuracy                           0.93        54\n",
            "   macro avg       0.93      0.94      0.93        54\n",
            "weighted avg       0.93      0.93      0.92        54\n",
            "\n"
          ],
          "name": "stdout"
        }
      ]
    },
    {
      "cell_type": "code",
      "metadata": {
        "id": "zgOB9rF7btaL",
        "colab_type": "code",
        "colab": {
          "base_uri": "https://localhost:8080/",
          "height": 187
        },
        "outputId": "0c41d7b1-7ee6-4772-8f88-2fa02611bce0"
      },
      "source": [
        "# Support Vector Machine-linear predictions\n",
        "\n",
        "classificator = SVC(kernel=\"linear\")\n",
        "classificator.fit(X_train, Y_train)\n",
        "predictions = classificator.predict(X_test)\n",
        "\n",
        "confusion_matrix(Y_test,predictions)\n",
        "print(classification_report(Y_test,predictions))"
      ],
      "execution_count": 74,
      "outputs": [
        {
          "output_type": "stream",
          "text": [
            "              precision    recall  f1-score   support\n",
            "\n",
            "           1       0.90      0.95      0.92        19\n",
            "           2       0.94      0.81      0.87        21\n",
            "           3       0.88      1.00      0.93        14\n",
            "\n",
            "    accuracy                           0.91        54\n",
            "   macro avg       0.91      0.92      0.91        54\n",
            "weighted avg       0.91      0.91      0.91        54\n",
            "\n"
          ],
          "name": "stdout"
        }
      ]
    },
    {
      "cell_type": "code",
      "metadata": {
        "id": "C-GSTEFFb3ZD",
        "colab_type": "code",
        "colab": {
          "base_uri": "https://localhost:8080/",
          "height": 187
        },
        "outputId": "94eb3b93-9a11-4151-9c15-93567d73edba"
      },
      "source": [
        "# eXtreme Gradient Boost predictions\n",
        "\n",
        "classificator = XGBClassifier()\n",
        "classificator.fit(X_train, Y_train)\n",
        "predictions = classificator.predict(X_test)\n",
        "\n",
        "confusion_matrix(Y_test,predictions)\n",
        "print(classification_report(Y_test,predictions))"
      ],
      "execution_count": 75,
      "outputs": [
        {
          "output_type": "stream",
          "text": [
            "              precision    recall  f1-score   support\n",
            "\n",
            "           1       0.95      0.95      0.95        19\n",
            "           2       0.95      0.86      0.90        21\n",
            "           3       0.88      1.00      0.93        14\n",
            "\n",
            "    accuracy                           0.93        54\n",
            "   macro avg       0.92      0.93      0.93        54\n",
            "weighted avg       0.93      0.93      0.93        54\n",
            "\n"
          ],
          "name": "stdout"
        }
      ]
    },
    {
      "cell_type": "markdown",
      "metadata": {
        "id": "JLcBGvs2cVMy",
        "colab_type": "text"
      },
      "source": [
        "**The best result gave by eXtreme Gradient Boost and Random Forest.**\n"
      ]
    },
    {
      "cell_type": "code",
      "metadata": {
        "id": "ZZGMeYOgiiFn",
        "colab_type": "code",
        "colab": {}
      },
      "source": [
        "X_train, X_test, Y_train, Y_test = train_test_split(wines_data_droped, wines_data['name'], test_size = 0.3, random_state = 42)"
      ],
      "execution_count": null,
      "outputs": []
    }
  ]
}