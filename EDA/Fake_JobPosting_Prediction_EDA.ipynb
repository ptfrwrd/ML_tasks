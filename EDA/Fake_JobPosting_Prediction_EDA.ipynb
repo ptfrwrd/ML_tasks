{
<<<<<<< HEAD
 "cells": [
  {
   "cell_type": "code",
   "execution_count": 9,
   "metadata": {
    "colab": {
     "base_uri": "https://localhost:8080/",
     "height": 51
    },
    "colab_type": "code",
    "id": "Pu35lmtmES0a",
    "outputId": "6916913f-6e89-45f9-8963-8fe515b5122d",
    "pycharm": {
     "is_executing": true
    }
   },
   "outputs": [
    {
     "name": "stdout",
     "output_type": "stream",
     "text": [
      "real-or-fake-fake-jobposting-prediction.zip: Skipping, found more recently modified local copy (use --force to force download)\n"
     ]
    }
   ],
   "source": [
    "! kaggle datasets download -d  shivamb/real-or-fake-fake-jobposting-prediction"
   ]
  },
  {
   "cell_type": "markdown",
   "metadata": {
    "colab_type": "text",
    "id": "PykOGpzFE_dj"
   },
   "source": [
    "# Look at the data:\n",
    "\n",
    "- includes EDA analysis."
   ]
  },
  {
   "cell_type": "code",
   "execution_count": 11,
   "metadata": {
    "colab": {
     "base_uri": "https://localhost:8080/",
     "height": 547
    },
    "colab_type": "code",
    "id": "Qz9rmNM6EiLU",
    "outputId": "9abe91e6-8229-4fbd-d514-2439b1b23781",
    "pycharm": {
     "is_executing": true
    }
   },
   "outputs": [
    {
     "data": {
      "text/html": [
       "<div>\n",
       "<style scoped>\n",
       "    .dataframe tbody tr th:only-of-type {\n",
       "        vertical-align: middle;\n",
       "    }\n",
       "\n",
       "    .dataframe tbody tr th {\n",
       "        vertical-align: top;\n",
       "    }\n",
       "\n",
       "    .dataframe thead th {\n",
       "        text-align: right;\n",
       "    }\n",
       "</style>\n",
       "<table border=\"1\" class=\"dataframe\">\n",
       "  <thead>\n",
       "    <tr style=\"text-align: right;\">\n",
       "      <th></th>\n",
       "      <th>job_id</th>\n",
       "      <th>title</th>\n",
       "      <th>location</th>\n",
       "      <th>department</th>\n",
       "      <th>salary_range</th>\n",
       "      <th>company_profile</th>\n",
       "      <th>description</th>\n",
       "      <th>requirements</th>\n",
       "      <th>benefits</th>\n",
       "      <th>telecommuting</th>\n",
       "      <th>has_company_logo</th>\n",
       "      <th>has_questions</th>\n",
       "      <th>employment_type</th>\n",
       "      <th>required_experience</th>\n",
       "      <th>required_education</th>\n",
       "      <th>industry</th>\n",
       "      <th>function</th>\n",
       "      <th>fraudulent</th>\n",
       "    </tr>\n",
       "  </thead>\n",
       "  <tbody>\n",
       "    <tr>\n",
       "      <th>0</th>\n",
       "      <td>1</td>\n",
       "      <td>Marketing Intern</td>\n",
       "      <td>US, NY, New York</td>\n",
       "      <td>Marketing</td>\n",
       "      <td>NaN</td>\n",
       "      <td>We're Food52, and we've created a groundbreaki...</td>\n",
       "      <td>Food52, a fast-growing, James Beard Award-winn...</td>\n",
       "      <td>Experience with content management systems a m...</td>\n",
       "      <td>NaN</td>\n",
       "      <td>0</td>\n",
       "      <td>1</td>\n",
       "      <td>0</td>\n",
       "      <td>Other</td>\n",
       "      <td>Internship</td>\n",
       "      <td>NaN</td>\n",
       "      <td>NaN</td>\n",
       "      <td>Marketing</td>\n",
       "      <td>0</td>\n",
       "    </tr>\n",
       "    <tr>\n",
       "      <th>1</th>\n",
       "      <td>2</td>\n",
       "      <td>Customer Service - Cloud Video Production</td>\n",
       "      <td>NZ, , Auckland</td>\n",
       "      <td>Success</td>\n",
       "      <td>NaN</td>\n",
       "      <td>90 Seconds, the worlds Cloud Video Production ...</td>\n",
       "      <td>Organised - Focused - Vibrant - Awesome!Do you...</td>\n",
       "      <td>What we expect from you:Your key responsibilit...</td>\n",
       "      <td>What you will get from usThrough being part of...</td>\n",
       "      <td>0</td>\n",
       "      <td>1</td>\n",
       "      <td>0</td>\n",
       "      <td>Full-time</td>\n",
       "      <td>Not Applicable</td>\n",
       "      <td>NaN</td>\n",
       "      <td>Marketing and Advertising</td>\n",
       "      <td>Customer Service</td>\n",
       "      <td>0</td>\n",
       "    </tr>\n",
       "    <tr>\n",
       "      <th>2</th>\n",
       "      <td>3</td>\n",
       "      <td>Commissioning Machinery Assistant (CMA)</td>\n",
       "      <td>US, IA, Wever</td>\n",
       "      <td>NaN</td>\n",
       "      <td>NaN</td>\n",
       "      <td>Valor Services provides Workforce Solutions th...</td>\n",
       "      <td>Our client, located in Houston, is actively se...</td>\n",
       "      <td>Implement pre-commissioning and commissioning ...</td>\n",
       "      <td>NaN</td>\n",
       "      <td>0</td>\n",
       "      <td>1</td>\n",
       "      <td>0</td>\n",
       "      <td>NaN</td>\n",
       "      <td>NaN</td>\n",
       "      <td>NaN</td>\n",
       "      <td>NaN</td>\n",
       "      <td>NaN</td>\n",
       "      <td>0</td>\n",
       "    </tr>\n",
       "    <tr>\n",
       "      <th>3</th>\n",
       "      <td>4</td>\n",
       "      <td>Account Executive - Washington DC</td>\n",
       "      <td>US, DC, Washington</td>\n",
       "      <td>Sales</td>\n",
       "      <td>NaN</td>\n",
       "      <td>Our passion for improving quality of life thro...</td>\n",
       "      <td>THE COMPANY: ESRI – Environmental Systems Rese...</td>\n",
       "      <td>EDUCATION: Bachelor’s or Master’s in GIS, busi...</td>\n",
       "      <td>Our culture is anything but corporate—we have ...</td>\n",
       "      <td>0</td>\n",
       "      <td>1</td>\n",
       "      <td>0</td>\n",
       "      <td>Full-time</td>\n",
       "      <td>Mid-Senior level</td>\n",
       "      <td>Bachelor's Degree</td>\n",
       "      <td>Computer Software</td>\n",
       "      <td>Sales</td>\n",
       "      <td>0</td>\n",
       "    </tr>\n",
       "    <tr>\n",
       "      <th>4</th>\n",
       "      <td>5</td>\n",
       "      <td>Bill Review Manager</td>\n",
       "      <td>US, FL, Fort Worth</td>\n",
       "      <td>NaN</td>\n",
       "      <td>NaN</td>\n",
       "      <td>SpotSource Solutions LLC is a Global Human Cap...</td>\n",
       "      <td>JOB TITLE: Itemization Review ManagerLOCATION:...</td>\n",
       "      <td>QUALIFICATIONS:RN license in the State of Texa...</td>\n",
       "      <td>Full Benefits Offered</td>\n",
       "      <td>0</td>\n",
       "      <td>1</td>\n",
       "      <td>1</td>\n",
       "      <td>Full-time</td>\n",
       "      <td>Mid-Senior level</td>\n",
       "      <td>Bachelor's Degree</td>\n",
       "      <td>Hospital &amp; Health Care</td>\n",
       "      <td>Health Care Provider</td>\n",
       "      <td>0</td>\n",
       "    </tr>\n",
       "  </tbody>\n",
       "</table>\n",
       "</div>"
      ],
      "text/plain": [
       "   job_id                                      title            location  \\\n",
       "0       1                           Marketing Intern    US, NY, New York   \n",
       "1       2  Customer Service - Cloud Video Production      NZ, , Auckland   \n",
       "2       3    Commissioning Machinery Assistant (CMA)       US, IA, Wever   \n",
       "3       4          Account Executive - Washington DC  US, DC, Washington   \n",
       "4       5                        Bill Review Manager  US, FL, Fort Worth   \n",
       "\n",
       "  department salary_range                                    company_profile  \\\n",
       "0  Marketing          NaN  We're Food52, and we've created a groundbreaki...   \n",
       "1    Success          NaN  90 Seconds, the worlds Cloud Video Production ...   \n",
       "2        NaN          NaN  Valor Services provides Workforce Solutions th...   \n",
       "3      Sales          NaN  Our passion for improving quality of life thro...   \n",
       "4        NaN          NaN  SpotSource Solutions LLC is a Global Human Cap...   \n",
       "\n",
       "                                         description  \\\n",
       "0  Food52, a fast-growing, James Beard Award-winn...   \n",
       "1  Organised - Focused - Vibrant - Awesome!Do you...   \n",
       "2  Our client, located in Houston, is actively se...   \n",
       "3  THE COMPANY: ESRI – Environmental Systems Rese...   \n",
       "4  JOB TITLE: Itemization Review ManagerLOCATION:...   \n",
       "\n",
       "                                        requirements  \\\n",
       "0  Experience with content management systems a m...   \n",
       "1  What we expect from you:Your key responsibilit...   \n",
       "2  Implement pre-commissioning and commissioning ...   \n",
       "3  EDUCATION: Bachelor’s or Master’s in GIS, busi...   \n",
       "4  QUALIFICATIONS:RN license in the State of Texa...   \n",
       "\n",
       "                                            benefits  telecommuting  \\\n",
       "0                                                NaN              0   \n",
       "1  What you will get from usThrough being part of...              0   \n",
       "2                                                NaN              0   \n",
       "3  Our culture is anything but corporate—we have ...              0   \n",
       "4                              Full Benefits Offered              0   \n",
       "\n",
       "   has_company_logo  has_questions employment_type required_experience  \\\n",
       "0                 1              0           Other          Internship   \n",
       "1                 1              0       Full-time      Not Applicable   \n",
       "2                 1              0             NaN                 NaN   \n",
       "3                 1              0       Full-time    Mid-Senior level   \n",
       "4                 1              1       Full-time    Mid-Senior level   \n",
       "\n",
       "  required_education                   industry              function  \\\n",
       "0                NaN                        NaN             Marketing   \n",
       "1                NaN  Marketing and Advertising      Customer Service   \n",
       "2                NaN                        NaN                   NaN   \n",
       "3  Bachelor's Degree          Computer Software                 Sales   \n",
       "4  Bachelor's Degree     Hospital & Health Care  Health Care Provider   \n",
       "\n",
       "   fraudulent  \n",
       "0           0  \n",
       "1           0  \n",
       "2           0  \n",
       "3           0  \n",
       "4           0  "
      ]
     },
     "execution_count": 11,
     "metadata": {},
     "output_type": "execute_result"
    }
   ],
   "source": [
    "data = pd.read_csv('data/fake_job_postings.csv')\n",
    "data.head()"
   ]
  },
  {
   "cell_type": "markdown",
   "metadata": {
    "colab_type": "text",
    "id": "nzM5hgtdFQGf"
   },
   "source": [
    "**Let's see if there are null values and how many there are:**"
   ]
  },
  {
   "cell_type": "code",
   "execution_count": 12,
   "metadata": {
    "colab": {
     "base_uri": "https://localhost:8080/",
     "height": 340
    },
    "colab_type": "code",
    "id": "RTdSO_3MEpc9",
    "outputId": "f0ce7091-2364-4b33-f7a5-1bfac8b755a2",
    "pycharm": {
     "is_executing": true
    }
   },
   "outputs": [
    {
     "data": {
      "text/plain": [
       "job_id                     0\n",
       "title                      0\n",
       "location                 346\n",
       "department             11547\n",
       "salary_range           15012\n",
       "company_profile         3308\n",
       "description                1\n",
       "requirements            2695\n",
       "benefits                7210\n",
       "telecommuting              0\n",
       "has_company_logo           0\n",
       "has_questions              0\n",
       "employment_type         3471\n",
       "required_experience     7050\n",
       "required_education      8105\n",
       "industry                4903\n",
       "function                6455\n",
       "fraudulent                 0\n",
       "dtype: int64"
      ]
     },
     "execution_count": 12,
     "metadata": {},
     "output_type": "execute_result"
    }
   ],
   "source": [
    "data.isnull().sum()"
   ]
  },
  {
   "cell_type": "markdown",
   "metadata": {
    "colab_type": "text",
    "id": "nArdG-vNFlvg"
   },
   "source": [
    "**Let`s see descriptive statistic of the data:**"
   ]
  },
  {
   "cell_type": "code",
   "execution_count": 13,
   "metadata": {
    "colab": {
     "base_uri": "https://localhost:8080/",
     "height": 297
    },
    "colab_type": "code",
    "id": "kt3SBesYE6O6",
    "outputId": "1de4d8da-1827-4671-9b7b-311db8839284",
    "pycharm": {
     "is_executing": true
    }
   },
   "outputs": [
    {
     "data": {
      "text/html": [
       "<div>\n",
       "<style scoped>\n",
       "    .dataframe tbody tr th:only-of-type {\n",
       "        vertical-align: middle;\n",
       "    }\n",
       "\n",
       "    .dataframe tbody tr th {\n",
       "        vertical-align: top;\n",
       "    }\n",
       "\n",
       "    .dataframe thead th {\n",
       "        text-align: right;\n",
       "    }\n",
       "</style>\n",
       "<table border=\"1\" class=\"dataframe\">\n",
       "  <thead>\n",
       "    <tr style=\"text-align: right;\">\n",
       "      <th></th>\n",
       "      <th>job_id</th>\n",
       "      <th>telecommuting</th>\n",
       "      <th>has_company_logo</th>\n",
       "      <th>has_questions</th>\n",
       "      <th>fraudulent</th>\n",
       "    </tr>\n",
       "  </thead>\n",
       "  <tbody>\n",
       "    <tr>\n",
       "      <th>count</th>\n",
       "      <td>17880.000000</td>\n",
       "      <td>17880.000000</td>\n",
       "      <td>17880.000000</td>\n",
       "      <td>17880.000000</td>\n",
       "      <td>17880.000000</td>\n",
       "    </tr>\n",
       "    <tr>\n",
       "      <th>mean</th>\n",
       "      <td>8940.500000</td>\n",
       "      <td>0.042897</td>\n",
       "      <td>0.795302</td>\n",
       "      <td>0.491723</td>\n",
       "      <td>0.048434</td>\n",
       "    </tr>\n",
       "    <tr>\n",
       "      <th>std</th>\n",
       "      <td>5161.655742</td>\n",
       "      <td>0.202631</td>\n",
       "      <td>0.403492</td>\n",
       "      <td>0.499945</td>\n",
       "      <td>0.214688</td>\n",
       "    </tr>\n",
       "    <tr>\n",
       "      <th>min</th>\n",
       "      <td>1.000000</td>\n",
       "      <td>0.000000</td>\n",
       "      <td>0.000000</td>\n",
       "      <td>0.000000</td>\n",
       "      <td>0.000000</td>\n",
       "    </tr>\n",
       "    <tr>\n",
       "      <th>25%</th>\n",
       "      <td>4470.750000</td>\n",
       "      <td>0.000000</td>\n",
       "      <td>1.000000</td>\n",
       "      <td>0.000000</td>\n",
       "      <td>0.000000</td>\n",
       "    </tr>\n",
       "    <tr>\n",
       "      <th>50%</th>\n",
       "      <td>8940.500000</td>\n",
       "      <td>0.000000</td>\n",
       "      <td>1.000000</td>\n",
       "      <td>0.000000</td>\n",
       "      <td>0.000000</td>\n",
       "    </tr>\n",
       "    <tr>\n",
       "      <th>75%</th>\n",
       "      <td>13410.250000</td>\n",
       "      <td>0.000000</td>\n",
       "      <td>1.000000</td>\n",
       "      <td>1.000000</td>\n",
       "      <td>0.000000</td>\n",
       "    </tr>\n",
       "    <tr>\n",
       "      <th>max</th>\n",
       "      <td>17880.000000</td>\n",
       "      <td>1.000000</td>\n",
       "      <td>1.000000</td>\n",
       "      <td>1.000000</td>\n",
       "      <td>1.000000</td>\n",
       "    </tr>\n",
       "  </tbody>\n",
       "</table>\n",
       "</div>"
      ],
      "text/plain": [
       "             job_id  telecommuting  has_company_logo  has_questions  \\\n",
       "count  17880.000000   17880.000000      17880.000000   17880.000000   \n",
       "mean    8940.500000       0.042897          0.795302       0.491723   \n",
       "std     5161.655742       0.202631          0.403492       0.499945   \n",
       "min        1.000000       0.000000          0.000000       0.000000   \n",
       "25%     4470.750000       0.000000          1.000000       0.000000   \n",
       "50%     8940.500000       0.000000          1.000000       0.000000   \n",
       "75%    13410.250000       0.000000          1.000000       1.000000   \n",
       "max    17880.000000       1.000000          1.000000       1.000000   \n",
       "\n",
       "         fraudulent  \n",
       "count  17880.000000  \n",
       "mean       0.048434  \n",
       "std        0.214688  \n",
       "min        0.000000  \n",
       "25%        0.000000  \n",
       "50%        0.000000  \n",
       "75%        0.000000  \n",
       "max        1.000000  "
      ]
     },
     "execution_count": 13,
     "metadata": {},
     "output_type": "execute_result"
    }
   ],
   "source": [
    "data.describe()"
   ]
  },
  {
   "cell_type": "markdown",
   "metadata": {
    "colab_type": "text",
    "id": "QF7kXplIKrw9"
   },
   "source": [
    "Rename the data columns:"
   ]
  },
  {
   "cell_type": "code",
   "execution_count": 14,
   "metadata": {
    "colab": {
     "base_uri": "https://localhost:8080/",
     "height": 227
    },
    "colab_type": "code",
    "id": "6SlvUN3lKrB1",
    "outputId": "8ee398df-98c0-48d8-bf7f-4e3cea0b3382",
    "pycharm": {
     "is_executing": true
    }
   },
   "outputs": [
    {
     "data": {
      "text/html": [
       "<div>\n",
       "<style scoped>\n",
       "    .dataframe tbody tr th:only-of-type {\n",
       "        vertical-align: middle;\n",
       "    }\n",
       "\n",
       "    .dataframe tbody tr th {\n",
       "        vertical-align: top;\n",
       "    }\n",
       "\n",
       "    .dataframe thead th {\n",
       "        text-align: right;\n",
       "    }\n",
       "</style>\n",
       "<table border=\"1\" class=\"dataframe\">\n",
       "  <thead>\n",
       "    <tr style=\"text-align: right;\">\n",
       "      <th></th>\n",
       "      <th>title</th>\n",
       "      <th>location</th>\n",
       "      <th>department</th>\n",
       "      <th>company_profile</th>\n",
       "      <th>description</th>\n",
       "      <th>requirements</th>\n",
       "      <th>benefits</th>\n",
       "      <th>required_experience</th>\n",
       "      <th>required_education</th>\n",
       "      <th>industry</th>\n",
       "      <th>function</th>\n",
       "      <th>fraudulent</th>\n",
       "    </tr>\n",
       "  </thead>\n",
       "  <tbody>\n",
       "    <tr>\n",
       "      <th>0</th>\n",
       "      <td>Marketing Intern</td>\n",
       "      <td>US, NY, New York</td>\n",
       "      <td>Marketing</td>\n",
       "      <td>We're Food52, and we've created a groundbreaki...</td>\n",
       "      <td>Food52, a fast-growing, James Beard Award-winn...</td>\n",
       "      <td>Experience with content management systems a m...</td>\n",
       "      <td></td>\n",
       "      <td>Internship</td>\n",
       "      <td></td>\n",
       "      <td></td>\n",
       "      <td>Marketing</td>\n",
       "      <td>0</td>\n",
       "    </tr>\n",
       "    <tr>\n",
       "      <th>1</th>\n",
       "      <td>Customer Service - Cloud Video Production</td>\n",
       "      <td>NZ, , Auckland</td>\n",
       "      <td>Success</td>\n",
       "      <td>90 Seconds, the worlds Cloud Video Production ...</td>\n",
       "      <td>Organised - Focused - Vibrant - Awesome!Do you...</td>\n",
       "      <td>What we expect from you:Your key responsibilit...</td>\n",
       "      <td>What you will get from usThrough being part of...</td>\n",
       "      <td>Not Applicable</td>\n",
       "      <td></td>\n",
       "      <td>Marketing and Advertising</td>\n",
       "      <td>Customer Service</td>\n",
       "      <td>0</td>\n",
       "    </tr>\n",
       "    <tr>\n",
       "      <th>2</th>\n",
       "      <td>Commissioning Machinery Assistant (CMA)</td>\n",
       "      <td>US, IA, Wever</td>\n",
       "      <td></td>\n",
       "      <td>Valor Services provides Workforce Solutions th...</td>\n",
       "      <td>Our client, located in Houston, is actively se...</td>\n",
       "      <td>Implement pre-commissioning and commissioning ...</td>\n",
       "      <td></td>\n",
       "      <td></td>\n",
       "      <td></td>\n",
       "      <td></td>\n",
       "      <td></td>\n",
       "      <td>0</td>\n",
       "    </tr>\n",
       "  </tbody>\n",
       "</table>\n",
       "</div>"
      ],
      "text/plain": [
       "                                       title          location department  \\\n",
       "0                           Marketing Intern  US, NY, New York  Marketing   \n",
       "1  Customer Service - Cloud Video Production    NZ, , Auckland    Success   \n",
       "2    Commissioning Machinery Assistant (CMA)     US, IA, Wever              \n",
       "\n",
       "                                     company_profile  \\\n",
       "0  We're Food52, and we've created a groundbreaki...   \n",
       "1  90 Seconds, the worlds Cloud Video Production ...   \n",
       "2  Valor Services provides Workforce Solutions th...   \n",
       "\n",
       "                                         description  \\\n",
       "0  Food52, a fast-growing, James Beard Award-winn...   \n",
       "1  Organised - Focused - Vibrant - Awesome!Do you...   \n",
       "2  Our client, located in Houston, is actively se...   \n",
       "\n",
       "                                        requirements  \\\n",
       "0  Experience with content management systems a m...   \n",
       "1  What we expect from you:Your key responsibilit...   \n",
       "2  Implement pre-commissioning and commissioning ...   \n",
       "\n",
       "                                            benefits required_experience  \\\n",
       "0                                                             Internship   \n",
       "1  What you will get from usThrough being part of...      Not Applicable   \n",
       "2                                                                          \n",
       "\n",
       "  required_education                   industry          function  fraudulent  \n",
       "0                                                       Marketing           0  \n",
       "1                     Marketing and Advertising  Customer Service           0  \n",
       "2                                                                           0  "
      ]
     },
     "execution_count": 14,
     "metadata": {},
     "output_type": "execute_result"
    }
   ],
   "source": [
    "columns=['job_id', 'telecommuting', 'has_company_logo', 'has_questions', 'salary_range', 'employment_type']\n",
    "for col in columns:\n",
    "    del data[col]\n",
    "\n",
    "data.fillna(' ', inplace=True)\n",
    "data.head(3)"
   ]
  },
  {
   "cell_type": "markdown",
   "metadata": {
    "colab_type": "text",
    "id": "DL_l74hWF8Ai"
   },
   "source": [
    "**Create some visualizations:**"
   ]
  },
  {
   "cell_type": "code",
   "execution_count": 15,
   "metadata": {
    "colab": {
     "base_uri": "https://localhost:8080/",
     "height": 320
    },
    "colab_type": "code",
    "id": "i-w9cqbIF7gk",
    "outputId": "01815a02-29af-477d-e75f-8e97dfc59a0b",
    "pycharm": {
     "is_executing": true
    }
   },
   "outputs": [
    {
     "data": {
      "image/png": "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\n",
      "text/plain": [
       "<Figure size 360x360 with 1 Axes>"
      ]
     },
     "metadata": {
      "needs_background": "light"
     },
     "output_type": "display_data"
    }
   ],
   "source": [
    "data_fraudulent = pd.DataFrame(data['fraudulent'].value_counts().sort_values(ascending=False))\n",
    "plt.figure(figsize=(5,5))\n",
    "ax = sns.barplot(x = data_fraudulent.index, y = 'fraudulent' , data = data_fraudulent)"
   ]
  },
  {
   "cell_type": "markdown",
   "metadata": {
    "colab_type": "text",
    "id": "0BxrVpYKKBsI"
   },
   "source": [
    "We have a lot of true job descriptions.\n",
    "\n",
    "Let's check which country posts most number of jobs:"
   ]
  },
  {
   "cell_type": "code",
   "execution_count": 16,
   "metadata": {
    "colab": {},
    "colab_type": "code",
    "id": "6XcTpIthKJC9",
    "pycharm": {
     "is_executing": true
    }
   },
   "outputs": [],
   "source": [
    "def split(location):\n",
    "    location_split = location.split(',')\n",
    "    return location_split[0]\n",
    "\n",
    "data['country'] = data.location.apply(split)"
   ]
  },
  {
   "cell_type": "code",
   "execution_count": 17,
   "metadata": {
    "colab": {
     "base_uri": "https://localhost:8080/",
     "height": 322
    },
    "colab_type": "code",
    "id": "XVXsvZSEK1lV",
    "outputId": "accadb79-cf90-4fa5-857d-40389b07d2ee",
    "pycharm": {
     "is_executing": true
    }
   },
   "outputs": [
    {
     "data": {
      "image/png": "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\n",
      "text/plain": [
       "<Figure size 1080x360 with 1 Axes>"
      ]
     },
     "metadata": {
      "needs_background": "light"
     },
     "output_type": "display_data"
    }
   ],
   "source": [
    "#  Which country posts most number of jobs?\n",
    "\n",
    "top_countries =  pd.DataFrame(data.country.value_counts().sort_values(ascending=False)[:11])\n",
    "plt.figure(figsize=(15,5))\n",
    "sns.set(style=\"darkgrid\")\n",
    "ax = sns.barplot(x = top_countries.index, y = 'country' , data = top_countries)"
   ]
  },
  {
   "cell_type": "markdown",
   "metadata": {
    "colab_type": "text",
    "id": "BOBn_uXRLxX4"
   },
   "source": [
    "Most number of jobs are posted by US."
   ]
  },
  {
   "cell_type": "code",
   "execution_count": 18,
   "metadata": {
    "colab": {
     "base_uri": "https://localhost:8080/",
     "height": 322
    },
    "colab_type": "code",
    "id": "VqKFdh0LL3hw",
    "outputId": "3fdcdc79-845d-4408-a3a8-7c848496aa55",
    "pycharm": {
     "is_executing": true
    }
   },
   "outputs": [
    {
     "data": {
      "image/png": "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\n",
      "text/plain": [
       "<Figure size 1080x360 with 1 Axes>"
      ]
     },
     "metadata": {},
     "output_type": "display_data"
    }
   ],
   "source": [
    "# Which type of experience is required in most number of jobs?\n",
    "\n",
    "required_experience =  pd.DataFrame(data.required_experience.value_counts().sort_values(ascending=False)[:11])\n",
    "plt.figure(figsize=(15,5))\n",
    "sns.set(style=\"darkgrid\")\n",
    "ax = sns.barplot(x = required_experience.index, y = 'required_experience' , data = required_experience)"
   ]
  },
  {
   "cell_type": "markdown",
   "metadata": {
    "colab_type": "text",
    "id": "p9178Yg8Mhdn"
   },
   "source": [
    "Most number type of experience is Mid-Senior level, but we have a lot of NULL values."
   ]
  },
  {
   "cell_type": "code",
   "execution_count": 19,
   "metadata": {
    "colab": {
     "base_uri": "https://localhost:8080/",
     "height": 703
    },
    "colab_type": "code",
    "id": "G5AYY0_YMx3j",
    "outputId": "8a58377b-f073-47be-a6db-9609411ec978",
    "pycharm": {
     "is_executing": true
    }
   },
   "outputs": [
    {
     "data": {
      "text/plain": [
       "[Text(0, 0, ' '),\n",
       " Text(0, 0, 'Information Technology and Services'),\n",
       " Text(0, 0, 'Computer Software'),\n",
       " Text(0, 0, 'Internet'),\n",
       " Text(0, 0, 'Marketing and Advertising'),\n",
       " Text(0, 0, 'Education Management'),\n",
       " Text(0, 0, 'Financial Services'),\n",
       " Text(0, 0, 'Hospital & Health Care'),\n",
       " Text(0, 0, 'Consumer Services'),\n",
       " Text(0, 0, 'Telecommunications'),\n",
       " Text(0, 0, 'Oil & Energy')]"
      ]
     },
     "execution_count": 19,
     "metadata": {},
     "output_type": "execute_result"
    },
    {
     "data": {
      "image/png": "iVBORw0KGgoAAAANSUhEUgAAA4MAAAHdCAYAAACnjKxUAAAABHNCSVQICAgIfAhkiAAAAAlwSFlzAAALEgAACxIB0t1+/AAAADh0RVh0U29mdHdhcmUAbWF0cGxvdGxpYiB2ZXJzaW9uMy4xLjMsIGh0dHA6Ly9tYXRwbG90bGliLm9yZy+AADFEAAAgAElEQVR4nOzde3zOdePH8fe1k9McmnvLklRyuEPcWRGaqBvR5lRNThUlKmPV5CznQ4scIuqOHBLKNrSmpIg55S5SI7odcmgbZna0ua7r90cP169lZuLa9zvf1/Px6MH1uS7ut+tmu97f7+dgczqdTgEAAAAALMXD6AAAAAAAgOJHGQQAAAAAC6IMAgAAAIAFUQYBAAAAwIIogwAAAABgQZRBAAAAALAgyiAAAAAAWJCX0QHcLTU1Uw4HRykCAAAAsBYPD5tuuqncZZ+/4cugw+GkDAIAAADAXzBNFAAAAAAsyK13Bnv27KkzZ87Iy+uP/5mxY8cqMzNTkyZN0vnz5/Xoo48qIiJCkpSYmKjhw4crMzNTQUFBGjNmjLy8vHTixAlFRkbq9OnTuuOOOxQVFaVy5S5/qxMAAAAAcGVuuzPodDp1+PBhxcbGuv6rXbu2hg0bpjlz5iguLk579+7Vxo0bJUmRkZEaNWqU1q1bJ6fTqRUrVkiSxowZo27duik+Pl716tXTnDlz3BUZAAAAACzDbWXwf//7nySpd+/eCg0N1ZIlS7Rnzx5Vr15d1apVk5eXl0JCQhQfH6/jx48rJydHDRs2lCR17txZ8fHxysvL086dO9WmTZt84wAAAACAa+O2aaLnzp3TAw88oJEjRyovL0+9evXSc889J39/f9drAgIClJSUpOTk5Hzj/v7+SkpKUmpqqnx9fV3TTC+OX43KlX2vzx8IAAAAAG4gbiuD//rXv/Svf/3L9fjxxx/XzJkz1ahRI9eY0+mUzWaTw+GQzWa7ZPzij3/218dXcvp0BruJAgAAALAcDw9boTfH3DZN9LvvvtPWrVtdj51Op6pWraqUlBTXWEpKigICAlSlSpV846dOnVJAQID8/PyUnp4uu92e7/UAAAAAgGvjtjKYnp6uqVOn6vz588rIyFB0dLReeeUVHTp0SEeOHJHdbtfatWsVHBysqlWrqlSpUtq1a5ckKTY2VsHBwfL29lZQUJDi4uIkSTExMQoODnZXZAAAAACwDJvT6XTbHMq3335b69atk8PhULdu3fT0009r69atrqMlWrRooaFDh8pms2nfvn0aMWKEMjIyVLduXU2aNEk+Pj46fvy4hgwZotOnTyswMFDTpk1TxYoVi5yBaaIAAAAArOhK00TdWgbNoLAy6FextDx9vIs5kbHsuXk6k5ZjdAwAAAAAbnalMujWQ+fNztPHWylzlxgdo1j59+8hiTIIAAAAWJ3b1gwCAAAAAMyLMggAAAAAFkQZBAAAAAALogwCAAAAgAVRBgEAAADAgiiDAAAAAGBBlEEAAAAAsCDKIAAAAABYEGUQAAAAACyIMggAAAAAFkQZBAAAAAALogwCAAAAgAVRBgEAAADAgiiDAAAAAGBBlEEAAAAAsCDKIAAAAABYEGUQAAAAACyIMggAAAAAFkQZBAAAAAALogwCAAAAgAVRBgEAAADAgiiDAAAAAGBBlEEAAAAAsCDKIAAAAABYEGUQAAAAACyIMggAAAAAFkQZBAAAAAALogwCAAAAgAVRBgEAAADAgiiDAAAAAGBBlEEAAAAAsCDKIAAAAABYEGUQAAAAACyIMggAAAAAFkQZBAAAAAALogwCAAAAgAVRBgEAAADAgiiDAAAAAGBBlEEAAAAAsCDKIAAAAABYEGUQAAAAACyIMggAAAAAFkQZBAAAAAALcnsZnDJlioYMGSJJSkhIUEhIiFq3bq3p06e7XpOYmKjOnTurTZs2Gj58uC5cuCBJOnHihLp37662bduqf//+yszMdHdcAAAAALAEt5bBrVu3Kjo6WpKUk5OjYcOGac6cOYqLi9PevXu1ceNGSVJkZKRGjRqldevWyel0asWKFZKkMWPGqFu3boqPj1e9evU0Z84cd8YFAAAAAMtwWxk8e/aspk+frn79+kmS9uzZo+rVq6tatWry8vJSSEiI4uPjdfz4ceXk5Khhw4aSpM6dOys+Pl55eXnauXOn2rRpk28cAAAAAHDtvNz1G48aNUoRERE6efKkJCk5OVn+/v6u5wMCApSUlHTJuL+/v5KSkpSamipfX195eXnlG79alSv7XuOf5Mbj71/e6AgAAAAADOaWMrhy5UoFBgbqgQce0KpVqyRJDodDNpvN9Rqn0ymbzXbZ8Ys//tlfHxfF6dMZcjicBT5n1VKUkpJudAQAAAAAbubhYSv05phbymBcXJxSUlLUoUMHpaWlKSsrS8ePH5enp6frNSkpKQoICFCVKlWUkpLiGj916pQCAgLk5+en9PR02e12eXp6ul4PAAAAALh2blkzuGDBAq1du1axsbEKDw9Xq1at9P777+vQoUM6cuSI7Ha71q5dq+DgYFWtWlWlSpXSrl27JEmxsbEKDg6Wt7e3goKCFBcXJ0mKiYlRcHCwO+ICAAAAgOW4bc3gX5UqVUqTJ0/WgAEDdP78ebVo0UJt27aVJEVFRWnEiBHKyMhQ3bp11atXL0nS6NGjNWTIEM2dO1eBgYGaNm1accUFAAAAgBuazel0Fryg7gZxpTWDKXOXFHMiY/n378GaQQAAAMACrrRm0O2HzgMAAAAAzIcyCAAAAAAWRBkEAAAAAAuiDAIAAACABVEGAQAAAMCCKIMAAAAAYEGUQQAAAACwIMogAAAAAFgQZRAAAAAALIgyCAAAAAAWRBkEAAAAAAuiDAIAAACABVEGAQAAAMCCKIMAAAAAYEGUQQAAAACwIMogAAAAAFgQZRAAAAAALIgyCAAAAAAWRBkEAAAAAAuiDAIAAACABVEGAQAAAMCCKIMAAAAAYEGUQQAAAACwIMogAAAAAFgQZRAAAAAALIgyCAAAAAAWRBkEAAAAAAuiDAIAAACABVEGAQAAAMCCKIMAAAAAYEGUQQAAAACwIMogAAAAAFgQZRAAAAAALIgyCAAAAAAWRBkEAAAAAAuiDAIAAACABVEGAQAAAMCCKIMAAAAAYEGUQQAAAACwIMogAAAAAFgQZRAAAAAALIgyCAAAAAAWRBkEAAAAAAuiDAIAAACABbm1DM6YMUPt2rVT+/bttWDBAklSQkKCQkJC1Lp1a02fPt312sTERHXu3Flt2rTR8OHDdeHCBUnSiRMn1L17d7Vt21b9+/dXZmamOyMDAAAAgCW4rQzu2LFD27Zt0+rVq/Xpp59q8eLF2rdvn4YNG6Y5c+YoLi5Oe/fu1caNGyVJkZGRGjVqlNatWyen06kVK1ZIksaMGaNu3bopPj5e9erV05w5c9wVGQAAAAAsw21l8P7779eiRYvk5eWl06dPy26369y5c6pevbqqVasmLy8vhYSEKD4+XsePH1dOTo4aNmwoSercubPi4+OVl5ennTt3qk2bNvnGAQAAAADXxsudv7m3t7dmzpypDz74QG3btlVycrL8/f1dzwcEBCgpKemScX9/fyUlJSk1NVW+vr7y8vLKN341Klf2vT5/mBuIv395oyMAAAAAMJhby6AkhYeH6/nnn1e/fv10+PBh2Ww213NOp1M2m00Oh6PA8Ys//tlfH1/J6dMZcjicBT5n1VKUkpJudAQAAAAAbubhYSv05pjbpon++uuvSkxMlCSVKVNGrVu31vbt25WSkuJ6TUpKigICAlSlSpV846dOnVJAQID8/PyUnp4uu92e7/UAAAAAgGvjtjJ47NgxjRgxQrm5ucrNzdVXX32lrl276tChQzpy5IjsdrvWrl2r4OBgVa1aVaVKldKuXbskSbGxsQoODpa3t7eCgoIUFxcnSYqJiVFwcLC7IgMAAACAZRRpmuiAAQP01FNPqWnTpkX+jVu0aKE9e/aoY8eO8vT0VOvWrdW+fXv5+flpwIABOn/+vFq0aKG2bdtKkqKiojRixAhlZGSobt266tWrlyRp9OjRGjJkiObOnavAwEBNmzbtb/wxAQAAAAB/ZnM6nQUvqPuT1atXa8WKFUpJSdGTTz6pLl26qFKlSsWR75pdac1gytwlxZzIWP79e7BmEAAAALCA67JmMDQ0VEuWLNGcOXN0+vRpPf7444qMjNSePXuuW1AAAAAAQPEp8ppBh8OhI0eO6PDhw7Lb7apcubLeeOMNzZw50535AAAAAABuUKQ1g9OnT9eqVatUrVo1devWTTNmzJC3t7eysrLUsmVLhYeHuzsnAAAAAOA6KlIZTE5O1nvvvac6derkGy9btqzeeusttwQDAAAAALhPkaaJ/vzzz5cUwYuaN29+XQMBAAAAANyvSGWwTJky+v33392dBQAAAABQTIo0TTQ7O1sPP/ywqlSporJly7rG16xZ47ZgAAAAAAD3KVIZHD58uLtzAAAAAACKUZHKYExMjCZOnJhvLDw8XPfff79bQgEAAAAA3KvQMjh69GglJSVp165dOnPmjGv8woUL+u2339weDgAAAADgHoWWwccff1wHDhzQ/v371aZNG9e4p6enGjZs6PZwAAAAAAD3KLQM1q9fX/Xr11fTpk1VpUoVSVJubq5OnTqlW265pVgCAgAAAACuvyIdLfHjjz9q3LhxysjIUNu2bdWhQwd9+OGH7s4GAAAAAHCTIpXBefPm6cknn9QXX3yhhg0b6uuvv1ZsbKy7swEAAAAA3KRIZdDpdKp27dpKSEhQcHCwfH195XQ63Z0NAAAAAOAmRSqDHh4eiouL0+bNm9WsWTNt3LhRNpvN3dkAAAAAAG5SpDL4+uuva8WKFYqIiJC/v7/mzp3LQfQAAAAAUILZnDf4fM/TpzPkcBT8R/T3L6+UuUuKOZGx/Pv3UEpKutExAAAAALiZh4dNlSv7Xvb5Qo+WuKhfv34Fjr/77rt/LxUAAAAAwFBFKoN/PnA+Ly9P69atU7169dwWCgAAAADgXkUqg506dbrkcc+ePd0SCAAAAADgfkXaQOavnE6nkpOTr3cWAAAAAEAx+VtrBn/55Rfdf//9bgkEAAAAAHC/q14zaLPZ9NRTT6l58+ZuCwUAAAAAcK+/tWYQAAAAAFCyFVoG69SpI5vNdtnnExMTr3sgAAAAAID7FVoGt27dKqfTqRkzZqhq1aoKCwuTp6enVq1apRMnThRXRgAAAADAdVbobqI33XST/Pz8tHfvXvXt21cVK1aUr6+vevXqpR07dhRXRgAAAADAdVakoyWys7P1v//9z/V4//79ysvLc1soAAAAAIB7FWkDmUGDBiksLEy1a9eWw+HQr7/+qqioKHdnAwAAAAC4SZHKYOvWrdWoUSPt2rVLkhQUFCQ/Pz+3BgMAAAAAuE+RymB2drY2bdqktLQ0OZ1OHT9+XJL07LPPujUcAAAAAMA9ilQGBw8erOPHj6tWrVqFHjUBAAAAACgZilQG9+/fr7i4OHl5FenlAAAAAACTK9JuolWqVHF3DgAAAABAMSrSrb5atWqpV69eevDBB1W6dGnXOGsGAQAAAKBkKlIZzMzMVPXq1XX06FF35wEAAAAAFINCy+DAgQM1Y8YM7d27t7jyAAAAAACKQaFl8Pnnn5ckjRw5sljCAAAAAACKR6FlsF69epKk+++/v1jCAAAAAACKR5F2EwUAAAAA3FgogwAAAABgQZRBAAAAALAgt5bB2bNnq3379mrfvr2mTp0qSUpISFBISIhat26t6dOnu16bmJiozp07q02bNho+fLguXLggSTpx4oS6d++utm3bqn///srMzHRnZAAAAACwBLeVwYSEBG3evFnR0dGKiYnRTz/9pLVr12rYsGGaM2eO4uLitHfvXm3cuFGSFBkZqVGjRmndunVyOp1asWKFJGnMmDHq1q2b4uPjVa9ePc2ZM8ddkQEAAADAMtxWBv39/TVkyBD5+PjI29tbNWrU0OHDh1W9enVVq1ZNXl5eCgkJUXx8vI4fP66cnBw1bNhQktS5c2fFx8crLy9PO3fuVJs2bfKNAwAAAACujdvKYM2aNV3l7vDhw/r8889ls9nk7+/vek1AQICSkpKUnJycb9zf319JSUlKTU2Vr6+vvLy88o0DAAAAAK5NoecMXg8HDhzQCy+8oMGDB8vT01OHDx92Ped0OmWz2eRwOGSz2S4Zv/jjn/318ZVUrux7TflvRP7+5Y2OAAAAAMBgbi2Du3btUnh4uIYNG6b27dtrx44dSklJcT2fkpKigIAAValSJd/4qVOnFBAQID8/P6Wnp8tut8vT09P1+qtx+nSGHA5ngc9ZtRSlpKQbHQEAAACAm3l42Aq9Oea2aaInT57USy+9pKioKLVv316S1KBBAx06dEhHjhyR3W7X2rVrFRwcrKpVq6pUqVLatWuXJCk2NlbBwcHy9vZWUFCQ4uLiJEkxMTEKDg52V2QAAAAAsAyb0+ks+LbZNRo/frw+/fRT3Xbbba6xrl276vbbb9ekSZN0/vx5tWjRQkOHDpXNZtO+ffs0YsQIZWRkqG7dupo0aZJ8fHx0/PhxDRkyRKdPn1ZgYKCmTZumihUrFjnHle4Mpsxdcs1/1pLEv38P7gwCAAAAFnClO4NuK4NmQRnMjzIIAAAAWINh00QBAAAAAOZFGQQAAAAAC6IMAgAAAIAFUQYBAAAAwIIogwAAAABgQZRBAAAAALAgyiAAAAAAWBBlEAAAAAAsiDIIAAAAABbkZXQAlBw3VfSRl08po2MUqwu555Walmt0DAAAAOC6owyiyLx8SunXWR2MjlGsagyIlUQZBAAAwI2HaaIAAAAAYEGUQQAAAACwIMogAAAAAFgQZRAAAAAALIgyCAAAAAAWRBkEAAAAAAuiDAIAAACABVEGAQAAAMCCKIMAAAAAYEGUQQAAAACwIMogAAAAAFgQZRAAAAAALIgyCAAAAAAWRBkEAAAAAAuiDAIAAACABVEGAQAAAMCCKIMAAAAAYEFeRgcAblSVKvrI26eU0TGKVV7ueZ1NyzU6BgAAAIqAMgi4ibdPKa394FGjYxSrx3p/LokyCAAAUBIwTRQAAAAALIgyCAAAAAAWRBkEAAAAAAuiDAIAAACABVEGAQAAAMCCKIMAAAAAYEGUQQAAAACwIMogAAAAAFgQZRAAAAAALIgyCAAAAAAWRBkEAAAAAAuiDAIAAACABVEGAQAAAMCCKIMAAAAAYEFe7vzNMzIy1LVrV7377ru69dZblZCQoEmTJun8+fN69NFHFRERIUlKTEzU8OHDlZmZqaCgII0ZM0ZeXl46ceKEIiMjdfr0ad1xxx2KiopSuXLl3BkZgEEqVvKWj3dpo2MUq9y8HKWdzTM6BgAAsCi3lcHdu3drxIgROnz4sCQpJydHw4YN0+LFixUYGKgXXnhBGzduVIsWLRQZGanx48erYcOGGjZsmFasWKFu3bppzJgx6tatm9q3b6933nlHc+bMUWRkpLsiAzCQj3dpTf+ojdExilVEt3WSKIMAAMAYbpsmumLFCo0ePVoBAQGSpD179qh69eqqVq2avLy8FBISovj4eB0/flw5OTlq2LChJKlz586Kj49XXl6edu7cqTZt2uQbBwAAAABcO7fdGZwwYUK+x8nJyfL393c9DggIUFJS0iXj/v7+SkpKUmpqqnx9feXl5ZVvHAAAAABw7dy6ZvDPHA6HbDab67HT6ZTNZrvs+MUf/+yvj4uicmXfvx/6BuXvX97oCCUK79fV4f26OrxfAADAKMVWBqtUqaKUlBTX45SUFAUEBFwyfurUKQUEBMjPz0/p6emy2+3y9PR0vf5qnT6dIYfDWeBzVv0QlpKS/rd+He/X1eH9ujq8XwAAANeXh4et0JtjxXa0RIMGDXTo0CEdOXJEdrtda9euVXBwsKpWrapSpUpp165dkqTY2FgFBwfL29tbQUFBiouLkyTFxMQoODi4uOICAAAAwA2t2O4MlipVSpMnT9aAAQN0/vx5tWjRQm3btpUkRUVFacSIEcrIyFDdunXVq1cvSdLo0aM1ZMgQzZ07V4GBgZo2bVpxxQUAAACAG5rby+CGDRtcP3/ggQe0evXqS15Tp04dffLJJ5eMV61aVYsXL3ZrPgAAAACwomKbJgoAAAAAMA/KIAAAAABYEGUQAAAAACyIMggAAAAAFlRsu4kCAK6f8pVKqbS3j9ExilVOXq7Sz57/W7+2fKXSKu3tfZ0TmVtOXp7Sz+YYHQMAYGKUQQAogUp7++jR2H5GxyhWn3d4V+n6e2WwtLe32n867zonMrfPurygdFEGAQCXRxkEAAD5lK9URqW9rfURISfvgtLPZhsdAwCKlbW+0gMAgCsq7e2l0E9ijY5RrFY/3kHpRocAgGLGBjIAAAAAYEGUQQAAAACwIMogAAAAAFgQZRAAAAAALIgyCAAAAAAWRBkEAAAAAAuiDAIAAACABVEGAQAAAMCCKIMAAAAAYEGUQQAAAACwIMogAAAAAFgQZRAAAAAALIgyCAAAAAAW5GV0AAAAgJKsfKWyKu3taXSMYpWTZ1f62SyjYwC4RpRBAACAa1Da21NPfLrX6BjFamWXeko3OgSAa8Y0UQAAAACwIMogAAAAAFgQZRAAAAAALIgyCAAAAAAWRBkEAAAAAAtiN1EAAAAUq0qVysnb2zr3JPLyHDp7NtPoGMAlKIMAAAAoVt7eHlrx6SmjYxSbJ7v845p+/U0Vy8nLxzrlWZIu5DqUmkaBdjfKIAAAAGBiXj4e2jcnyegYxarOizcbHcESrHWJAQAAAAAgiTuDAAAAAG4gfhXLytPH0+gYxcqea9eZtKyr/nWUQQAAAAA3DE8fTyW9vcPoGMXq5kH3/61fxzRRAAAAALAgyiAAAAAAWBBlEAAAAAAsiDIIAAAAABZEGQQAAAAAC6IMAgAAAIAFUQYBAAAAwIIogwAAAABgQZRBAAAAALAgyiAAAAAAWFCJKINr1qxRu3bt1Lp1ay1dutToOAAAAABQ4nkZHeBKkpKSNH36dK1atUo+Pj7q2rWrGjdurLvuusvoaAAAAABQYpm+DCYkJKhJkyaqVKmSJKlNmzaKj4/Xyy+/XKRf7+FhK/z58uWuOWNJc6X3pDBe5QOuY5KS4VrerzK+vF9Xo0K5m69jkpLhWt6vgDKVr2OSkuGa3q+yvtcxSclwbe9XmeuYpGS4lvfLv6z3dUxSMlzL+yVJZcuWiAlq1821vl/e5a31fknX9p55VPC5jklKhoLeryu9hzan0+l0V6DrYd68ecrKylJERIQkaeXKldqzZ4/GjRtncDIAAAAAKLlMf4nB4XDIZvv/Rut0OvM9BgAAAABcPdOXwSpVqiglJcX1OCUlRQEB1pt6BwAAAADXk+nLYNOmTbV161adOXNG2dnZ+uKLLxQcHGx0LAAAAAAo0Uy/gczNN9+siIgI9erVS3l5eXr88cd1zz33GB0LAAAAAEo0028gAwAAAAC4/kw/TRQAAAAAcP1RBgEAAADAgiiDAAAAAGBBlEEAAAAAsCDKIAAAAABYEGUQpnPhwgUdOHBAkhQXF6e33npLqampBqcCgKK5+PXrz3744QcDkgAA3On9999XSkqK0TGuCWUQphMZGalVq1bpxx9/1PTp0+Xt7a2hQ4caHcu00tLSNGLECPXq1Utnz57V0KFDlZaWZnQs0+MDe9G1bt1aDz/8sOu/Rx55RI899pjCw8N1/Phxo+OZxq5du7Rz5069/PLL+u6777Rz507t3LlTW7du1euvv250PNPas2ePFixYoNzcXPXu3VtNmjTRpk2bjI5lart27dKyZcuUm5urnTt3Gh3H1M6ePauEhARJ0rx58xQeHq6jR48anAo3ipycHPXs2VN9+/bV559/rry8PKMjXTXKIEzn6NGjev3117Vu3To98cQTCg8PL/FXXdxp5MiRql+/vs6ePauyZcsqICBAkZGRRscyLT6wX73g4GD17NlTsbGxio2NVe/evVW/fn2FhIRo+PDhRsczjYSEBM2cOVPJycmaMWOGZs6cqZkzZ2r+/PkKCwszOp5pjR8/XjVr1tS6detUunRpRUdHa8aMGUbHMq0PP/xQb7/9thYuXKjMzEyNGjVK//nPf4yOZVqvvvqqEhMTlZCQoPj4eLVq1YqvW4U4duyYPvvsM0nSG2+8obCwMP30008GpzKvl19+WfHx8erbt6+2b9+uDh06aOzYsUpMTDQ6WpFRBmE6drtd586d05dffqng4GCdPn1aOTk5RscyrWPHjiksLEweHh7y8fFRRESEfv/9d6NjmRYf2K/erl279Mwzz8jX11e+vr7q1q2b9u/fr3//+9/chf6TAQMGaPHixRo9erQWL17s+m/BggXq3bu30fFMy+FwqHnz5vrmm2/UunVrBQYGym63Gx3LtKKjo/Wf//xHZcqU0U033aRPPvlEn376qdGxTCstLU19+vTRV199pU6dOqljx47KzMw0OpZpDRkyROfPn9dXX32lAwcOKCIiQuPGjTM6lqllZWXp2LFj+u233+Th4aGKFStqwoQJeuutt4yOViReRgcA/urZZ59Vhw4d1KpVK9WpU0etW7fWgAEDjI5lWp6enkpPT5fNZpMkHT58WB4eXOe5nIt/l2JiYtSxY0eD05QMHh4e+vbbb/Xggw9Kkr799lv5+Pjo1KlTunDhgsHpzOe+++7TlClTlJaWJqfT6RqfNGmSganMq0yZMvrggw+0bds2jRo1SosWLVK5cuWMjmVaFy/8XVSqVCl5enoamMjcHA6H9u7dq/Xr12vJkiVKTEzkYkMhcnJy1LlzZ40YMUIhISFq0qSJzp8/b3Qs03rttde0detWtWjRQv3791dQUJAkKTc3V82bN9err75qcMIrszn//J0KMJGMjAz5+voqNzc33zc+5Pftt9/qrbfe0smTJ9WoUSP98MMPmjhxoh566CGjo5na2bNnFRUVpaNHj2rmzJmaMmWKhgwZoooVKxodzXR++eUXDRkyxLU+8LbbbtPkyZMVHx+vW265RZ06dTI4obk88cQTCgoKUs2aNV0XaSTxPl1GUlKSVq5cqWbNmulf//qX3nzzTfXs2Xh0P+0AACAASURBVFNVqlQxOpopTZ48WTabTRs2bFBkZKSWL1+u22+/namPl7F161bNnTtXDz/8sJ5++mk9+eSTeuWVV9SkSROjo5nSk08+qb59+2r06NFatWqVEhMTNWvWLO4+X8Ynn3yidu3aqWzZspc8l5KSIn9/fwNSXR3KIExn//79euWVV5SRkaEVK1aoV69emjFjhurUqWN0NFPat2+fAgICtGfPHtntdjVo0ED/+Mc/jI5leuHh4WrWrJmWLl2qTz75RO+8844SExM1f/58o6OZVlpamjw9PeXr62t0FFPr1KmToqOjjY5Ronz33Xc6cOCAunTpot27d+u+++4zOpJpORwOrVixQgkJCXI4HGrSpIm6du0qLy8me11OZmamfvvtN9WuXVvZ2dkFfnDHHxITE7VgwQI99NBDateuncLDw9W/f3/985//NDqaKc2ePTvfY5vNptKlS6tGjRol5qI8ZRCm06NHD40aNUqDBw9WTEyMNm7cqNmzZ2vlypVGRzOlRx99VJ9//rnRMUqczp07a9WqVerYsaNiYmIkSaGhoVq9erXByczn559/1rvvvnvJtMdFixYZmMq8xo8fr6ZNm6p58+bMaiiCDz/8UOvXr1dycrI+/vhjdevWTY8//rj69OljdDRT6tOnDxvGXIWtW7dq1KhRstvtWr58uUJCQhQVFaXmzZsbHc20srKylJGRke/r/c0332xgIvMaPHiwjhw5ovbt20uSvvjiC/n6+srDw0O33367Bg8ebHDCK+MyEkwnKytLtWrVcj1u0aKFpk2bZmAic7vrrrs0e/ZsNWjQQKVLl3aNc2W9cKy1LLrXX39dYWFhl0x7RMHi4+O1ZMkSSX9cJXY6nbLZbCVqd7niFB0drRUrVujJJ590bYjyxBNPUAYvIzs7WydPnlRgYKDRUUqEadOm6aOPPtLzzz8vf39/LVmyRK+88gpl8DLmz5+vuXPnqkKFCq4xm82mb775xrhQJnbo0CEtXbrUdeGva9eu6tmzp5YvX67Q0FDKIPB3VKxYUb/88ovrQ2dcXFy+L0rI7+zZs9q+fbu2b9/uGrPZbNy1uYLw8HD17NlTJ0+e1Isvvuhaa4lLlS5dWj169DA6RomxefNmoyOUKGyIcnVSU1PVqlUrVa5cWaVKlXJdbPjqq6+MjmZKDocj37qtu+66y8A05rdixQp9+eWXLDcponPnzunChQuur2F5eXnKysqSJJWUyZeUQZjO6NGj9frrr+vgwYNq3LixAgMDS8z2vEZYvHix0RFKpAcffFB169Z1rbUcO3Ys3/wuo3nz5lq8eLGaN2+uUqVKucZvueUWA1OZV25urj744AMdOnRII0eO1MKFC9W3b1+mjF7G/fffrylTpig7O1vr16/X8uXL2dyjEO+//77REUqUKlWq6Ouvv5bNZtO5c+e0dOlSvnYVIjAwUH5+fkbHKDG6d++uLl266KGHHpLT6dTGjRvVo0cPLVy4MN8sNzNjzSBM6cyZM/L29lZWVpby8vJ06623Gh3JtH744QfNmzdPWVlZcjqdcjgcOnHihDZs2GB0NFM7d+6c1qxZo7Nnz+a7evfyyy8bmMqcWrVqdckYdyIub8SIEfLz89OGDRu0cuVKjRo1Sk6nU1FRUUZHM6W/bojywAMPKCwsjA1RLiM3N1cbN250nZVnt9t17NgxDRw40OBk5nT69GlNmDBBCQkJcjqdaty4sUaMGKGAgACjo5nSqFGjdODAATVp0iTfxb9+/foZmMq8zpw5o5SUFG3dulUeHh564IEHVLNmTR0+fFi33HJLibgIyFdamM7SpUu1YsUKxcbG6ty5c+rTp4+ee+45PfHEE0ZHM6Vhw4apT58+io6OVs+ePfXFF1/o7rvvNjqW6Q0cOFDly5dnHVwRcGHh6vz000+Kjo7Wpk2bVKZMGU2dOlUhISFGxzKt7Oxs2e12zZw5U0lJSfr444+Vl5dHGbyMV155RWlpaTp69KiCgoK0fft23XvvvUbHMq3KlSvrueee07Rp05Senq69e/dSBAvh5+enxo0by+l0Kicnx+g4pte9e3d9/vnnql27dr7x22+/3ZhAfwNfaWE6y5Yt0/LlyyVJVatWVXR0tMLCwiiDl+Hj46MuXbro+PHjqlChAh88i+jUqVNasGCB0TFMbdasWRowYICGDh1a4PMcol4wm82m3Nxc10WG1NRULjgU4tVXX3V9kCpXrpwcDocGDx6sWbNmGZzMnPbv368vvvhCEyZMUJcuXTRo0CANGjTI6FimFRUVpZ9//lkffPCBsrOzNWfOHH333XcaMGCA0dFMadCgQTp79my+46qYNnp5derUUUxMjO655558m/iVpKnIlEGYTl5eXr5/UH+epoBLlSpVSmfPntUdd9yh3bt364EHHpDdbjc6lun985//1L59+zi/shB169aV9MeaLhRdr1699OyzzyolJUUTJkzQ+vXr9dJLLxkdy7ROnDihd999V5Lk6+uriIgIdejQweBU5lW5cmXZbDbdcccd2r9/vzp27Ki8vDyjY5nWN998o9jYWElSQECAFixYoE6dOlEGL2PLli0aMmSI6tWrJ6fTqWHDhmny5Mlq0aKF0dFMaffu3dq9e3e+sZK2jIIyCNNp1aqVnnnmGbVr1042m03r1q0rMQd3GuGZZ55RRESEZs2apSeeeEJr1qxRvXr1jI5legcOHFCnTp3Yka8QF9cKdurUScnJyQoICNB3332n/fv3q0uXLganM6+OHTuqXr162r59u+x2u+bOnctFh0LYbDbt37/fdXfw119/ZYpoIWrWrKlx48bpqaee0muvvabk5OQSs2uhES5cuKCcnByVK1dOkijOVzBt2jQtWbJE1atXl/THsUsDBw6kDF7GjbCMgg1kYEqfffaZduzYIW9vbwUFBalt27ZGRzKtM2fOuKZwZGVl6fDhw6pTpw5n5l3Bnj17VLly5UvGq1atakAacxs9erTy8vLUu3dv9enTR82aNVNubi4bolxGbm6uNm/erHPnzuUb79ixo0GJzC0hIUGRkZGuQ61TU1M1depUzkq9DLvdru+//15BQUHasGGDEhIS9OSTT5aYnQuL28KFC7Vs2TLXxa1Nmzape/fu6tatm8HJzCk0NFSrV6++4hj+kJaWpjfffFNHjx7VzJkzNWXKFA0dOrREHYlGGYRpXJyy99///rfA51kgX7B27dqpQoUKatGihVq2bMkdiCJ69NFH9fnnnxsdo0To3LmzPv30U82ePVuSNGDAAHXp0kWffvqpwcnM6emnn5bT6bzkwgJrLC8vNzdXv/zyi7y8vHTnnXeWiB34jJCWlia73e66ALhjxw7dddddrOm6gh9//FE7d+6Ul5eXgoKC2GStEH379lWLFi3UuXNn2Ww2rVy5Ups3b9a8efOMjmZK4eHhatasmZYuXapPPvlE77zzjhITEzV//nyjoxUZ8zBgGosWLdLEiRMLvNtgs9m0dOlSA1KZX1xcnI4dO6ZNmzZpxowZOnz4sBo3bqw33njD6GimdiMs+i4udrtdDodDX331lcaMGaPs7GxlZ2cbHcu0UlNTuYpeBGxQdHV+/vln9e3bVxMnTlRwcLCkP9Z3vfrqq3rvvfe4EPgXX3/9tVq2bKmYmBhJchXmX375Rb/88gt36i9jwoQJGjt2rGbMmCGHw6EmTZpo7NixRscyrWPHjiksLEzLli2Tj4+PIiIiFBoaanSsq0IZhGlMnDhRkjRmzBjVrFnT4DQlh8PhUGpqqrKzs+V0OnXhwgWdOXPG6FimdyMs+i4uHTt2VPPmzXXvvfeqQYMGateuncLCwoyOZVpNmjRRQkKCmjRpwnTtQrBB0dWZMmWK3nrrLTVu3Ng1FhERoaCgIE2ePFkLFy40LpwJ/fjjj2rZsqW2b99e4POUwYL5+/uzk+9V8PT0VHp6umvH6MOHD5e4r/tME4XpdOjQQR4eHgoJCdFjjz3GeUBX0KhRI5UpU0bdunVTq1atuDoMt3A4HK5vcH9ep4pLLVy4UJMnT3Z9OLi4OVFiYqLBycxp4sSJCg0NZeOrK+jUqZOio6MLfK5Dhw6uHTOR3/r16/XQQw+xKdEVvPjii5ozZ45at25d4FE469atMyCV+X377bd66623dPLkSTVq1Eg//PCDJk6cWKI2PqQMwpR+/fVXffbZZ4qPj9fNN9+sDh06cBXvMjZv3qxt27Zp165d8vDwUFBQkO6//341a9bM6GimdiMs+na3kSNHaty4cerZs2eBHw4WLVpkQCrza9eund5//32mHBfRkiVL9NlnnyktLU0hISEKCQnRrbfeanQs0wkJCVFsbOwldx0cDocee+wxxcXFGZTM3MLDw/XDDz+oZcuWCg0NVaNGjYyOZEq///67qlSpoqNHjxb4/G233VbMiUqOM2fO5DuX8R//+IfRka4KZRCmlZOTow0bNuj9999XWloa0/eu4Ny5c/ryyy81b948paSk6Pvvvzc6kqndCIu+3W3v3r2qV6+eduzYUeDzTO8r2NNPP625c+eqbNmyRkcpUU6ePKm4uDitXr1a5cqV00cffWR0JFMZO3asKlWqpPDw8Hzjs2fP1tGjRzV16lSDkplfRkaG1q9fr88//1xHjx5V27ZtNXDgQKNjmdLAgQM1Y8aMfGO9e/fWBx98YFAiczt37pzWrFmjs2fP5jvi5eWXXzYw1dXhnjlMZ8OGDVq7dq127dql4OBgDR06lC3GCxEVFaVt27YpPT1dDz74oEaOHJlvTQkKdiMs+na3i9P21q1bp5EjR+Z77vXXX6cMXkalSpX02GOP6d5775W3t7drnA1RLi89PV1btmzRli1bZLfbmdlQgFdeeUV9+/ZVTEyM6tSpo1KlSunnn3+Wn5+f5s6da3Q8U/P19VWjRo30+++/6+TJk1wsLUB4eLj279+vkydPqk2bNq7xCxcuFHgME/4wcOBAlS9fXjVr1ixwBk1JQBmE6SxfvlydOnXS5MmT2V68CCpXrqypU6fqzjvvdI0dP36c8/Ku4EZY9O1uw4cP12+//aa9e/fqwIEDrnG73X7JGXr4fw899FCJWi9itH79+unnn3/Wv//9bw0cOFANGjQwOpIp+fr6aunSpdq2bZsSExPl4eGh7t27KygoyOhoprZgwQKtXbtWubm5Cg0N1fz581WlShWjY5nO+PHjlZqaqgkTJmjEiBGucU9PT/ZuKMSpU6e0YMECo2NcE6aJwnQ6d+6sVatWGR3D9E6ePCmn06m+ffvqvffec01PsNvtev755xUfH29wQnPbtGmTpk2bVqIXfbvbsWPHdPz48QI/HNSoUUOVKlUyMJ25HTt2TAcPHlTz5s118uRJVatWzehIpvXVV1+pRYsWbPABtxg+fLh69Oihf/7zn0ZHKTH279+vrKwsOZ1OORwOHTt2jH0bLmPw4MHq3bt3id68j6+8MB0/Pz99//33ql+/Ph8OCjFz5kxt375dycnJ6t69u2vcy8uLQlMEwcHBqlevnmvR99ixY9k85i9uvfVW3XrrrfL392dK6FWIi4vT3LlzlZOTo48//lhdu3bV4MGD1aFDB6OjmdK0adP08MMPGx0DN6j//ve/mjBhgtExSoxRo0Zpy5YtSk9P1+233679+/fr3nvvpQxexoEDB9SpUydVrlxZpUqVcu0eXZL2ueCTNkwnMTFRTz31lGw2mzw9PV3/sPbu3Wt0NFOpXbu2Jk2apPnz56tv375GxylxwsLCtHz5cldxdjgc6tChg9asWWNsMBPKycnRyZMnFRgYaHSUEuG9997TsmXL1KNHD1WuXFnR0dF69tlnKYOXUa1aNQ0dOlQNGjRQ6dKlXeN8+MT1UKdOHcXExOiee+7J9/eL3X4LtnnzZsXHx2v8+PF6+umnlZmZyeZEhZg9e7bREa4ZZRCms2nTJqMjlAiLFi1Sy5YttXr1aoWEhOivM775RlewXr16uXbHrFOnjmvNoKenp1q1amVkNNM6ffq0WrVqVaKvfBYnDw8P+fr6uh4HBASwHrUQN910kyRp9+7d+cYpg5f366+/KjU1Nd/XfTZaK9ju3bsv+bvF16/LCwgIkI+Pj2rUqKH9+/erXbt2rBEvwPr16/XII4+oatWqSktLU8WKFV3Pvffee3r++ecNTHd1KIMwHYfDoYULF+rQoUMaNmyYlixZoj59+sjT09PoaKbSsWNH9enTR7///nu+aaIS3+gKc/FsvPHjx+dbB4fL+89//mN0hBKlZs2aWrJkiS5cuKDExER99NFHJXo9ibtd3GX1rx+oULCRI0dq06ZN+c59s9lsnPt5GRs2bDA6QokSEBCg999/X/fdd5+mTZsmDw8P5ebmGh3LdN555x098sgjkqRnnnlG0dHRrufi4uJKVBlkAxmYzqhRo+Tr66uNGzdq5cqVGjlypLy8vDRlyhSjo5nS6NGjNWbMGKNjlDh5eXnasmWLzp49m2+cuxEFW7NmjQ4ePKh+/fpp3bp1vE+FyMrK0ty5c5WQkCCHw6EmTZropZdeyne3EP9v3759GjRokHJycrR8+XL16NFDb7/9turWrWt0NFN65JFHFBcXx27bRZSWlqY333xTR48e1cyZMzVlyhQNHTqUNeKXkZGRoQ0bNig0NFQLFy7U1q1b9fTTT6tp06ZGRzOVjh07KiYm5pKfF/TY7LgzCNP58ccfFR0drYSEBJUtW1ZRUVEKCQkxOpZpjR49Wh999JG2bdumCxcuqEmTJurRowfT0q7gtdde04kTJ1SjRo18ZwNRci4VFRWl33//XT/99JOef/55ffrpp9q3b5+GDBlidDRTKlu2rF599VW9+uqrRkcpEcaNG6d33nlHr776qm6++Wa98cYbGj16tD755BOjo5lSYGCgzp8/TxksopEjR6pZs2bas2ePypYtq4CAAL322muaP3++0dFMycPDQ5mZmZKkRx99VBkZGWrUqJHBqcztr+cLlrTzBimDMB2bzaa8vDzXP6bU1NQS9w+rOL355ps6cuSIunTpIqfTqVWrVuno0aNMgbyC/fv3c/xGEW3evFnR0dHq1KmTfH19tWDBAoWGhlIGL6NFixZKTk523Xk4d+6cKlSooFtvvVXjx49ni/u/yM7OVo0aNVyPmzVrxkyQAgwdOlTSH8cHdejQQUFBQfmWT1ycbov8jh07prCwMC1btkw+Pj6KiIhQaGio0bFMKzIyUnfccYckqVy5csrJydHgwYM1Y8YMg5OZy430uZQyCNPp0aOHevfurZSUFE2ZMkXr1q1Tv379jI5lWlu2bFFMTIzrTuBDDz3EndQiqFGjhpKTkzlMtwgu/t26+M0vNzeXO8+FuO+++9S2bVvXepKNGzcqPj5ePXv21JgxY/Txxx8bnNBcKlWqpH379rn+fq1evZq1gwW4eLxLQce83EgfTK83T09Ppaenu96jw4cP8/WrEL/99pveeecdSZKvr69ee+01dkIuwOHDh9WrV69Lfu50OnXkyBEjo101yiBMp3Pnzqpbt662bdsmh8OhWbNmsXakEHa7XRcuXHBNGbLb7Wy2UwQ5OTlq27atatWqlW+6FZswXKpt27YaNGiQ0tLStHDhQq1evVqPPfaY0bFM68CBA4qKinI9btGihWbMmKG7775b58+fNzCZOb3xxht6/fXXdeDAAQUFBal69er53j/8oVOnTpKkefPm6YUXXsj33LRp04yIVCKEh4erZ8+eOnnypF588UX98MMPmjhxotGxTMtms+ngwYO66667JEmHDh3izOcCzJs3z+gI1w3/78JUzp49Ky8vL9WuXVsVKlTQF1984Zq7joKFhISoV69eat++vSTps88+44N6Efz1wxQur2/fvvr22291yy236OTJkxowYIBatmxpdCzTqlChgj7++GOFhobK4XBozZo1qlixon799Vc5HA6j45nObbfdpmXLlikrK0sOh4ONdi4jKipKp0+f1oYNG3T48GHXuN1u1+7du/XKK68YF87EHnzwQdWtW1d79uyR3W7X2LFj9Y9//MPoWKYVGRmpXr166dZbb5UkJScnM227AAXdoS+p2E0UprFlyxa99tprmjlzpu6880499thjatKkiX777Td17dpVjz/+uNERTWvTpk3aunWrnE6nmjRp4jpIHbgeXnrpJYWGhqply5ZsWlEESUlJmjBhgrZs2SJPT081bdpUw4YN07p161S9enUFBwcbHdEUHA6HPvroI91///2qVauWFi1apJUrV+ruu+/WyJEjKYV/sWfPHh08eFCzZs1SeHi4a9zT01P33HOPbr/9duPCmdT+/fvl5+cnf39/7dmzR7Gxsbr77rvVpUsXo6OZ2vnz57Vv3z55eXmpRo0aKl26tNGR4EaUQZhGWFiYJk2apDvvvFPvv/++Nm7cqMWLFys9PV3du3fX6tWrjY5oOna7XXa7XT4+PkpPT1dCQoJq1arlWvyNS/35oPk/u3iQemJiogGpzO3rr7/WZ599pu+++07NmzdXaGjoDXVVtDjk5OTwgeov3nzzTf3vf//T8OHDlZSUpL59+2rWrFn66aefdPDgQe5GXEZGRgZFuQhiYmI0c+ZMzZgxQ5UqVVJoaKh69eqlgwcP6u6779ZLL71kdERTmTNnjl588UWNGDGiwO+R48aNMyAVigPTRGEa2dnZuvPOOyVJ27Zt08MPPyxJKl++PFOrCvDjjz/qxRdf1KRJk9SwYUN16tRJ/v7+OnPmjCIjI12bVyC/ffv2GR2hxGnZsqVatmyp8+fP6+uvv9bkyZOVmpqqr7/+2uhoprRhwwa9/fbbysrKktPplMPhUHZ2trZt22Z0NFPZtGmToqOj5eXlpQ8//FBt2rRR06ZN1bRpUz366KNGxzMdLmRdnQ8//FCffPKJ/Pz8NHv2bDVu3FgRERHKzc1Vp06dKIN/UatWLUlSgwYNDE5SsuXm5uqbb75R69atjY5SZJRBmIbT6ZTT6VROTo527dqlwYMHS/qjJObk5BicznymTp2qGTNm6N5779XixYtVsWJFLVu2TCkpKXrhhRcog7iuDh48qM8++0zx8fEKDAx07ZyGS02aNEnjxo3TggUL1K9fP61fv17Z2dlGxzIdDw8P18YUO3bsyLeOlwuAl+JC1tVxOBzy8/OTJG3fvl3t2rWTJKa6X8bFzwxPPPGEsrKylJGRISYPFt3QoUOVmZmp7OxslStXjjII/B0PP/ywXn75ZdntdtWuXVu1atXSL7/8olmzZpWof1TFJS0tTffee68kaevWrWrTpo0kyd/fX3l5eUZGww0mJCREnp6eCgkJ0YcffshxHFdQvnx5NWnSRP/973+Vnp6uyMhI1wdR/L8yZcroxIkTyszM1K+//qqmTZtK+qP0MA3y8s6cOaPVq1crMzPTdef52LFjmjp1qtHRTMVmsyk3N1dZWVn6/vvvXTuIpqamym63G5zOvN577z3NmTNHFSpUkM1mc915/uabb4yOZiq7d+/W/Pnzde+996pPnz7q06ePnnrqKeXl5Wnp0qVGx7sqlEGYxqBBg7RmzRqdOnVKnTt3liR9++23uvPOO/MtlscfLl6xy8vL086dO9W/f3/XY3ZgxfUUFRWl2rVrGx2jxChdurQOHTqkGjVqaMeOHWrSpAkXaAoQERGhsLAwZWRkaMCAAapUqZI++ugjvfPOOxygXohBgwYpMDBQP/zwgx555BF98803ql+/vtGxTOeJJ55QWFiYpD+Od6lWrZq2bt2q6dOn68knnzQ4nXktX75cX375JTuuXsGIESP03HPPadeuXRo3bpzWr1+v/v37q1GjRho3blyJOk+WMghT+eth6X369DEoifndd999GjNmjPLy8nTzzTerfv36SkpK0ty5c9W8eXOj4+EG0LNnz0IPs+ZMxoINGjRIb7/9tt58803Nnz9fy5cvZ/fCAjRu3FhfffWVcnJyVKFCBUlS3bp1tXTpUnbGLERycrIWLVqkKVOmqHXr1nruuef09NNPGx3LdLp376769esrJSXFtYNvUlKSunbt6rrgjEsFBga6ptfi8pxOpx544AH9X3v3Hpfz/f8P/HF1jhz7KerjNKIIn49PqSxDmgnlKlNDM2OsfZSzNIZZzKGc0jDbMJRzXeQTOcQ05NgI5TAzh3JoVkZLXV3X7w/fro+L2GzxenX1uP919br+edw28n6+X6/X86lQKBAeHo6oqCjdM2xhYaHgdC+GxSBRJRUREYFvv/0WeXl5uuGn8fHxKCoqwtSpUwWnI0MQFhYGANi4cSMsLCygVCphYmKC7du3c3j6c3To0EHXbXXLli0oKChArVq1BKeSk5mZmd4dLjav+GNlf5aaNm2K7Oxs/jd7jrZt2+r9rFQqBSWpPJo2bYqBAwfC3d0d5ubmuvWQkBCBqeTzwQcfoHfv3mjevDnGjh2L7du3o0uXLkhPT0eNGjVEx3shHC1BRETP1bdvX2zZskVvLSAgAAkJCYISye3cuXNYtmwZCgoK9BowcCeVKsKCBQvw008/YeLEiRgyZAjc3NyQnZ2NjRs3io5GBmDhwoXlro8ePfoVJ6lcYmJisHr1ajRq1AjR0dG67viVAYtBIiJ6rt69e2Px4sW6+ZXnz5/HhAkTOPvzGXx9fREUFAQHBwe9Y7aczUgV5erVq2jUqBHOnj2LY8eOwcfHB7a2tqJjEVElxGOiJI3WrVvrPTgZGxvDyMgIJSUlqFatGo4ePSowHVHVFRERgXfffRe2trbQarX45ZdfMG/ePNGxpGVhYYHg4GDRMaSnUqme+z2P9D3bqVOnsGXLFoSEhODixYssBJ9j6NCh+Oabb0THqDSefBYDAGtra3z33XeCEtHLxmKQpHH69GlotVp89tln+Oc//4k+ffrAyMgIO3bs4LDm51iwYAHGjBkjOgYZME9PT6SmpuLChQtQKBRo2bIlrl27JjqWtDw98d/T8AAAIABJREFUPbFmzRp4enrq3bmxs7MTmEo+R44cee73LAbLFx0djZs3b+Ls2bMYNmwYtmzZguzsbERERIiOJqXff/8dubm5aNCggegolcLp06d1n0tKSrBnzx6cPXtWYCJ62XhMlKTj7++PxMREvTWlUvmHb5GrKj8/P2zduvW5XR+JKoJarcauXbuwfv16ZGZmIiMjQ3QkKXl5eT21plAosHfvXgFpKqeioiJYWFiIjiElpVKJxMRE+Pv7Q6VSQa1Ww8/PD8nJyaKjScnHxwdXrlyBtbU1zM3NdXPz+Pfxz+MzmGHjziBJx9zcHCqVCj4+PtBqtdi6dWul68z0KtWuXRs9evRA69at9XYhOKeLKsq1a9ewYcMGJCQk4N69ewgJCXlmkwECUlNTRUeoVFJTU7Fw4UIUFhbqhqgXFRXh8OHDoqNJycjICAB0LwCLi4t1a/S0r7/+WnSESiUpKUn3WavV4tKlS/zzVQ5DGr3EYpCkExUVhenTp2PatGlQKBTw8PBAdHS06FjS8vf3Fx2BDNTu3buxfv16nD17Fm+++SaioqIwZcoUhIaGio4mtStXrmDt2rV6xc3169cRFxcnOpqUZs2ahcjISKxcuRIhISHYs2cPfv/9d9GxpNWjRw+MHj0aBQUFWLVqFbZt24bevXuLjiUte3t7JCUl4dKlSwgJCUFKSgqPID/HgQMHdJ8VCgXq1KmDBQsWCEwkp7LRS4aAxSBJp2HDhnyT9wL8/f1x/fp1XLp0CZ6ensjNzUXDhg1FxyIDEBYWBh8fH2zYsAGNGzcGAB5H/hPGjh2LLl264MSJE/D398fu3bvh4OAgOpa0atSoAXd3d5w8eRK//fYbJkyYgJ49e4qOJa3hw4cjLS0NdnZ2yM3NRVhYGLp27So6lrR4x/LFREVFiY5QKVSvXh2tW7fGsWPHREf521gMknQOHTqERYsWIT8/X289JSVFUCK5JScnY+nSpSgqKsL69evxzjvvIDw8HH369BEdjSq5bdu2ISEhAQMGDIC9vT169eqF0tJS0bGkV1JSgpEjR0KtVqNVq1YIDAxE3759RceSloWFBX766Sc0a9YMR48ehbu7O0pKSkTHkk5OTo7uc7NmzdCsWTO979igqHzff/+97o6llZUVVq5cCT8/PxaDz7B7924sX74c9+7d01vnM5i+9evXIzIyEjExMU99p1AoeEyU6O+YPn06JkyY8NSMLirfV199hXXr1iE4OBjW1tZITEzE+++/z2KQ/rYWLVogIiIC48ePx/79+5GQkIC8vDwMHz4cAwcOROfOnUVHlJKlpSWKi4vRpEkTnD17Fi4uLqIjSW306NFYuHAhoqKisHz5cmzYsIHFczmCg4OhUCig1Wpx584d2NjYAAAbovwB3rF8MZ9//jk+//xz2Nvbi44itcjISADAmjVrBCf5+1gMknTq1KkDb29v0TEqDSMjI1hZWel+trGx4T90VKFMTEzg7e0Nb29v3L17FyqVCvPmzWMx+Ax+fn4ICQlBdHQ0goKCkJaWxjlwz9GhQwd06NABALBlyxYUFBSgVq1aglPJ5/HGROzu+OfxjuWLadiwIdzd3fky/k84duwYlixZgszMTCgUCjg7O2PEiBGV7gUgR0uQdKKjo6HRaNCpUye97pjt27cXmEpeERERcHZ2xvr16xEVFYX4+HgUFRXx3D+RQPfv34eVlRVu3ryJzMxMvP7666hWrZroWFKZMmUKIiMjn9mVrzIds3rVyhvBRM+WlpaGQ4cOQaPRwN3dnXcsn2P//v1YuXIlXF1dYWLyvz2jkJAQgankc/jwYYSHh+Ojjz6Cq6srSkpKkJGRgWXLliE6Ohpubm6iI/5pLAZJOgMGDHhqTaFQsBPfMxQWFmLp0qV6/9CFhoaievXqoqMRVSl/tFPDDob6zpw5A2dnZxw9erTc78t2C+lp3Bl8MefPn3/qDpyrq6ugNHLr378/GjZs+NQd1NGjRwtKJKfg4GBMnjwZTk5OeutnzpzBrFmzKtUzK4+JknTi4+NFR6hUUlJSMG7cOIwbN063FhcXh4EDBwpMRVT1REREwNraGh4eHjA1NX3qexaD+pydnQEAjRs3xurVqzFhwgRcu3YNixcvRnh4uOB0cuMRvj9vzJgxOHfunO6OJVD5Gny8SsXFxZg7d67oGNK7f//+U4Ug8Oj3WkFBgYBEfx2LQZLO6dOn8dVXX+lmdJWWluLGjRvYs2eP6GhSWbVqFe7fv4/169fjxo0buvXS0lIkJSWxGKS/7Y9aZvPNur7ExEQkJyfj4MGDcHR0RM+ePdGxY0fe4f0D48ePR69evQAAtra2cHFxQXh4OFasWCE4mVwcHR11RaBWq9U9iJY1kMnKyhIZT1rZ2dlITk6GsbGx6CiVgqenJ9atW4dOnTrpvdTivWd9hYWFUKvVekdpAUCtVkOtVgtK9dewGCTpfPzxx3jvvfegUqkQHByMXbt2oUWLFqJjSadJkyY4c+bMU+tmZmaYPXu2gERkaMpaZufn5+Pq1ato3749jIyMkJGRgRYtWmD9+vWCE8rFyckJTk5OGDduHDIzM5GcnIz58+fD2dkZvXr1qlR3SF6lgoICvPPOOwAe/f4KDAzEunXrBKeST3Z2tugIlVK7du3w888/47XXXhMdpVIoO368bNky3ZpCocD+/fsFJZKTp6cnoqOj9UaUlJaWYtasWejSpYu4YH8Bi0GSjqmpKQIDA5Gbm4u6desiOjoafn5+omNJp0uXLujSpQt8fHz05k0RVZSyltnDhg1DbGysbvD8jRs3MHXqVJHRpNemTRu0adMGx48fR3R0NJKSkpCRkSE6lpQsLCzw3Xff6brTHjp0CJaWloJTkaFwd3dH7969YWNjA2NjY47i+APfffed6AiVwvjx4xESEoI333wTzs7OKC0txZkzZ9C8eXPExsaKjvdCWAySdMzNzXHv3j00bdoUp06dgru7OzQajehY0ho2bFi590f4Dx1VlJycHF0hCAB2dnZ6A7Dpf7RaLY4dO4adO3fiwIEDcHJywrvvvsvuhc9RNlu27J5ggwYNeGeJKsyXX36Jb7/99qmGKFS+K1euYNOmTU813Cmbq0ePVKtWDatXr8bRo0d1oyUGDRpU6cZKAOwmShL673//i82bN2Px4sXo27cvzMzM4ODggPnz54uOJqXH7wuq1Wrs3r0bxcXF+M9//iMwFRmS8PBwKBQK+Pj4QKvVIikpCdWrV+fDwROmTZuGtLQ0tGrVCj4+PvDy8uIO1wv49ddfYWpqqjc3lejvGjBgAOLi4th050/q1asXunfv/lTx3K9fP0GJ6GVjMUhS0mg0MDIywv3793H58mW0bt2al79fQEBAABISEkTHIANRXFyMtWvX6kYAdOzYEQMGDHjq4nxV5+joiNq1a+vmCT758Mnd+vKdO3cOy5YtQ0FBAR5/JGG3x+fLycmBjY0N7ty5gxUrVmDy5MmiI0lp0qRJuHjxIjp27KjXECU0NFRgKnm98847vA9exfBfcpJSWfc9KysrtG3bVnAauT3e8VGr1eLixYt4+PChwERkaMqaepTtDALA7du3eezqCSz2/pqJEyciKCgIDg4O3L15AStWrEBKSgrMzMwwaNAg0XGkZWdnx99VL8DPzw8xMTHw8PDQewnfvn17ganoZWIxSFTJlXV8BB7tRNSpU4fdRKlCLVu2DMuXL0ft2rWhUCjYgOEZ7O3tRUeolCwsLBAcHCw6hvTWr1+P6Oho/Pvf/8aiRYvg5eWFHTt2wMzMDPXq1RMdT1rcAXwxmZmZOHLkCNLT03VrCoWiUg1RpxfDY6Iknbt376Ju3bqiY1Q6+fn5MDY2Ro0aNURHIQPj7e2NjRs38u8lvRSLFi1C3bp14enpCXNzc906d3P0+fj4YMWKFTh27Bji4uKQm5uLmJgYNGzYEIMHD0ZSUpLoiFJ6fD5jGRsbG3bNfAZfX19s27aNu/RVCHcGSTpBQUFo3rw5AgIC0LVrV95L+gPZ2dkIDw/HrVu3oNVq8dprr2HOnDl63R+J/o4GDRqgVq1aomOQgdq6dSsAYOXKlbo17jw/zdLSEsePH8fx48dx5swZLFmyBP/85z8BPH0/lf7n8fmMJSUl2LNnD3744QeBieTWrFkzXLp0CQ4ODqKj0CvCnUGSUnp6OlQqFY4dOwYvLy8EBATAyclJdCwpBQQEICwsTNe6fvfu3Vi5ciXi4+MFJyNDMWXKFFy4cAFubm4wMzPTrfP41bNdvHjxqYYorq6uAhNRZXfu3DksWbIEzZs3R6dOnTB16lSMGTMGR44cwS+//MKO2y+gT58+upcQpC8gIADZ2dmoX78+TE1NddcCUlJSREejl4TFIEmruLgYO3bswPz586HRaGBra4upU6eyocwT/P39kZiYqLemVCqhUqkEJSJD86wBuiwGyzd9+nTs27cPDRs21K0pFAp2x3yGK1euYO3atSgsLIRWq4VGo8H169d5R+kPfP/994iPj0ejRo0QGhrKkRzP8Pi/hWVN1o4cOYItW7YITCWvq1evlrveqFGjV5yEXhWevyPpHD16FCqVCmlpafD09ER0dDRcXV2RlZWFkJAQnvN/QseOHbFkyRIEBgbC2NgYycnJaNasmW4oOO/d0N/1ZNGn1Wpx/fp1QWnkd/DgQezcuRMWFhaio1QKY8eORZcuXXDixAn4+/tj9+7dPKL2J3h6esLT01N0DOkdOXJE7+c6depg4cKFgtLIr1GjRti4cSMOHz6M0tJSuLm5oX///qJj0UvEYpCkM3/+fPTt2xeTJ09G9erVdetOTk5sn12OHTt2AAA2b96stx4cHMx7N1QhNmzYgDlz5uD333/Xrf3jH//A7t27BaaSV8OGDcFDN39eSUkJRo4cCbVajVatWiEwMBB9+/YVHYsMxKxZs3Sf79+/j9zcXL1de9IXFRWFH3/8EQEBAdBqtUhISMC1a9cQEREhOhq9JCwGSTqLFi0C8OiX9v3796FQKGBhYYGaNWti6NChgtPJJzU1VXQEMnBffvkltm7dioULF2LMmDH47rvvcPLkSdGxpFWrVi306tUL//rXv/TuWD7+UEr/Y2lpieLiYjRp0gRnz56Fi4uL6EhkQDZt2oQTJ04gPDwcSqUS1atXR58+fRASEiI6mpTS0tKgUql08567desGX19fFoMGjMUgSWf48OG4dOkSmjVrBq1Wi59++gnW1tYwMzNDZGQk3N3dRUeUyuXLl7Fx40YUFBTorfPBkyqKtbU1GjZsiJYtW+LChQsYOHAg1q1bJzqWtDp16oROnTqJjlFp+Pn5ISQkBNHR0QgKCkJaWhpsbW1FxyIDsW7dOixbtgzbt29Ht27dMHnyZAQGBrIYfIbS0lKo1WrdiyyNRsOu7gaO/3dJOnZ2doiMjNQ1isnKysLSpUsxceJEjBo16qnjkFVdaGgoevbsiZYtW4qOQgbK0tIS6enpaNmyJfbs2YM2bdqgqKhIdCxp+fv748KFCzh69CjUajXc3NzYDfk5goODoVQqYWVlhTVr1iAzM5N34crx+Ly8J48hKxQKZGVliYhVKZTNFRw0aBBMTEzw8OFD0ZGk1bNnTwwePBi9e/cGAGzfvh09evQQnIpeJhaDJJ3r16/rdQx1cnLC1atXYW9vj9LSUoHJ5FSzZk12daSXasqUKdi8eTMmTpyIzZs3w8fHh3/mnkOlUiE2Nhbe3t7QaDQIDQ3FRx99hLffflt0NCndu3cPSUlJyM/P1xU558+f55+xJzw+L4/+vObNm+PDDz/E9evX4eHhgdGjR6NNmzaiY0lrxIgRcHJyQnp6OjQaDYYOHYpu3bqJjkUvEUdLkHRCQkLQsmVL9OnTB1qtFklJSbh06RKGDRuG6dOnIyEhQXREqWzYsAE5OTlwd3fXO8rBmWZEYvTp0werVq1CnTp1AAB3797FoEGDsH37dsHJ5PT++++jRo0acHBw0BuezmKwfHfv3sW2bdvw4MEDvVEcc+fOFR1NSmq1GhkZGXBwcEDt2rWRmpqKzp07w9jYWHQ0Kd25cwdr167FmDFjcP36dXzxxReYMGEC6tatKzoavSTcGSTpREVFISYmBmFhYTA2NkbHjh0xe/Zs7NmzB59++qnoeNLJyMjAyZMn9Rp6cKYZkTgajUZXCAJA3bp19Yoc0peXl4eVK1eKjlFpjB49Gg0aNMAPP/wAb29v7N+/nztdz1FYWKg7tl22/3Hu3Dm+bHiGcePG4a233gIA1KtXD23atMGECRPwzTffCE5GLwuLQZJOjRo1MGLECHh6ekKj0aBdu3awsrKCUqkUHU1KZ8+exa5du0THIKL/07JlS8ycOVN3LHTz5s1wdHQUnEpeTk5OyM7O5n+jP+n27dtYvXo15syZg+7du+ODDz7Ae++9JzqWtEaNGlXuzjOVLz8/HwMHDgQAmJubY8CAAdi0aZPgVPQysRgk6Rw8eBARERFwdnaGVqvFpEmTMHv2bHTu3Fl0NCk5ODjwQYpIIjNmzEBMTAwmTZoErVYLNzc3TJs2TXQsaV28eBH+/v6wtraGubk5tFotZ6Q+R61atQAATZs2RXZ2Ntq1ayc4kdy48/xizM3NcfDgQbz++usAgCNHjsDCwkJwKnqZWAySdObPn4+1a9eicePGAIArV65g1KhRLAaf4fLly/D390e9evVgamrKBymqcN27d9dr3lQ2+/O1117DxIkTYW9vLzCdfCwsLBAeHi46RqURGxsrOkKl4u7ujpEjR2LixIkYMmQIzp49y4f15+DO84v59NNPMW7cOPz2229QKBSoU6cOoqOjRceil4gNZEg6fn5+2LZt2x+u0SM3btwod50P6FRRZsyYgX/84x+6Y4/btm1DZmYmvLy8EBcXh1WrVokNKAl/f38kJibqjQAAoHtBw9b/+vbt24euXbtCpVKV+z2vBjzb1atX0ahRI5w5cwbHjx9Hz549YWNjIzqWlPz9/ZGdnc2d5xeUl5cHExMT1K5dW3QUesm4M0jSqV+/PuLi4hAQEACFQoFNmzahQYMGomNJy87ODuvWrUN6ejrUajXc3d0RHBwsOhYZkBMnTuCTTz7R/TxgwAAEBARg1qxZWLJkicBkcklMTARQ/giA4uLiVx1HepmZmejatSuOHDlS7vcsBssXFhaGxYsXAwCcnZ3h7OyM9957D99++63gZHLizvOLyc3NxZQpU3Djxg2sWbMGQ4YMwYwZM2BnZyc6Gr0kLAZJOjNnzsRnn32GRYsWQaPRwN3dHZ999pnoWNKaO3cufv75Z/Tt2xdarRYJCQm4du0aJk+eLDoaGQgjIyOkpaWhU6dOAIC0tDSYmZkhLy8ParVacDr5BAUFYcOGDbqfNRoN+vbti6SkJIGp5BMUFAQAmDVrluAklUNoaCiysrJw69YtvblvpaWlqF+/vsBkcuML0xczZcoUvPvuu1iwYAGsra3h7e2NiRMnYs2aNaKj0UvCY6JElZyfnx9UKhWMjIwAPJqp5Ovrix07dghORobiwoULiIiI0B1JbtSoEWbPno2dO3fCzs4O/v7+ghPKYdCgQTh69OhT6yYmJvDy8kJMTIyAVPIqO1YLACtWrMCQIUMEJ5Lb/fv3kZ+fj5kzZ+rt1JuYmMDa2lpvziz9z5w5c556YWpvb88Xps8QEBCAhIQEKJVK3RHuPn36YOvWrYKT0cvC3xwkje7duz+37XNKSsorTFN5lJaWQq1Ww8zMTPczh+lSRWrRogUSEhJQUFAAY2NjWFlZAQBGjBghOJlcymZ7zpgxQ+9hncr3+LvopKQkFoN/4Oeff0br1q3x/vvvIycnR++7q1evwtXVVVAyuR08eFDvhWmXLl3g6+srOJW8zM3NcevWLd3zWEZGBkxNTQWnopeJxSBJ4+uvvxYdoVLy9fXFoEGD0KtXLwDAf//7X/Tu3VtwKjIk586dw7Jly1BQUKD3AF9W/JC+CRMmYPfu3Xjw4AGARy9orl+/jlGjRglOJpcnm+zQ861btw4zZszQ3Rd8nEKh4N/HZ+AL0xcTERGBYcOG4dq1awgICEBeXh4WLFggOha9RCwGSRqNGjXSfd64cSMOHz6M0tJSuLm5oX///gKTyS0kJAStWrXC4cOHodVqERISgi5duoiORQZk4sSJCAoK4tDmP2ncuHEoKCjA1atX4eLigiNHjqB9+/aiY0mNf67+2IwZMwBAd3crPz8fxsbGqFGjhshY0uML0xfTrl07bN68GZcvX0ZpaSmaN28Oc3Nz0bHoJeKdQZJOVFQUfvzxRwQEBOjO9zdt2hQRERGio0mnoKAApaWlqFu3LoBHw2EdHBx0PxNVhH79+mHTpk2iY1Qab775Jnbt2oWZM2eib9++sLKywujRo7FlyxbR0aTi7OwMW1tbAMCtW7d0n9n6//mys7MRHh6OW7duQavV4rXXXsPcuXP1XqiSvgMHDuhemLq7u/OFaTk++eST576UiYyMfIVp6FXiziBJJy0tTe98f7du3eDr68ti8Annzp3D8OHD8fnnn+ONN94AABw6dAjjx4/HV199xQG7VGE8PT2xZs0aeHp66r0hZqvx8llbW0OhUKBp06Y4f/48lEolSkpKRMeSDu+B/zWTJk3CmDFj0LVrVwDA7t27ERERgfj4eMHJ5FP2wvSNN97AG2+8oXthSk9r166d6AgkCItBks6T5/s1Gg27pJVjzpw5mDdvHtzc3HRrY8aMgYuLC2bPns1B4FRhyrrIrVy5UrfGnZtnc3BwQGRkJPr374/x48fj9u3bvBNXDnt7e9ERKiWtVqsrBIFHO9FffPGFwERy4gvTF9OvXz/d59zcXFy6dAkeHh64c+cOZz0bOB4TJel88cUXOHjwoO5M//bt29GxY0eEhoYKTiaXx9uyP4ltoInEKS0tRUZGBlxcXJCamorDhw+jX79+aNGihehoZACioqJQvXp1BAYGwtjYGMnJyTh58iTGjRsHgDv2Zd577z385z//0XthCjw6ffTNN9/whekz7Ny5E7GxsSgqKsKGDRvg6+uLSZMm8Z6lAeN2C0lnxIgRcHJyQnp6OjQaDYYMGQJvb2/RsaSjVquh0Wh0x2nLaDQaHkmjCrF48WKEhYXh448/Lvd7DgsvX15eHvbt2wcXFxc4ODhgx44dvMdLFaZshuzmzZv11oODg7lj/5h79+49VQgCQKdOnRAdHS0gUeWwfPlyrF+/HsHBwbC2tkZiYiKGDh3KYtCAsRgkKTVp0gR16tTRHa06efIku/E9wdXVFbGxsRg5cqTe+pIlS+Ds7CwoFRmS1q1bAwA6dOggOEnlMn78eF3nQltbW7i6uiI8PBwrVqwQnIwMQWpqqugIlQJfmP41CoVCN0sWePQ7jN1+DRuLQZLOjBkzkJKSgoYNG+rWFAoF4uLiBKaSz9ixYzF8+HCoVCo4OjrC3Nwc586dQ926dbF06VLR8cgAeHl5AQBu376NDz/8UO+7+fPni4hUKRQUFOCdd94BAJiZmSEwMBDr1q0TnIoMxenTp3HixAkMHDgQISEhOHfuHObOnau7F0eP8IXpX9O8eXOsW7cOarUaFy5cQHx8PI+4GzjeGSTpdO/eHVu3boWlpaXoKNLTarVIT09HVlYWjIyM4OzsDBcXF9GxyEBER0fjl19+QWpqqq4wBB7diTt16hS7QT5DYGAgRowYgc6dOwN41LQiNjaW3R6pQgQGBiIsLAz5+flITk7GlClTEBYWxtElT7h//z6GDx+OmzdvlvvCtHbt2qIjSiUxMRH+/v548OABYmNjdbOePTw8MHLkSL3dQjIsLAZJOkOGDMGSJUtgYWEhOgpRlXb69Gn8+OOPiImJ0Xu7bmxsjLZt26JJkybiwkksKysLEyZMwJ07dwAADRo0wNy5c/l2nSrE22+/jc2bN2PcuHHo1KkTlEollEolVCqV6GjS4QvTP+95TenIsPGYKEmnTp066N27N9q3b68304wDT4lerbZt26Jt27bw9vaGsbExrl69ihYtWqCoqAjVqlUTHU9aTk5O2L59O3799VeYmpryjTpVKEtLS6xYsQLp6emYOnUqVq9ejerVq4uOJSWFQgEPDw94eHiIjkIkLRaDJB13d3e4u7uLjkFE/+fMmTOYOnUqSktLsWHDBvTu3Rvz5s2Dp6en6GhSevfdd8ttuLB69WoBacjQREdHY9OmTYiNjUWtWrVw69YtzJs3T3QsquQuXryIbt26PbWu1WrZpdbAsRgk6fTr1w8PHz5EQUEBBzUTSWD+/PmIj4/HsGHDUK9ePcTFxWHs2LEsBp8hLCxM91mtVmPv3r2oWbOmwERkSGxtbdGmTRvs2rULycnJcHNzQ/369UXHokqucePGWL58uegYJACLQZLO0qVL8eWXX6JWrVpQKBS6t1L79+8XHY2oStJoNKhXr57u5+bNmwtMI78nR3F07NgR/fr1w6hRowQlIkPy1VdfYdeuXfD19YVWq8WyZctw8eJFfPTRR6KjUSVmamoKe3t70TFIABaDJJ1NmzYhNTWVQ5qJJFG/fn3s27cPCoUC9+7dQ1xcHOzs7ETHklZOTo7us1arxaVLl5Cfny8wERmSbdu2YdOmTboma4GBgQgICGAxSH8LZzlXXSwGSTo2NjaoVauW6BhE9H8+++wzzJw5E7m5uXjzzTfh5ubGhk7PERwcrPusUChQt25dfPLJJwITkSHRarV63bbNzc1hYsLHOfp7pk6dKjoCCcLREiSNZcuWAQB++OEH3L17F2+88YbeP3AhISGiohFVab/++ivq1Kmjt/bk7EEiejVmzJiBW7duwd/fHwCgUqlgY2PDFw5E9JfwVRJJo6ioCADg6OgI4FHjBbVaLTISEQF4//33sWLFCtStWxd37txBZGQkLl26xGLwCR9//PFzv581a9YrSkKGbPLkyYiPj4dKpYJWq4W7uzuCgoJExyKiSooFymW0AAALTUlEQVQ7gySd0tJSfP/99+jcuTPu3r2LAwcOQKlUio5FVGWlpKRg6dKlUCqV+Prrr9G/f38MHz4cpqamoqNJpWxg8759+/DgwQP4+fnBxMQEycnJqFGjBmbPni04IRERkT7uDJJ0pk2bhqKiInTu3BkAcODAAZw6dQrTpk0TnIyoanrrrbdgZWWFsLAwLF26FG5ubqIjSans2F58fDw2bNgAIyMjAICPjw8CAwNFRiMD4OjoWO78yrKO21lZWQJSEVFlx2KQpHPq1CkkJSUBAOrWrYt58+bBz89PcCqiqsfLy0vv4VOr1WLEiBG6Bk8cQly+3377Dfn5+bqOyHl5eSgsLBSciiq77Oxs3WelUgmVSiUwDREZChaDJB2NRoO8vDz8v//3/wA8al5R9oadiF6dNWvWAAB++eUXWFtbC05TeYSEhMDPzw/t27eHVqvFDz/8wOYeVKHK2yEkIvorWAySdIYNGwalUglXV1cAQEZGBiZOnCg4FVHVUzaA+IMPPsCOHTsEp6k8lEolOnbsiIyMDCgUCnz66acspqlCsd0DEVUUFoMkHaVSCTc3N2RkZMDExAQRERGwtbUVHYuoynJ0dIRKpULbtm315ptx8Ly++Ph4DBgwAABQUFCAt956S/fdzJkzMXnyZFHRyMBwZ5CIKgqLQZJOSUkJtm/fjsuXL2PSpEmIi4vD0KFD2bmQSJBTp07h1KlTemsKhYJ3Bp+wadMmXTEYHh6u6y4KAMePHxcViwzE43d4b926hW7dugH4XwMZ/n0kor+CxSBJJzIyElZWVjh9+jSMjY1x8eJFfPLJJ5gzZ47oaERVUmpqqugIlcLjR/d4jI8qWtkdXiKiisRikKSTmZmJxMREHDp0CNWqVUN0dDR8fX1FxyKqsq5cuYK1a9eisLAQWq0WGo0G169fR1xcnOho0uIxPqpoZXd4iYgqEls0knQUCgVKSkp0D1O//vorH6yIBBo7dixq1qyJrKwsODk5IScnBw4ODqJjSYe/p4iIqLLhziBJJzg4GEOGDMGdO3cwZ84cpKSkICQkRHQsoiqrpKQEI0eOhFqtRqtWrRAYGIi+ffuKjiWdixcv6u5xPXmn686dOyKjERERlYvFIEknICAArVu3Rnp6OjQaDRYvXozWrVuLjkVUZVlaWqK4uBhNmjTB2bNn4eLiIjqSlFJSUkRHICIieiEKLW+5kyTCwsKwePFi0TGI6Alr165FamoqoqOjERQUhMaNG0Oj0WDFihWioxEREdHfwGKQpOHv76/Xip2I5HH//n1YWVnh5s2byMzMxOuvv45q1aqJjkVERER/A4+JkjQePHiA48ePP7Mlu6ur6ytORFS1qVSqZ363a9cuKJXKV5iGiIiIKhp3Bkka//rXv9CmTZtyi0GFQoHVq1cLSEVUdTk6OsLa2hoeHh4wNTV96vtZs2YJSEVEREQVhcUgSUOpVD53J4KIXq2srCwkJyfj4MGDcHR0RM+ePdGxY0cYGXEqERERkSFgMUjSYDFIJK/MzEwkJyfjyJEjcHZ2Rq9eveDm5iY6FhEREf0NLAZJGt9//z08PT1FxyCi5zh+/Diio6Nx/vx5ZGRkiI5DREREfwOLQSIieiatVotjx45h586dOHDgAJycnNCjRw907dqV3USJiIgqORaDRERUrmnTpiEtLQ2tWrWCj48PvLy8YGlpKToWERERVRAWg0REVC5HR0fUrl1btwOoUCj0vt+7d6+IWERERFRBWAySdG7cuIG1a9eioKBAb8wE29gTvVo3btx47vf29vavKAkRERG9DBw6T9IZPXo0XFxc4OLi8tROBBG9Oiz2iIiIDBuLQZKOWq3GxIkTRccgIiIiIjJonBxM0vn3v/+N1NRUFBcXi45CRERERGSweGeQpOPp6Ym8vDy9NYVCgaysLEGJiIiIiIgMD4tBIiIiIiKiKoh3Bkk6v//+O2JjY3H48GGUlpbC3d0do0aN4oBrIiIiIqIKxJ1Bks7HH38MS0tLBAYGAgA2btyI3377DVFRUYKTEREREREZDhaDJB0/Pz9s27ZNb61nz55ITk4WlIiIiIiIyPCwmyhJR6vV4t69e7qf7927B2NjY4GJiIiIiIgMD+8MknQGDx6Mt99+G15eXtBqtdi3bx+GDx8uOhYRERERkUHhMVGS0oULF3Ds2DFoNBp06NABLVu2FB2JiIiIiMigsBgkaezbtw9du3aFSqUq93ulUvmKExERERERGS4eEyVpZGZmomvXrjhy5Ei537MYJCIiIiKqONwZJOkcPHgQr7/+ut7arl270L17d0GJiIiIiIgMD3cGSRrJyckoLi5GTEwMRo4cqVtXq9X48ssvWQwSEREREVUgFoMkjQcPHuDkyZN48OCB3lFRY2NjjBkzRmAyIiIiIiLDw2OiJJ3Dhw/Dw8NDdAwiIiIiIoPGnUGSjqWlJT766CMUFhZCq9VCo9EgJycHqampoqMRERERERkMI9EBiJ40adIkeHt7o7S0FAMHDoStrS28vb1FxyIiIiIiMijcGSTpmJmZoW/fvrhx4wZq1qyJuXPnwtfXV3QsIiIiIiKDwp1Bko65uTny8/PRtGlTnDp1CsbGxigtLRUdi4iIiIjIoLAYJOkMHjwYY8aMQdeuXbF161b06tULzs7OomMRERERERkUdhMlKWm1WigUChQWFuLKlStwcnKCQqEQHYuIiIiIyGDwziBJ5/Lly9i4cSMKCgr01mfNmiUoERERERGR4WExSNIJDQ1Fz5490bJlS9FRiIiIiIgMFotBkk7NmjURGhoqOgYRERERkUHjnUGSzoYNG5CTkwN3d3eYmPzvfYWrq6vAVEREREREhoU7gySdjIwMnDx5EidPntStKRQKrF69WmAqIiIiIiLDwmKQpHP27Fns2rVLdAwiIiIiIoPGOYMkHQcHB2RnZ4uOQURERERk0LgzSNK5fPky/P39Ua9ePZiamupmDu7du1d0NCIiIiIig8EGMiSd06dPw9ra+ql1e3t7AWmIiIiIiAwTi0GSjo+PD3bs2CE6BhERERGRQeMxUZKOo6MjVCoV2rZtCwsLC926nZ2dwFRERERERIaFO4MkHS8vr6fWeGeQiIiIiKhisRgkIiIiIiKqgjhagqRz9+5djB49Gm5ubnBxcUFoaCjy8vJExyIiIiIiMigsBkk6U6dORZs2bbB3716kpqaiXbt2mDx5suhYREREREQGhcUgSefatWsYOnQorKysULNmTQwbNgw5OTmiYxERERERGRQWgyQdhUKB3Nxc3c85OTkwMWHjWyIiIiKiisQnbJLOqFGjEBQUhHbt2kGr1eLUqVOIjIwUHYuIiIiIyKCwmyhJY9WqVRg8eDCys7NhY2OD06dPQ6PRoF27drC2thYdj4iIiIjIoPCYKElj9erV+PnnnzF+/Hg8fPgQLVq0gKOjIx4+fMg7g0REREREFYw7gySNmJgYbNu2DTdv3oSNjY3edxw6T0RERERUsVgMknSmTZuG6dOni45BRERERGTQWAySdEpKSnDw4EHk5+frrSuVSkGJiIiIiIgMD7uJknTGjx+PnJwcNGvWDAqFQrfOYpCIiIiIqOKwGCTpnD9/Hjt37hQdg4iIiIjIoLGbKEmnWbNmuH37tugYREREREQGjTuDJJ2ioiL06NEDLVq0gJmZmW599erVAlMRERERERkWFoMknQ8//FB0BCIiIiIig8duokRERERERFUQdwZJGo6OjnrdQ8totVooFApkZWUJSEVEREREZJi4M0hERERERFQFsZsoERERERFRFcRikIiIiIiIqApiMUhERERERFQFsRgkIiIiIiKqglgMEhERERERVUEsBomIiIiIiKqg/w9S1j/DQMR25gAAAABJRU5ErkJggg==\n",
      "text/plain": [
       "<Figure size 1080x360 with 1 Axes>"
      ]
     },
     "metadata": {},
     "output_type": "display_data"
    }
   ],
   "source": [
    "# Which type of industry in most number of jobs?\n",
    "\n",
    "top_industries =  pd.DataFrame(data.industry.value_counts().sort_values(ascending=False)[:11])\n",
    "plt.figure(figsize=(15,5))\n",
    "sns.set(style=\"darkgrid\")\n",
    "ax = sns.barplot(x = top_industries.index, y = 'industry' , data = top_industries)\n",
    "ax.set_xticklabels(ax.get_xticklabels(), rotation=90)"
   ]
  },
  {
   "cell_type": "markdown",
   "metadata": {
    "colab_type": "text",
    "id": "77epg4g0NQZN"
   },
   "source": [
    "The most popular type of  industry is IT and Services, but we have a lot of NULL values."
   ]
  },
  {
   "cell_type": "code",
   "execution_count": 20,
   "metadata": {
    "colab": {
     "base_uri": "https://localhost:8080/",
     "height": 629
    },
    "colab_type": "code",
    "id": "_4f-V5WHNn9g",
    "outputId": "902af2ed-9301-4ea2-f8f5-fce5a8d05471",
    "pycharm": {
     "is_executing": true
    }
   },
   "outputs": [
    {
     "data": {
      "text/plain": [
       "[Text(0, 0, ' '),\n",
       " Text(0, 0, 'Information Technology'),\n",
       " Text(0, 0, 'Sales'),\n",
       " Text(0, 0, 'Engineering'),\n",
       " Text(0, 0, 'Customer Service'),\n",
       " Text(0, 0, 'Marketing'),\n",
       " Text(0, 0, 'Administrative'),\n",
       " Text(0, 0, 'Design'),\n",
       " Text(0, 0, 'Health Care Provider'),\n",
       " Text(0, 0, 'Education'),\n",
       " Text(0, 0, 'Other')]"
      ]
     },
     "execution_count": 20,
     "metadata": {},
     "output_type": "execute_result"
    },
    {
     "data": {
      "image/png": "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\n",
      "text/plain": [
       "<Figure size 1080x360 with 1 Axes>"
      ]
     },
     "metadata": {},
     "output_type": "display_data"
    }
   ],
   "source": [
    "# Which type of function in most number of jobs?\n",
    "\n",
    "top_functions =  pd.DataFrame(data.function.value_counts().sort_values(ascending=False)[:11])\n",
    "plt.figure(figsize=(15,5))\n",
    "sns.set(style=\"darkgrid\")\n",
    "ax = sns.barplot(x = top_functions.index, y = 'function' , data = top_functions)\n",
    "ax.set_xticklabels(ax.get_xticklabels(), rotation=90)"
   ]
  },
  {
   "cell_type": "markdown",
   "metadata": {
    "colab_type": "text",
    "id": "CMroACm5NzFJ"
   },
   "source": [
    "The most popular type of  function is IT, but we have a lot of NULL values.\n",
    "\n"
   ]
  },
  {
   "cell_type": "markdown",
   "metadata": {
    "colab_type": "text",
    "id": "XxOcFOK2OJ9f"
   },
   "source": [
    "# Try different classifications algorithm and preprocessed the data:\n"
   ]
  },
  {
   "cell_type": "code",
   "execution_count": 21,
   "metadata": {
    "colab": {
     "base_uri": "https://localhost:8080/",
     "height": 162
    },
    "colab_type": "code",
    "id": "OkRvZgLTPMGH",
    "outputId": "2ecedd3e-7d5c-4eb0-c6f0-fc850d40dd40",
    "pycharm": {
     "is_executing": true
    }
   },
   "outputs": [
    {
     "data": {
      "text/html": [
       "<div>\n",
       "<style scoped>\n",
       "    .dataframe tbody tr th:only-of-type {\n",
       "        vertical-align: middle;\n",
       "    }\n",
       "\n",
       "    .dataframe tbody tr th {\n",
       "        vertical-align: top;\n",
       "    }\n",
       "\n",
       "    .dataframe thead th {\n",
       "        text-align: right;\n",
       "    }\n",
       "</style>\n",
       "<table border=\"1\" class=\"dataframe\">\n",
       "  <thead>\n",
       "    <tr style=\"text-align: right;\">\n",
       "      <th></th>\n",
       "      <th>title</th>\n",
       "      <th>location</th>\n",
       "      <th>department</th>\n",
       "      <th>company_profile</th>\n",
       "      <th>description</th>\n",
       "      <th>requirements</th>\n",
       "      <th>benefits</th>\n",
       "      <th>required_experience</th>\n",
       "      <th>required_education</th>\n",
       "      <th>industry</th>\n",
       "      <th>function</th>\n",
       "      <th>fraudulent</th>\n",
       "      <th>country</th>\n",
       "    </tr>\n",
       "  </thead>\n",
       "  <tbody>\n",
       "    <tr>\n",
       "      <th>0</th>\n",
       "      <td>Marketing Intern</td>\n",
       "      <td>US, NY, New York</td>\n",
       "      <td>Marketing</td>\n",
       "      <td>We're Food52, and we've created a groundbreaki...</td>\n",
       "      <td>Food52, a fast-growing, James Beard Award-winn...</td>\n",
       "      <td>Experience with content management systems a m...</td>\n",
       "      <td></td>\n",
       "      <td>Internship</td>\n",
       "      <td></td>\n",
       "      <td></td>\n",
       "      <td>Marketing</td>\n",
       "      <td>0</td>\n",
       "      <td>US</td>\n",
       "    </tr>\n",
       "    <tr>\n",
       "      <th>1</th>\n",
       "      <td>Customer Service - Cloud Video Production</td>\n",
       "      <td>NZ, , Auckland</td>\n",
       "      <td>Success</td>\n",
       "      <td>90 Seconds, the worlds Cloud Video Production ...</td>\n",
       "      <td>Organised - Focused - Vibrant - Awesome!Do you...</td>\n",
       "      <td>What we expect from you:Your key responsibilit...</td>\n",
       "      <td>What you will get from usThrough being part of...</td>\n",
       "      <td>Not Applicable</td>\n",
       "      <td></td>\n",
       "      <td>Marketing and Advertising</td>\n",
       "      <td>Customer Service</td>\n",
       "      <td>0</td>\n",
       "      <td>NZ</td>\n",
       "    </tr>\n",
       "  </tbody>\n",
       "</table>\n",
       "</div>"
      ],
      "text/plain": [
       "                                       title          location department  \\\n",
       "0                           Marketing Intern  US, NY, New York  Marketing   \n",
       "1  Customer Service - Cloud Video Production    NZ, , Auckland    Success   \n",
       "\n",
       "                                     company_profile  \\\n",
       "0  We're Food52, and we've created a groundbreaki...   \n",
       "1  90 Seconds, the worlds Cloud Video Production ...   \n",
       "\n",
       "                                         description  \\\n",
       "0  Food52, a fast-growing, James Beard Award-winn...   \n",
       "1  Organised - Focused - Vibrant - Awesome!Do you...   \n",
       "\n",
       "                                        requirements  \\\n",
       "0  Experience with content management systems a m...   \n",
       "1  What we expect from you:Your key responsibilit...   \n",
       "\n",
       "                                            benefits required_experience  \\\n",
       "0                                                             Internship   \n",
       "1  What you will get from usThrough being part of...      Not Applicable   \n",
       "\n",
       "  required_education                   industry          function  fraudulent  \\\n",
       "0                                                       Marketing           0   \n",
       "1                     Marketing and Advertising  Customer Service           0   \n",
       "\n",
       "  country  \n",
       "0      US  \n",
       "1      NZ  "
      ]
     },
     "execution_count": 21,
     "metadata": {},
     "output_type": "execute_result"
    }
   ],
   "source": [
    "data.head(2)"
   ]
  },
  {
   "cell_type": "markdown",
   "metadata": {
    "colab_type": "text",
    "id": "L48zQ29ZPuiF"
   },
   "source": [
    "**Import classification algorithms:**"
   ]
  },
  {
   "cell_type": "code",
   "execution_count": 22,
   "metadata": {
    "colab": {},
    "colab_type": "code",
    "id": "hjQ5I3WbaLEu",
    "pycharm": {
     "is_executing": true
    }
   },
   "outputs": [],
   "source": [
    "from sklearn.feature_extraction.text import CountVectorizer\n",
    "from sklearn.feature_extraction.text import TfidfVectorizer\n",
    "from sklearn.pipeline import Pipeline\n",
    "from sklearn.metrics import classification_report,confusion_matrix,accuracy_score\n",
    "\n",
    "# import classificators \n",
    "from sklearn.model_selection import KFold\n",
    "from sklearn.linear_model import LogisticRegression\n",
    "from sklearn.naive_bayes import GaussianNB\n",
    "from sklearn.neighbors import KNeighborsClassifier\n",
    "from sklearn.tree import DecisionTreeClassifier\n",
    "from sklearn.svm import SVC\n",
    "from sklearn.neural_network import MLPClassifier\n",
    "from sklearn.ensemble import RandomForestClassifier\n",
    "from xgboost import XGBClassifier\n",
    "from sklearn.ensemble import AdaBoostClassifier\n",
    "from sklearn.ensemble import GradientBoostingClassifier"
   ]
  },
  {
   "cell_type": "code",
   "execution_count": null,
   "metadata": {
    "colab": {
     "base_uri": "https://localhost:8080/",
     "height": 34
    },
    "colab_type": "code",
    "id": "bE6qXphNPxNO",
    "outputId": "6b6c32cd-b818-44fa-c1e7-d83bbffcf30b",
    "pycharm": {
     "is_executing": true
    }
   },
   "outputs": [],
   "source": [
    "tf_idf = TfidfVectorizer(sublinear_tf=True, min_df=5, norm='l2', encoding='latin-1', ngram_range=(1, 2), stop_words='english')\n",
    "features = tf_idf.fit_transform(data.description).toarray()\n",
    "labels = data.fraudulent\n",
    "features.shape"
   ]
  },
  {
   "cell_type": "code",
   "execution_count": null,
   "metadata": {
    "colab": {},
    "colab_type": "code",
    "id": "WRSn_rfjSJRC",
    "pycharm": {
     "is_executing": true
    }
   },
   "outputs": [],
   "source": [
    "from sklearn.model_selection import train_test_split\n",
    "\n",
    "X_train, X_test, y_train, y_test = train_test_split(data['description'], data['fraudulent'], random_state = 42)"
   ]
  },
  {
   "cell_type": "code",
   "execution_count": null,
   "metadata": {
    "colab": {},
    "colab_type": "code",
    "id": "IkliG41FSkye",
    "pycharm": {
     "is_executing": true
    }
   },
   "outputs": [],
   "source": [
    "from sklearn.model_selection import cross_val_score\n",
    "\n",
    "CV = 2\n",
    "cls = LogisticRegression(random_state=42)\n",
    "print(cross_val_score(cls, features, labels, scoring='accuracy', cv=CV))"
   ]
  }
 ],
 "metadata": {
  "accelerator": "GPU",
  "colab": {
   "name": "Fake JobPosting Prediction EDA and classification.ipynb",
   "provenance": []
  },
  "kernelspec": {
   "display_name": "Python 3",
   "language": "python",
   "name": "python3"
  },
  "language_info": {
   "codemirror_mode": {
    "name": "ipython",
    "version": 3
   },
   "file_extension": ".py",
   "mimetype": "text/x-python",
   "name": "python",
   "nbconvert_exporter": "python",
   "pygments_lexer": "ipython3",
   "version": "3.8.1"
  }
 },
 "nbformat": 4,
 "nbformat_minor": 1
}
=======
  "nbformat": 4,
  "nbformat_minor": 0,
  "metadata": {
    "colab": {
      "name": "Fake JobPosting Prediction EDA and classification.ipynb",
      "provenance": [],
      "authorship_tag": "ABX9TyMIGSqVTNekMk77ZBu97q9h",
      "include_colab_link": true
    },
    "kernelspec": {
      "name": "python3",
      "display_name": "Python 3"
    },
    "accelerator": "GPU"
  },
  "cells": [
    {
      "cell_type": "markdown",
      "metadata": {
        "id": "view-in-github",
        "colab_type": "text"
      },
      "source": [
        "<a href=\"https://colab.research.google.com/github/ptfrwrd/EDA_and_Classification/blob/master/Fake_JobPosting_Prediction_EDA_and_classification.ipynb\" target=\"_parent\"><img src=\"https://colab.research.google.com/assets/colab-badge.svg\" alt=\"Open In Colab\"/></a>"
      ]
    },
    {
      "cell_type": "code",
      "metadata": {
        "id": "NbM52ioHDmGu",
        "colab_type": "code",
        "colab": {
          "resources": {
            "http://localhost:8080/nbextensions/google.colab/files.js": {
              "data": "Ly8gQ29weXJpZ2h0IDIwMTcgR29vZ2xlIExMQwovLwovLyBMaWNlbnNlZCB1bmRlciB0aGUgQXBhY2hlIExpY2Vuc2UsIFZlcnNpb24gMi4wICh0aGUgIkxpY2Vuc2UiKTsKLy8geW91IG1heSBub3QgdXNlIHRoaXMgZmlsZSBleGNlcHQgaW4gY29tcGxpYW5jZSB3aXRoIHRoZSBMaWNlbnNlLgovLyBZb3UgbWF5IG9idGFpbiBhIGNvcHkgb2YgdGhlIExpY2Vuc2UgYXQKLy8KLy8gICAgICBodHRwOi8vd3d3LmFwYWNoZS5vcmcvbGljZW5zZXMvTElDRU5TRS0yLjAKLy8KLy8gVW5sZXNzIHJlcXVpcmVkIGJ5IGFwcGxpY2FibGUgbGF3IG9yIGFncmVlZCB0byBpbiB3cml0aW5nLCBzb2Z0d2FyZQovLyBkaXN0cmlidXRlZCB1bmRlciB0aGUgTGljZW5zZSBpcyBkaXN0cmlidXRlZCBvbiBhbiAiQVMgSVMiIEJBU0lTLAovLyBXSVRIT1VUIFdBUlJBTlRJRVMgT1IgQ09ORElUSU9OUyBPRiBBTlkgS0lORCwgZWl0aGVyIGV4cHJlc3Mgb3IgaW1wbGllZC4KLy8gU2VlIHRoZSBMaWNlbnNlIGZvciB0aGUgc3BlY2lmaWMgbGFuZ3VhZ2UgZ292ZXJuaW5nIHBlcm1pc3Npb25zIGFuZAovLyBsaW1pdGF0aW9ucyB1bmRlciB0aGUgTGljZW5zZS4KCi8qKgogKiBAZmlsZW92ZXJ2aWV3IEhlbHBlcnMgZm9yIGdvb2dsZS5jb2xhYiBQeXRob24gbW9kdWxlLgogKi8KKGZ1bmN0aW9uKHNjb3BlKSB7CmZ1bmN0aW9uIHNwYW4odGV4dCwgc3R5bGVBdHRyaWJ1dGVzID0ge30pIHsKICBjb25zdCBlbGVtZW50ID0gZG9jdW1lbnQuY3JlYXRlRWxlbWVudCgnc3BhbicpOwogIGVsZW1lbnQudGV4dENvbnRlbnQgPSB0ZXh0OwogIGZvciAoY29uc3Qga2V5IG9mIE9iamVjdC5rZXlzKHN0eWxlQXR0cmlidXRlcykpIHsKICAgIGVsZW1lbnQuc3R5bGVba2V5XSA9IHN0eWxlQXR0cmlidXRlc1trZXldOwogIH0KICByZXR1cm4gZWxlbWVudDsKfQoKLy8gTWF4IG51bWJlciBvZiBieXRlcyB3aGljaCB3aWxsIGJlIHVwbG9hZGVkIGF0IGEgdGltZS4KY29uc3QgTUFYX1BBWUxPQURfU0laRSA9IDEwMCAqIDEwMjQ7CgpmdW5jdGlvbiBfdXBsb2FkRmlsZXMoaW5wdXRJZCwgb3V0cHV0SWQpIHsKICBjb25zdCBzdGVwcyA9IHVwbG9hZEZpbGVzU3RlcChpbnB1dElkLCBvdXRwdXRJZCk7CiAgY29uc3Qgb3V0cHV0RWxlbWVudCA9IGRvY3VtZW50LmdldEVsZW1lbnRCeUlkKG91dHB1dElkKTsKICAvLyBDYWNoZSBzdGVwcyBvbiB0aGUgb3V0cHV0RWxlbWVudCB0byBtYWtlIGl0IGF2YWlsYWJsZSBmb3IgdGhlIG5leHQgY2FsbAogIC8vIHRvIHVwbG9hZEZpbGVzQ29udGludWUgZnJvbSBQeXRob24uCiAgb3V0cHV0RWxlbWVudC5zdGVwcyA9IHN0ZXBzOwoKICByZXR1cm4gX3VwbG9hZEZpbGVzQ29udGludWUob3V0cHV0SWQpOwp9CgovLyBUaGlzIGlzIHJvdWdobHkgYW4gYXN5bmMgZ2VuZXJhdG9yIChub3Qgc3VwcG9ydGVkIGluIHRoZSBicm93c2VyIHlldCksCi8vIHdoZXJlIHRoZXJlIGFyZSBtdWx0aXBsZSBhc3luY2hyb25vdXMgc3RlcHMgYW5kIHRoZSBQeXRob24gc2lkZSBpcyBnb2luZwovLyB0byBwb2xsIGZvciBjb21wbGV0aW9uIG9mIGVhY2ggc3RlcC4KLy8gVGhpcyB1c2VzIGEgUHJvbWlzZSB0byBibG9jayB0aGUgcHl0aG9uIHNpZGUgb24gY29tcGxldGlvbiBvZiBlYWNoIHN0ZXAsCi8vIHRoZW4gcGFzc2VzIHRoZSByZXN1bHQgb2YgdGhlIHByZXZpb3VzIHN0ZXAgYXMgdGhlIGlucHV0IHRvIHRoZSBuZXh0IHN0ZXAuCmZ1bmN0aW9uIF91cGxvYWRGaWxlc0NvbnRpbnVlKG91dHB1dElkKSB7CiAgY29uc3Qgb3V0cHV0RWxlbWVudCA9IGRvY3VtZW50LmdldEVsZW1lbnRCeUlkKG91dHB1dElkKTsKICBjb25zdCBzdGVwcyA9IG91dHB1dEVsZW1lbnQuc3RlcHM7CgogIGNvbnN0IG5leHQgPSBzdGVwcy5uZXh0KG91dHB1dEVsZW1lbnQubGFzdFByb21pc2VWYWx1ZSk7CiAgcmV0dXJuIFByb21pc2UucmVzb2x2ZShuZXh0LnZhbHVlLnByb21pc2UpLnRoZW4oKHZhbHVlKSA9PiB7CiAgICAvLyBDYWNoZSB0aGUgbGFzdCBwcm9taXNlIHZhbHVlIHRvIG1ha2UgaXQgYXZhaWxhYmxlIHRvIHRoZSBuZXh0CiAgICAvLyBzdGVwIG9mIHRoZSBnZW5lcmF0b3IuCiAgICBvdXRwdXRFbGVtZW50Lmxhc3RQcm9taXNlVmFsdWUgPSB2YWx1ZTsKICAgIHJldHVybiBuZXh0LnZhbHVlLnJlc3BvbnNlOwogIH0pOwp9CgovKioKICogR2VuZXJhdG9yIGZ1bmN0aW9uIHdoaWNoIGlzIGNhbGxlZCBiZXR3ZWVuIGVhY2ggYXN5bmMgc3RlcCBvZiB0aGUgdXBsb2FkCiAqIHByb2Nlc3MuCiAqIEBwYXJhbSB7c3RyaW5nfSBpbnB1dElkIEVsZW1lbnQgSUQgb2YgdGhlIGlucHV0IGZpbGUgcGlja2VyIGVsZW1lbnQuCiAqIEBwYXJhbSB7c3RyaW5nfSBvdXRwdXRJZCBFbGVtZW50IElEIG9mIHRoZSBvdXRwdXQgZGlzcGxheS4KICogQHJldHVybiB7IUl0ZXJhYmxlPCFPYmplY3Q+fSBJdGVyYWJsZSBvZiBuZXh0IHN0ZXBzLgogKi8KZnVuY3Rpb24qIHVwbG9hZEZpbGVzU3RlcChpbnB1dElkLCBvdXRwdXRJZCkgewogIGNvbnN0IGlucHV0RWxlbWVudCA9IGRvY3VtZW50LmdldEVsZW1lbnRCeUlkKGlucHV0SWQpOwogIGlucHV0RWxlbWVudC5kaXNhYmxlZCA9IGZhbHNlOwoKICBjb25zdCBvdXRwdXRFbGVtZW50ID0gZG9jdW1lbnQuZ2V0RWxlbWVudEJ5SWQob3V0cHV0SWQpOwogIG91dHB1dEVsZW1lbnQuaW5uZXJIVE1MID0gJyc7CgogIGNvbnN0IHBpY2tlZFByb21pc2UgPSBuZXcgUHJvbWlzZSgocmVzb2x2ZSkgPT4gewogICAgaW5wdXRFbGVtZW50LmFkZEV2ZW50TGlzdGVuZXIoJ2NoYW5nZScsIChlKSA9PiB7CiAgICAgIHJlc29sdmUoZS50YXJnZXQuZmlsZXMpOwogICAgfSk7CiAgfSk7CgogIGNvbnN0IGNhbmNlbCA9IGRvY3VtZW50LmNyZWF0ZUVsZW1lbnQoJ2J1dHRvbicpOwogIGlucHV0RWxlbWVudC5wYXJlbnRFbGVtZW50LmFwcGVuZENoaWxkKGNhbmNlbCk7CiAgY2FuY2VsLnRleHRDb250ZW50ID0gJ0NhbmNlbCB1cGxvYWQnOwogIGNvbnN0IGNhbmNlbFByb21pc2UgPSBuZXcgUHJvbWlzZSgocmVzb2x2ZSkgPT4gewogICAgY2FuY2VsLm9uY2xpY2sgPSAoKSA9PiB7CiAgICAgIHJlc29sdmUobnVsbCk7CiAgICB9OwogIH0pOwoKICAvLyBXYWl0IGZvciB0aGUgdXNlciB0byBwaWNrIHRoZSBmaWxlcy4KICBjb25zdCBmaWxlcyA9IHlpZWxkIHsKICAgIHByb21pc2U6IFByb21pc2UucmFjZShbcGlja2VkUHJvbWlzZSwgY2FuY2VsUHJvbWlzZV0pLAogICAgcmVzcG9uc2U6IHsKICAgICAgYWN0aW9uOiAnc3RhcnRpbmcnLAogICAgfQogIH07CgogIGNhbmNlbC5yZW1vdmUoKTsKCiAgLy8gRGlzYWJsZSB0aGUgaW5wdXQgZWxlbWVudCBzaW5jZSBmdXJ0aGVyIHBpY2tzIGFyZSBub3QgYWxsb3dlZC4KICBpbnB1dEVsZW1lbnQuZGlzYWJsZWQgPSB0cnVlOwoKICBpZiAoIWZpbGVzKSB7CiAgICByZXR1cm4gewogICAgICByZXNwb25zZTogewogICAgICAgIGFjdGlvbjogJ2NvbXBsZXRlJywKICAgICAgfQogICAgfTsKICB9CgogIGZvciAoY29uc3QgZmlsZSBvZiBmaWxlcykgewogICAgY29uc3QgbGkgPSBkb2N1bWVudC5jcmVhdGVFbGVtZW50KCdsaScpOwogICAgbGkuYXBwZW5kKHNwYW4oZmlsZS5uYW1lLCB7Zm9udFdlaWdodDogJ2JvbGQnfSkpOwogICAgbGkuYXBwZW5kKHNwYW4oCiAgICAgICAgYCgke2ZpbGUudHlwZSB8fCAnbi9hJ30pIC0gJHtmaWxlLnNpemV9IGJ5dGVzLCBgICsKICAgICAgICBgbGFzdCBtb2RpZmllZDogJHsKICAgICAgICAgICAgZmlsZS5sYXN0TW9kaWZpZWREYXRlID8gZmlsZS5sYXN0TW9kaWZpZWREYXRlLnRvTG9jYWxlRGF0ZVN0cmluZygpIDoKICAgICAgICAgICAgICAgICAgICAgICAgICAgICAgICAgICAgJ24vYSd9IC0gYCkpOwogICAgY29uc3QgcGVyY2VudCA9IHNwYW4oJzAlIGRvbmUnKTsKICAgIGxpLmFwcGVuZENoaWxkKHBlcmNlbnQpOwoKICAgIG91dHB1dEVsZW1lbnQuYXBwZW5kQ2hpbGQobGkpOwoKICAgIGNvbnN0IGZpbGVEYXRhUHJvbWlzZSA9IG5ldyBQcm9taXNlKChyZXNvbHZlKSA9PiB7CiAgICAgIGNvbnN0IHJlYWRlciA9IG5ldyBGaWxlUmVhZGVyKCk7CiAgICAgIHJlYWRlci5vbmxvYWQgPSAoZSkgPT4gewogICAgICAgIHJlc29sdmUoZS50YXJnZXQucmVzdWx0KTsKICAgICAgfTsKICAgICAgcmVhZGVyLnJlYWRBc0FycmF5QnVmZmVyKGZpbGUpOwogICAgfSk7CiAgICAvLyBXYWl0IGZvciB0aGUgZGF0YSB0byBiZSByZWFkeS4KICAgIGxldCBmaWxlRGF0YSA9IHlpZWxkIHsKICAgICAgcHJvbWlzZTogZmlsZURhdGFQcm9taXNlLAogICAgICByZXNwb25zZTogewogICAgICAgIGFjdGlvbjogJ2NvbnRpbnVlJywKICAgICAgfQogICAgfTsKCiAgICAvLyBVc2UgYSBjaHVua2VkIHNlbmRpbmcgdG8gYXZvaWQgbWVzc2FnZSBzaXplIGxpbWl0cy4gU2VlIGIvNjIxMTU2NjAuCiAgICBsZXQgcG9zaXRpb24gPSAwOwogICAgd2hpbGUgKHBvc2l0aW9uIDwgZmlsZURhdGEuYnl0ZUxlbmd0aCkgewogICAgICBjb25zdCBsZW5ndGggPSBNYXRoLm1pbihmaWxlRGF0YS5ieXRlTGVuZ3RoIC0gcG9zaXRpb24sIE1BWF9QQVlMT0FEX1NJWkUpOwogICAgICBjb25zdCBjaHVuayA9IG5ldyBVaW50OEFycmF5KGZpbGVEYXRhLCBwb3NpdGlvbiwgbGVuZ3RoKTsKICAgICAgcG9zaXRpb24gKz0gbGVuZ3RoOwoKICAgICAgY29uc3QgYmFzZTY0ID0gYnRvYShTdHJpbmcuZnJvbUNoYXJDb2RlLmFwcGx5KG51bGwsIGNodW5rKSk7CiAgICAgIHlpZWxkIHsKICAgICAgICByZXNwb25zZTogewogICAgICAgICAgYWN0aW9uOiAnYXBwZW5kJywKICAgICAgICAgIGZpbGU6IGZpbGUubmFtZSwKICAgICAgICAgIGRhdGE6IGJhc2U2NCwKICAgICAgICB9LAogICAgICB9OwogICAgICBwZXJjZW50LnRleHRDb250ZW50ID0KICAgICAgICAgIGAke01hdGgucm91bmQoKHBvc2l0aW9uIC8gZmlsZURhdGEuYnl0ZUxlbmd0aCkgKiAxMDApfSUgZG9uZWA7CiAgICB9CiAgfQoKICAvLyBBbGwgZG9uZS4KICB5aWVsZCB7CiAgICByZXNwb25zZTogewogICAgICBhY3Rpb246ICdjb21wbGV0ZScsCiAgICB9CiAgfTsKfQoKc2NvcGUuZ29vZ2xlID0gc2NvcGUuZ29vZ2xlIHx8IHt9OwpzY29wZS5nb29nbGUuY29sYWIgPSBzY29wZS5nb29nbGUuY29sYWIgfHwge307CnNjb3BlLmdvb2dsZS5jb2xhYi5fZmlsZXMgPSB7CiAgX3VwbG9hZEZpbGVzLAogIF91cGxvYWRGaWxlc0NvbnRpbnVlLAp9Owp9KShzZWxmKTsK",
              "ok": true,
              "headers": [
                [
                  "content-type",
                  "application/javascript"
                ]
              ],
              "status": 200,
              "status_text": ""
            }
          },
          "base_uri": "https://localhost:8080/",
          "height": 89
        },
        "outputId": "ff04aa34-6d36-47cb-bb4a-3fdb395087e4"
      },
      "source": [
        "! pip install -q kaggle\n",
        "from google.colab import files\n",
        "files.upload()"
      ],
      "execution_count": 1,
      "outputs": [
        {
          "output_type": "display_data",
          "data": {
            "text/html": [
              "\n",
              "     <input type=\"file\" id=\"files-ab1d6738-a2c7-4cde-837f-5b0eb6d90f08\" name=\"files[]\" multiple disabled\n",
              "        style=\"border:none\" />\n",
              "     <output id=\"result-ab1d6738-a2c7-4cde-837f-5b0eb6d90f08\">\n",
              "      Upload widget is only available when the cell has been executed in the\n",
              "      current browser session. Please rerun this cell to enable.\n",
              "      </output>\n",
              "      <script src=\"/nbextensions/google.colab/files.js\"></script> "
            ],
            "text/plain": [
              "<IPython.core.display.HTML object>"
            ]
          },
          "metadata": {
            "tags": []
          }
        },
        {
          "output_type": "stream",
          "text": [
            "Saving kaggle.json to kaggle (2).json\n"
          ],
          "name": "stdout"
        },
        {
          "output_type": "execute_result",
          "data": {
            "text/plain": [
              "{'kaggle.json': b'{\"username\":\"ptfrwrd\",\"key\":\"4a2f5a982ed53062345976efa42bd4c8\"}'}"
            ]
          },
          "metadata": {
            "tags": []
          },
          "execution_count": 1
        }
      ]
    },
    {
      "cell_type": "code",
      "metadata": {
        "id": "CU5asqq7D7H9",
        "colab_type": "code",
        "colab": {
          "base_uri": "https://localhost:8080/",
          "height": 34
        },
        "outputId": "e99a363f-3c3d-4e5d-df20-6745a2984ba9"
      },
      "source": [
        "! mkdir ~/.kaggle\n",
        "! cp kaggle.json ~/.kaggle/\n",
        "! chmod 600 ~/.kaggle/kaggle.json"
      ],
      "execution_count": 2,
      "outputs": [
        {
          "output_type": "stream",
          "text": [
            "mkdir: cannot create directory ‘/root/.kaggle’: File exists\n"
          ],
          "name": "stdout"
        }
      ]
    },
    {
      "cell_type": "code",
      "metadata": {
        "id": "KsbSEGz2D9qn",
        "colab_type": "code",
        "colab": {
          "base_uri": "https://localhost:8080/",
          "height": 34
        },
        "outputId": "c119ba16-da11-4fe4-f67f-ee128898a880"
      },
      "source": [
        "! kaggle datasets download -d  shivamb/real-or-fake-fake-jobposting-prediction"
      ],
      "execution_count": 3,
      "outputs": [
        {
          "output_type": "stream",
          "text": [
            "real-or-fake-fake-jobposting-prediction.zip: Skipping, found more recently modified local copy (use --force to force download)\n"
          ],
          "name": "stdout"
        }
      ]
    },
    {
      "cell_type": "code",
      "metadata": {
        "id": "NeYU-jq0ENbz",
        "colab_type": "code",
        "colab": {
          "base_uri": "https://localhost:8080/",
          "height": 68
        },
        "outputId": "079cca09-1545-47b2-e22d-d3cb66b8fdd1"
      },
      "source": [
        "! mkdir data\n",
        "! unzip real-or-fake-fake-jobposting-prediction.zip -d data"
      ],
      "execution_count": 4,
      "outputs": [
        {
          "output_type": "stream",
          "text": [
            "mkdir: cannot create directory ‘data’: File exists\n",
            "Archive:  real-or-fake-fake-jobposting-prediction.zip\n",
            "replace data/fake_job_postings.csv? [y]es, [n]o, [A]ll, [N]one, [r]ename: n\n"
          ],
          "name": "stdout"
        }
      ]
    },
    {
      "cell_type": "code",
      "metadata": {
        "id": "Pu35lmtmES0a",
        "colab_type": "code",
        "colab": {
          "base_uri": "https://localhost:8080/",
          "height": 51
        },
        "outputId": "3754e017-7a9e-41c5-84fc-2212869fae01"
      },
      "source": [
        "import numpy as np \n",
        "import pandas as pd \n",
        "import matplotlib.pyplot as plt\n",
        "import seaborn as sns"
      ],
      "execution_count": 1,
      "outputs": [
        {
          "output_type": "stream",
          "text": [
            "/usr/local/lib/python3.6/dist-packages/statsmodels/tools/_testing.py:19: FutureWarning: pandas.util.testing is deprecated. Use the functions in the public API at pandas.testing instead.\n",
            "  import pandas.util.testing as tm\n"
          ],
          "name": "stderr"
        }
      ]
    },
    {
      "cell_type": "markdown",
      "metadata": {
        "id": "PykOGpzFE_dj",
        "colab_type": "text"
      },
      "source": [
        "# Look at the data:\n",
        "\n",
        "- includes EDA analysis."
      ]
    },
    {
      "cell_type": "code",
      "metadata": {
        "id": "Qz9rmNM6EiLU",
        "colab_type": "code",
        "colab": {
          "base_uri": "https://localhost:8080/",
          "height": 547
        },
        "outputId": "03bd07bc-b945-429e-9b0e-dce05c6b6421"
      },
      "source": [
        "data = pd.read_csv('data/fake_job_postings.csv')\n",
        "data.head()"
      ],
      "execution_count": 2,
      "outputs": [
        {
          "output_type": "execute_result",
          "data": {
            "text/html": [
              "<div>\n",
              "<style scoped>\n",
              "    .dataframe tbody tr th:only-of-type {\n",
              "        vertical-align: middle;\n",
              "    }\n",
              "\n",
              "    .dataframe tbody tr th {\n",
              "        vertical-align: top;\n",
              "    }\n",
              "\n",
              "    .dataframe thead th {\n",
              "        text-align: right;\n",
              "    }\n",
              "</style>\n",
              "<table border=\"1\" class=\"dataframe\">\n",
              "  <thead>\n",
              "    <tr style=\"text-align: right;\">\n",
              "      <th></th>\n",
              "      <th>job_id</th>\n",
              "      <th>title</th>\n",
              "      <th>location</th>\n",
              "      <th>department</th>\n",
              "      <th>salary_range</th>\n",
              "      <th>company_profile</th>\n",
              "      <th>description</th>\n",
              "      <th>requirements</th>\n",
              "      <th>benefits</th>\n",
              "      <th>telecommuting</th>\n",
              "      <th>has_company_logo</th>\n",
              "      <th>has_questions</th>\n",
              "      <th>employment_type</th>\n",
              "      <th>required_experience</th>\n",
              "      <th>required_education</th>\n",
              "      <th>industry</th>\n",
              "      <th>function</th>\n",
              "      <th>fraudulent</th>\n",
              "    </tr>\n",
              "  </thead>\n",
              "  <tbody>\n",
              "    <tr>\n",
              "      <th>0</th>\n",
              "      <td>1</td>\n",
              "      <td>Marketing Intern</td>\n",
              "      <td>US, NY, New York</td>\n",
              "      <td>Marketing</td>\n",
              "      <td>NaN</td>\n",
              "      <td>We're Food52, and we've created a groundbreaki...</td>\n",
              "      <td>Food52, a fast-growing, James Beard Award-winn...</td>\n",
              "      <td>Experience with content management systems a m...</td>\n",
              "      <td>NaN</td>\n",
              "      <td>0</td>\n",
              "      <td>1</td>\n",
              "      <td>0</td>\n",
              "      <td>Other</td>\n",
              "      <td>Internship</td>\n",
              "      <td>NaN</td>\n",
              "      <td>NaN</td>\n",
              "      <td>Marketing</td>\n",
              "      <td>0</td>\n",
              "    </tr>\n",
              "    <tr>\n",
              "      <th>1</th>\n",
              "      <td>2</td>\n",
              "      <td>Customer Service - Cloud Video Production</td>\n",
              "      <td>NZ, , Auckland</td>\n",
              "      <td>Success</td>\n",
              "      <td>NaN</td>\n",
              "      <td>90 Seconds, the worlds Cloud Video Production ...</td>\n",
              "      <td>Organised - Focused - Vibrant - Awesome!Do you...</td>\n",
              "      <td>What we expect from you:Your key responsibilit...</td>\n",
              "      <td>What you will get from usThrough being part of...</td>\n",
              "      <td>0</td>\n",
              "      <td>1</td>\n",
              "      <td>0</td>\n",
              "      <td>Full-time</td>\n",
              "      <td>Not Applicable</td>\n",
              "      <td>NaN</td>\n",
              "      <td>Marketing and Advertising</td>\n",
              "      <td>Customer Service</td>\n",
              "      <td>0</td>\n",
              "    </tr>\n",
              "    <tr>\n",
              "      <th>2</th>\n",
              "      <td>3</td>\n",
              "      <td>Commissioning Machinery Assistant (CMA)</td>\n",
              "      <td>US, IA, Wever</td>\n",
              "      <td>NaN</td>\n",
              "      <td>NaN</td>\n",
              "      <td>Valor Services provides Workforce Solutions th...</td>\n",
              "      <td>Our client, located in Houston, is actively se...</td>\n",
              "      <td>Implement pre-commissioning and commissioning ...</td>\n",
              "      <td>NaN</td>\n",
              "      <td>0</td>\n",
              "      <td>1</td>\n",
              "      <td>0</td>\n",
              "      <td>NaN</td>\n",
              "      <td>NaN</td>\n",
              "      <td>NaN</td>\n",
              "      <td>NaN</td>\n",
              "      <td>NaN</td>\n",
              "      <td>0</td>\n",
              "    </tr>\n",
              "    <tr>\n",
              "      <th>3</th>\n",
              "      <td>4</td>\n",
              "      <td>Account Executive - Washington DC</td>\n",
              "      <td>US, DC, Washington</td>\n",
              "      <td>Sales</td>\n",
              "      <td>NaN</td>\n",
              "      <td>Our passion for improving quality of life thro...</td>\n",
              "      <td>THE COMPANY: ESRI – Environmental Systems Rese...</td>\n",
              "      <td>EDUCATION: Bachelor’s or Master’s in GIS, busi...</td>\n",
              "      <td>Our culture is anything but corporate—we have ...</td>\n",
              "      <td>0</td>\n",
              "      <td>1</td>\n",
              "      <td>0</td>\n",
              "      <td>Full-time</td>\n",
              "      <td>Mid-Senior level</td>\n",
              "      <td>Bachelor's Degree</td>\n",
              "      <td>Computer Software</td>\n",
              "      <td>Sales</td>\n",
              "      <td>0</td>\n",
              "    </tr>\n",
              "    <tr>\n",
              "      <th>4</th>\n",
              "      <td>5</td>\n",
              "      <td>Bill Review Manager</td>\n",
              "      <td>US, FL, Fort Worth</td>\n",
              "      <td>NaN</td>\n",
              "      <td>NaN</td>\n",
              "      <td>SpotSource Solutions LLC is a Global Human Cap...</td>\n",
              "      <td>JOB TITLE: Itemization Review ManagerLOCATION:...</td>\n",
              "      <td>QUALIFICATIONS:RN license in the State of Texa...</td>\n",
              "      <td>Full Benefits Offered</td>\n",
              "      <td>0</td>\n",
              "      <td>1</td>\n",
              "      <td>1</td>\n",
              "      <td>Full-time</td>\n",
              "      <td>Mid-Senior level</td>\n",
              "      <td>Bachelor's Degree</td>\n",
              "      <td>Hospital &amp; Health Care</td>\n",
              "      <td>Health Care Provider</td>\n",
              "      <td>0</td>\n",
              "    </tr>\n",
              "  </tbody>\n",
              "</table>\n",
              "</div>"
            ],
            "text/plain": [
              "   job_id  ... fraudulent\n",
              "0       1  ...          0\n",
              "1       2  ...          0\n",
              "2       3  ...          0\n",
              "3       4  ...          0\n",
              "4       5  ...          0\n",
              "\n",
              "[5 rows x 18 columns]"
            ]
          },
          "metadata": {
            "tags": []
          },
          "execution_count": 2
        }
      ]
    },
    {
      "cell_type": "markdown",
      "metadata": {
        "id": "nzM5hgtdFQGf",
        "colab_type": "text"
      },
      "source": [
        "**Let's see if there are null values and how many there are:**"
      ]
    },
    {
      "cell_type": "code",
      "metadata": {
        "id": "RTdSO_3MEpc9",
        "colab_type": "code",
        "colab": {
          "base_uri": "https://localhost:8080/",
          "height": 340
        },
        "outputId": "edf05f47-a07a-4725-c655-9b20edb6b6ea"
      },
      "source": [
        "data.isnull().sum()"
      ],
      "execution_count": 7,
      "outputs": [
        {
          "output_type": "execute_result",
          "data": {
            "text/plain": [
              "job_id                     0\n",
              "title                      0\n",
              "location                 346\n",
              "department             11547\n",
              "salary_range           15012\n",
              "company_profile         3308\n",
              "description                1\n",
              "requirements            2695\n",
              "benefits                7210\n",
              "telecommuting              0\n",
              "has_company_logo           0\n",
              "has_questions              0\n",
              "employment_type         3471\n",
              "required_experience     7050\n",
              "required_education      8105\n",
              "industry                4903\n",
              "function                6455\n",
              "fraudulent                 0\n",
              "dtype: int64"
            ]
          },
          "metadata": {
            "tags": []
          },
          "execution_count": 7
        }
      ]
    },
    {
      "cell_type": "markdown",
      "metadata": {
        "id": "nArdG-vNFlvg",
        "colab_type": "text"
      },
      "source": [
        "**Let`s see descriptive statistic of the data:**"
      ]
    },
    {
      "cell_type": "code",
      "metadata": {
        "id": "kt3SBesYE6O6",
        "colab_type": "code",
        "colab": {
          "base_uri": "https://localhost:8080/",
          "height": 297
        },
        "outputId": "b258d47a-fd1b-4c49-8673-11105a561c79"
      },
      "source": [
        "data.describe()"
      ],
      "execution_count": 8,
      "outputs": [
        {
          "output_type": "execute_result",
          "data": {
            "text/html": [
              "<div>\n",
              "<style scoped>\n",
              "    .dataframe tbody tr th:only-of-type {\n",
              "        vertical-align: middle;\n",
              "    }\n",
              "\n",
              "    .dataframe tbody tr th {\n",
              "        vertical-align: top;\n",
              "    }\n",
              "\n",
              "    .dataframe thead th {\n",
              "        text-align: right;\n",
              "    }\n",
              "</style>\n",
              "<table border=\"1\" class=\"dataframe\">\n",
              "  <thead>\n",
              "    <tr style=\"text-align: right;\">\n",
              "      <th></th>\n",
              "      <th>job_id</th>\n",
              "      <th>telecommuting</th>\n",
              "      <th>has_company_logo</th>\n",
              "      <th>has_questions</th>\n",
              "      <th>fraudulent</th>\n",
              "    </tr>\n",
              "  </thead>\n",
              "  <tbody>\n",
              "    <tr>\n",
              "      <th>count</th>\n",
              "      <td>17880.000000</td>\n",
              "      <td>17880.000000</td>\n",
              "      <td>17880.000000</td>\n",
              "      <td>17880.000000</td>\n",
              "      <td>17880.000000</td>\n",
              "    </tr>\n",
              "    <tr>\n",
              "      <th>mean</th>\n",
              "      <td>8940.500000</td>\n",
              "      <td>0.042897</td>\n",
              "      <td>0.795302</td>\n",
              "      <td>0.491723</td>\n",
              "      <td>0.048434</td>\n",
              "    </tr>\n",
              "    <tr>\n",
              "      <th>std</th>\n",
              "      <td>5161.655742</td>\n",
              "      <td>0.202631</td>\n",
              "      <td>0.403492</td>\n",
              "      <td>0.499945</td>\n",
              "      <td>0.214688</td>\n",
              "    </tr>\n",
              "    <tr>\n",
              "      <th>min</th>\n",
              "      <td>1.000000</td>\n",
              "      <td>0.000000</td>\n",
              "      <td>0.000000</td>\n",
              "      <td>0.000000</td>\n",
              "      <td>0.000000</td>\n",
              "    </tr>\n",
              "    <tr>\n",
              "      <th>25%</th>\n",
              "      <td>4470.750000</td>\n",
              "      <td>0.000000</td>\n",
              "      <td>1.000000</td>\n",
              "      <td>0.000000</td>\n",
              "      <td>0.000000</td>\n",
              "    </tr>\n",
              "    <tr>\n",
              "      <th>50%</th>\n",
              "      <td>8940.500000</td>\n",
              "      <td>0.000000</td>\n",
              "      <td>1.000000</td>\n",
              "      <td>0.000000</td>\n",
              "      <td>0.000000</td>\n",
              "    </tr>\n",
              "    <tr>\n",
              "      <th>75%</th>\n",
              "      <td>13410.250000</td>\n",
              "      <td>0.000000</td>\n",
              "      <td>1.000000</td>\n",
              "      <td>1.000000</td>\n",
              "      <td>0.000000</td>\n",
              "    </tr>\n",
              "    <tr>\n",
              "      <th>max</th>\n",
              "      <td>17880.000000</td>\n",
              "      <td>1.000000</td>\n",
              "      <td>1.000000</td>\n",
              "      <td>1.000000</td>\n",
              "      <td>1.000000</td>\n",
              "    </tr>\n",
              "  </tbody>\n",
              "</table>\n",
              "</div>"
            ],
            "text/plain": [
              "             job_id  telecommuting  ...  has_questions    fraudulent\n",
              "count  17880.000000   17880.000000  ...   17880.000000  17880.000000\n",
              "mean    8940.500000       0.042897  ...       0.491723      0.048434\n",
              "std     5161.655742       0.202631  ...       0.499945      0.214688\n",
              "min        1.000000       0.000000  ...       0.000000      0.000000\n",
              "25%     4470.750000       0.000000  ...       0.000000      0.000000\n",
              "50%     8940.500000       0.000000  ...       0.000000      0.000000\n",
              "75%    13410.250000       0.000000  ...       1.000000      0.000000\n",
              "max    17880.000000       1.000000  ...       1.000000      1.000000\n",
              "\n",
              "[8 rows x 5 columns]"
            ]
          },
          "metadata": {
            "tags": []
          },
          "execution_count": 8
        }
      ]
    },
    {
      "cell_type": "markdown",
      "metadata": {
        "id": "QF7kXplIKrw9",
        "colab_type": "text"
      },
      "source": [
        "Rename the data columns:"
      ]
    },
    {
      "cell_type": "code",
      "metadata": {
        "id": "6SlvUN3lKrB1",
        "colab_type": "code",
        "colab": {
          "base_uri": "https://localhost:8080/",
          "height": 227
        },
        "outputId": "4393396c-2d49-4b70-9a4f-1770612e5094"
      },
      "source": [
        "columns=['job_id', 'telecommuting', 'has_company_logo', 'has_questions', 'salary_range', 'employment_type']\n",
        "for col in columns:\n",
        "    del data[col]\n",
        "\n",
        "data.fillna(' ', inplace=True)\n",
        "data.head(3)"
      ],
      "execution_count": 3,
      "outputs": [
        {
          "output_type": "execute_result",
          "data": {
            "text/html": [
              "<div>\n",
              "<style scoped>\n",
              "    .dataframe tbody tr th:only-of-type {\n",
              "        vertical-align: middle;\n",
              "    }\n",
              "\n",
              "    .dataframe tbody tr th {\n",
              "        vertical-align: top;\n",
              "    }\n",
              "\n",
              "    .dataframe thead th {\n",
              "        text-align: right;\n",
              "    }\n",
              "</style>\n",
              "<table border=\"1\" class=\"dataframe\">\n",
              "  <thead>\n",
              "    <tr style=\"text-align: right;\">\n",
              "      <th></th>\n",
              "      <th>title</th>\n",
              "      <th>location</th>\n",
              "      <th>department</th>\n",
              "      <th>company_profile</th>\n",
              "      <th>description</th>\n",
              "      <th>requirements</th>\n",
              "      <th>benefits</th>\n",
              "      <th>required_experience</th>\n",
              "      <th>required_education</th>\n",
              "      <th>industry</th>\n",
              "      <th>function</th>\n",
              "      <th>fraudulent</th>\n",
              "    </tr>\n",
              "  </thead>\n",
              "  <tbody>\n",
              "    <tr>\n",
              "      <th>0</th>\n",
              "      <td>Marketing Intern</td>\n",
              "      <td>US, NY, New York</td>\n",
              "      <td>Marketing</td>\n",
              "      <td>We're Food52, and we've created a groundbreaki...</td>\n",
              "      <td>Food52, a fast-growing, James Beard Award-winn...</td>\n",
              "      <td>Experience with content management systems a m...</td>\n",
              "      <td></td>\n",
              "      <td>Internship</td>\n",
              "      <td></td>\n",
              "      <td></td>\n",
              "      <td>Marketing</td>\n",
              "      <td>0</td>\n",
              "    </tr>\n",
              "    <tr>\n",
              "      <th>1</th>\n",
              "      <td>Customer Service - Cloud Video Production</td>\n",
              "      <td>NZ, , Auckland</td>\n",
              "      <td>Success</td>\n",
              "      <td>90 Seconds, the worlds Cloud Video Production ...</td>\n",
              "      <td>Organised - Focused - Vibrant - Awesome!Do you...</td>\n",
              "      <td>What we expect from you:Your key responsibilit...</td>\n",
              "      <td>What you will get from usThrough being part of...</td>\n",
              "      <td>Not Applicable</td>\n",
              "      <td></td>\n",
              "      <td>Marketing and Advertising</td>\n",
              "      <td>Customer Service</td>\n",
              "      <td>0</td>\n",
              "    </tr>\n",
              "    <tr>\n",
              "      <th>2</th>\n",
              "      <td>Commissioning Machinery Assistant (CMA)</td>\n",
              "      <td>US, IA, Wever</td>\n",
              "      <td></td>\n",
              "      <td>Valor Services provides Workforce Solutions th...</td>\n",
              "      <td>Our client, located in Houston, is actively se...</td>\n",
              "      <td>Implement pre-commissioning and commissioning ...</td>\n",
              "      <td></td>\n",
              "      <td></td>\n",
              "      <td></td>\n",
              "      <td></td>\n",
              "      <td></td>\n",
              "      <td>0</td>\n",
              "    </tr>\n",
              "  </tbody>\n",
              "</table>\n",
              "</div>"
            ],
            "text/plain": [
              "                                       title  ... fraudulent\n",
              "0                           Marketing Intern  ...          0\n",
              "1  Customer Service - Cloud Video Production  ...          0\n",
              "2    Commissioning Machinery Assistant (CMA)  ...          0\n",
              "\n",
              "[3 rows x 12 columns]"
            ]
          },
          "metadata": {
            "tags": []
          },
          "execution_count": 3
        }
      ]
    },
    {
      "cell_type": "markdown",
      "metadata": {
        "id": "DL_l74hWF8Ai",
        "colab_type": "text"
      },
      "source": [
        "**Create some visualizations:**"
      ]
    },
    {
      "cell_type": "code",
      "metadata": {
        "id": "i-w9cqbIF7gk",
        "colab_type": "code",
        "colab": {
          "base_uri": "https://localhost:8080/",
          "height": 320
        },
        "outputId": "a1edc6d5-17ce-4a54-a13e-8f2ecbaf0b01"
      },
      "source": [
        "data_fraudulent = pd.DataFrame(data['fraudulent'].value_counts().sort_values(ascending=False))\n",
        "plt.figure(figsize=(5,5))\n",
        "ax = sns.barplot(x = data_fraudulent.index, y = 'fraudulent' , data = data_fraudulent)"
      ],
      "execution_count": 10,
      "outputs": [
        {
          "output_type": "display_data",
          "data": {
            "image/png": "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\n",
            "text/plain": [
              "<Figure size 360x360 with 1 Axes>"
            ]
          },
          "metadata": {
            "tags": [],
            "needs_background": "light"
          }
        }
      ]
    },
    {
      "cell_type": "markdown",
      "metadata": {
        "id": "0BxrVpYKKBsI",
        "colab_type": "text"
      },
      "source": [
        "We have a lot of true job descriptions.\n",
        "\n",
        "Let's check which country posts most number of jobs:"
      ]
    },
    {
      "cell_type": "code",
      "metadata": {
        "id": "6XcTpIthKJC9",
        "colab_type": "code",
        "colab": {}
      },
      "source": [
        "def split(location):\n",
        "    location_split = location.split(',')\n",
        "    return location_split[0]\n",
        "\n",
        "data['country'] = data.location.apply(split)"
      ],
      "execution_count": 17,
      "outputs": []
    },
    {
      "cell_type": "code",
      "metadata": {
        "id": "XVXsvZSEK1lV",
        "colab_type": "code",
        "colab": {
          "base_uri": "https://localhost:8080/",
          "height": 322
        },
        "outputId": "9b80a011-246d-4e22-aa12-0e125ad82421"
      },
      "source": [
        "#  Which country posts most number of jobs?\n",
        "\n",
        "top_countries =  pd.DataFrame(data.country.value_counts().sort_values(ascending=False)[:11])\n",
        "plt.figure(figsize=(15,5))\n",
        "sns.set(style=\"darkgrid\")\n",
        "ax = sns.barplot(x = top_countries.index, y = 'country' , data = top_countries)"
      ],
      "execution_count": 12,
      "outputs": [
        {
          "output_type": "display_data",
          "data": {
            "image/png": "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\n",
            "text/plain": [
              "<Figure size 1080x360 with 1 Axes>"
            ]
          },
          "metadata": {
            "tags": [],
            "needs_background": "light"
          }
        }
      ]
    },
    {
      "cell_type": "markdown",
      "metadata": {
        "id": "BOBn_uXRLxX4",
        "colab_type": "text"
      },
      "source": [
        "Most number of jobs are posted by US."
      ]
    },
    {
      "cell_type": "code",
      "metadata": {
        "id": "VqKFdh0LL3hw",
        "colab_type": "code",
        "colab": {
          "base_uri": "https://localhost:8080/",
          "height": 322
        },
        "outputId": "cc84e3ec-b47c-49ec-c390-e034b0a90b4b"
      },
      "source": [
        "# Which type of experience is required in most number of jobs?\n",
        "\n",
        "required_experience =  pd.DataFrame(data.required_experience.value_counts().sort_values(ascending=False)[:11])\n",
        "plt.figure(figsize=(15,5))\n",
        "sns.set(style=\"darkgrid\")\n",
        "ax = sns.barplot(x = required_experience.index, y = 'required_experience' , data = required_experience)"
      ],
      "execution_count": 13,
      "outputs": [
        {
          "output_type": "display_data",
          "data": {
            "image/png": "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\n",
            "text/plain": [
              "<Figure size 1080x360 with 1 Axes>"
            ]
          },
          "metadata": {
            "tags": []
          }
        }
      ]
    },
    {
      "cell_type": "markdown",
      "metadata": {
        "id": "p9178Yg8Mhdn",
        "colab_type": "text"
      },
      "source": [
        "Most number type of experience is Mid-Senior level, but we have a lot of NULL values."
      ]
    },
    {
      "cell_type": "code",
      "metadata": {
        "id": "G5AYY0_YMx3j",
        "colab_type": "code",
        "colab": {
          "base_uri": "https://localhost:8080/",
          "height": 703
        },
        "outputId": "aa29c5f5-94cf-48ca-df97-258bc2cc12e4"
      },
      "source": [
        "# Which type of industry in most number of jobs?\n",
        "\n",
        "top_industries =  pd.DataFrame(data.industry.value_counts().sort_values(ascending=False)[:11])\n",
        "plt.figure(figsize=(15,5))\n",
        "sns.set(style=\"darkgrid\")\n",
        "ax = sns.barplot(x = top_industries.index, y = 'industry' , data = top_industries)\n",
        "ax.set_xticklabels(ax.get_xticklabels(), rotation=90)"
      ],
      "execution_count": 14,
      "outputs": [
        {
          "output_type": "execute_result",
          "data": {
            "text/plain": [
              "[Text(0, 0, ' '),\n",
              " Text(0, 0, 'Information Technology and Services'),\n",
              " Text(0, 0, 'Computer Software'),\n",
              " Text(0, 0, 'Internet'),\n",
              " Text(0, 0, 'Marketing and Advertising'),\n",
              " Text(0, 0, 'Education Management'),\n",
              " Text(0, 0, 'Financial Services'),\n",
              " Text(0, 0, 'Hospital & Health Care'),\n",
              " Text(0, 0, 'Consumer Services'),\n",
              " Text(0, 0, 'Telecommunications'),\n",
              " Text(0, 0, 'Oil & Energy')]"
            ]
          },
          "metadata": {
            "tags": []
          },
          "execution_count": 14
        },
        {
          "output_type": "display_data",
          "data": {
            "image/png": "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\n",
            "text/plain": [
              "<Figure size 1080x360 with 1 Axes>"
            ]
          },
          "metadata": {
            "tags": []
          }
        }
      ]
    },
    {
      "cell_type": "markdown",
      "metadata": {
        "id": "77epg4g0NQZN",
        "colab_type": "text"
      },
      "source": [
        "The most popular type of  industry is IT and Services, but we have a lot of NULL values."
      ]
    },
    {
      "cell_type": "code",
      "metadata": {
        "id": "_4f-V5WHNn9g",
        "colab_type": "code",
        "colab": {
          "base_uri": "https://localhost:8080/",
          "height": 629
        },
        "outputId": "ecd94805-f8b0-457f-c104-99df3ac3f747"
      },
      "source": [
        "# Which type of function in most number of jobs?\n",
        "\n",
        "top_functions =  pd.DataFrame(data.function.value_counts().sort_values(ascending=False)[:11])\n",
        "plt.figure(figsize=(15,5))\n",
        "sns.set(style=\"darkgrid\")\n",
        "ax = sns.barplot(x = top_functions.index, y = 'function' , data = top_functions)\n",
        "ax.set_xticklabels(ax.get_xticklabels(), rotation=90)"
      ],
      "execution_count": 15,
      "outputs": [
        {
          "output_type": "execute_result",
          "data": {
            "text/plain": [
              "[Text(0, 0, ' '),\n",
              " Text(0, 0, 'Information Technology'),\n",
              " Text(0, 0, 'Sales'),\n",
              " Text(0, 0, 'Engineering'),\n",
              " Text(0, 0, 'Customer Service'),\n",
              " Text(0, 0, 'Marketing'),\n",
              " Text(0, 0, 'Administrative'),\n",
              " Text(0, 0, 'Design'),\n",
              " Text(0, 0, 'Health Care Provider'),\n",
              " Text(0, 0, 'Other'),\n",
              " Text(0, 0, 'Education')]"
            ]
          },
          "metadata": {
            "tags": []
          },
          "execution_count": 15
        },
        {
          "output_type": "display_data",
          "data": {
            "image/png": "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\n",
            "text/plain": [
              "<Figure size 1080x360 with 1 Axes>"
            ]
          },
          "metadata": {
            "tags": []
          }
        }
      ]
    },
    {
      "cell_type": "markdown",
      "metadata": {
        "id": "CMroACm5NzFJ",
        "colab_type": "text"
      },
      "source": [
        "The most popular type of  function is IT, but we have a lot of NULL values.\n",
        "\n"
      ]
    },
    {
      "cell_type": "markdown",
      "metadata": {
        "id": "XxOcFOK2OJ9f",
        "colab_type": "text"
      },
      "source": [
        "# Try different classifications algorithm and preprocessed the data:\n"
      ]
    },
    {
      "cell_type": "code",
      "metadata": {
        "id": "OkRvZgLTPMGH",
        "colab_type": "code",
        "colab": {
          "base_uri": "https://localhost:8080/",
          "height": 162
        },
        "outputId": "cfebf801-e8f7-498a-9324-5f28b56ab08c"
      },
      "source": [
        "data.head(2)"
      ],
      "execution_count": 16,
      "outputs": [
        {
          "output_type": "execute_result",
          "data": {
            "text/html": [
              "<div>\n",
              "<style scoped>\n",
              "    .dataframe tbody tr th:only-of-type {\n",
              "        vertical-align: middle;\n",
              "    }\n",
              "\n",
              "    .dataframe tbody tr th {\n",
              "        vertical-align: top;\n",
              "    }\n",
              "\n",
              "    .dataframe thead th {\n",
              "        text-align: right;\n",
              "    }\n",
              "</style>\n",
              "<table border=\"1\" class=\"dataframe\">\n",
              "  <thead>\n",
              "    <tr style=\"text-align: right;\">\n",
              "      <th></th>\n",
              "      <th>title</th>\n",
              "      <th>location</th>\n",
              "      <th>department</th>\n",
              "      <th>company_profile</th>\n",
              "      <th>description</th>\n",
              "      <th>requirements</th>\n",
              "      <th>benefits</th>\n",
              "      <th>required_experience</th>\n",
              "      <th>required_education</th>\n",
              "      <th>industry</th>\n",
              "      <th>function</th>\n",
              "      <th>fraudulent</th>\n",
              "      <th>country</th>\n",
              "    </tr>\n",
              "  </thead>\n",
              "  <tbody>\n",
              "    <tr>\n",
              "      <th>0</th>\n",
              "      <td>Marketing Intern</td>\n",
              "      <td>US, NY, New York</td>\n",
              "      <td>Marketing</td>\n",
              "      <td>We're Food52, and we've created a groundbreaki...</td>\n",
              "      <td>Food52, a fast-growing, James Beard Award-winn...</td>\n",
              "      <td>Experience with content management systems a m...</td>\n",
              "      <td></td>\n",
              "      <td>Internship</td>\n",
              "      <td></td>\n",
              "      <td></td>\n",
              "      <td>Marketing</td>\n",
              "      <td>0</td>\n",
              "      <td>US</td>\n",
              "    </tr>\n",
              "    <tr>\n",
              "      <th>1</th>\n",
              "      <td>Customer Service - Cloud Video Production</td>\n",
              "      <td>NZ, , Auckland</td>\n",
              "      <td>Success</td>\n",
              "      <td>90 Seconds, the worlds Cloud Video Production ...</td>\n",
              "      <td>Organised - Focused - Vibrant - Awesome!Do you...</td>\n",
              "      <td>What we expect from you:Your key responsibilit...</td>\n",
              "      <td>What you will get from usThrough being part of...</td>\n",
              "      <td>Not Applicable</td>\n",
              "      <td></td>\n",
              "      <td>Marketing and Advertising</td>\n",
              "      <td>Customer Service</td>\n",
              "      <td>0</td>\n",
              "      <td>NZ</td>\n",
              "    </tr>\n",
              "  </tbody>\n",
              "</table>\n",
              "</div>"
            ],
            "text/plain": [
              "                                       title  ... country\n",
              "0                           Marketing Intern  ...      US\n",
              "1  Customer Service - Cloud Video Production  ...      NZ\n",
              "\n",
              "[2 rows x 13 columns]"
            ]
          },
          "metadata": {
            "tags": []
          },
          "execution_count": 16
        }
      ]
    },
    {
      "cell_type": "markdown",
      "metadata": {
        "id": "L48zQ29ZPuiF",
        "colab_type": "text"
      },
      "source": [
        "**Import classification algorithms:**"
      ]
    },
    {
      "cell_type": "code",
      "metadata": {
        "id": "hjQ5I3WbaLEu",
        "colab_type": "code",
        "colab": {}
      },
      "source": [
        "from sklearn.feature_extraction.text import CountVectorizer\n",
        "from sklearn.feature_extraction.text import TfidfVectorizer\n",
        "from sklearn.pipeline import Pipeline\n",
        "from sklearn.metrics import classification_report,confusion_matrix,accuracy_score\n",
        "from sklearn.model_selection import train_test_split\n",
        "from sklearn.model_selection import cross_val_score\n",
        "\n",
        "\n",
        "# import classificators \n",
        "from sklearn.linear_model import LogisticRegression\n",
        "from sklearn.naive_bayes import GaussianNB\n",
        "from sklearn.neighbors import KNeighborsClassifier\n",
        "from sklearn.tree import DecisionTreeClassifier\n",
        "from sklearn.svm import SVC\n",
        "from sklearn.neural_network import MLPClassifier\n",
        "from sklearn.ensemble import RandomForestClassifier\n",
        "from xgboost import XGBClassifier\n",
        "from sklearn.ensemble import AdaBoostClassifier\n",
        "from sklearn.ensemble import GradientBoostingClassifier"
      ],
      "execution_count": 7,
      "outputs": []
    },
    {
      "cell_type": "markdown",
      "metadata": {
        "id": "u5iqcG2whvhB",
        "colab_type": "text"
      },
      "source": [
        "It is vey big data for colab (RAM) and let`s drop some data:"
      ]
    },
    {
      "cell_type": "code",
      "metadata": {
        "id": "Uhi_ENpGi9pY",
        "colab_type": "code",
        "colab": {
          "base_uri": "https://localhost:8080/",
          "height": 34
        },
        "outputId": "3603bc14-55b7-4965-c533-8ae7c592cdc2"
      },
      "source": [
        "data.shape"
      ],
      "execution_count": 4,
      "outputs": [
        {
          "output_type": "execute_result",
          "data": {
            "text/plain": [
              "(17880, 12)"
            ]
          },
          "metadata": {
            "tags": []
          },
          "execution_count": 4
        }
      ]
    },
    {
      "cell_type": "code",
      "metadata": {
        "id": "cXjf-_CWkOJA",
        "colab_type": "code",
        "colab": {
          "base_uri": "https://localhost:8080/",
          "height": 357
        },
        "outputId": "578b4f2e-ce24-4a46-a409-772a0e820e0c"
      },
      "source": [
        "# take the first half of values\n",
        "data_edit = data[:9000]\n",
        "data_edit.head(5)"
      ],
      "execution_count": 18,
      "outputs": [
        {
          "output_type": "execute_result",
          "data": {
            "text/html": [
              "<div>\n",
              "<style scoped>\n",
              "    .dataframe tbody tr th:only-of-type {\n",
              "        vertical-align: middle;\n",
              "    }\n",
              "\n",
              "    .dataframe tbody tr th {\n",
              "        vertical-align: top;\n",
              "    }\n",
              "\n",
              "    .dataframe thead th {\n",
              "        text-align: right;\n",
              "    }\n",
              "</style>\n",
              "<table border=\"1\" class=\"dataframe\">\n",
              "  <thead>\n",
              "    <tr style=\"text-align: right;\">\n",
              "      <th></th>\n",
              "      <th>title</th>\n",
              "      <th>location</th>\n",
              "      <th>department</th>\n",
              "      <th>company_profile</th>\n",
              "      <th>description</th>\n",
              "      <th>requirements</th>\n",
              "      <th>benefits</th>\n",
              "      <th>required_experience</th>\n",
              "      <th>required_education</th>\n",
              "      <th>industry</th>\n",
              "      <th>function</th>\n",
              "      <th>fraudulent</th>\n",
              "      <th>country</th>\n",
              "    </tr>\n",
              "  </thead>\n",
              "  <tbody>\n",
              "    <tr>\n",
              "      <th>0</th>\n",
              "      <td>Marketing Intern</td>\n",
              "      <td>US, NY, New York</td>\n",
              "      <td>Marketing</td>\n",
              "      <td>We're Food52, and we've created a groundbreaki...</td>\n",
              "      <td>Food52, a fast-growing, James Beard Award-winn...</td>\n",
              "      <td>Experience with content management systems a m...</td>\n",
              "      <td></td>\n",
              "      <td>Internship</td>\n",
              "      <td></td>\n",
              "      <td></td>\n",
              "      <td>Marketing</td>\n",
              "      <td>0</td>\n",
              "      <td>US</td>\n",
              "    </tr>\n",
              "    <tr>\n",
              "      <th>1</th>\n",
              "      <td>Customer Service - Cloud Video Production</td>\n",
              "      <td>NZ, , Auckland</td>\n",
              "      <td>Success</td>\n",
              "      <td>90 Seconds, the worlds Cloud Video Production ...</td>\n",
              "      <td>Organised - Focused - Vibrant - Awesome!Do you...</td>\n",
              "      <td>What we expect from you:Your key responsibilit...</td>\n",
              "      <td>What you will get from usThrough being part of...</td>\n",
              "      <td>Not Applicable</td>\n",
              "      <td></td>\n",
              "      <td>Marketing and Advertising</td>\n",
              "      <td>Customer Service</td>\n",
              "      <td>0</td>\n",
              "      <td>NZ</td>\n",
              "    </tr>\n",
              "    <tr>\n",
              "      <th>2</th>\n",
              "      <td>Commissioning Machinery Assistant (CMA)</td>\n",
              "      <td>US, IA, Wever</td>\n",
              "      <td></td>\n",
              "      <td>Valor Services provides Workforce Solutions th...</td>\n",
              "      <td>Our client, located in Houston, is actively se...</td>\n",
              "      <td>Implement pre-commissioning and commissioning ...</td>\n",
              "      <td></td>\n",
              "      <td></td>\n",
              "      <td></td>\n",
              "      <td></td>\n",
              "      <td></td>\n",
              "      <td>0</td>\n",
              "      <td>US</td>\n",
              "    </tr>\n",
              "    <tr>\n",
              "      <th>3</th>\n",
              "      <td>Account Executive - Washington DC</td>\n",
              "      <td>US, DC, Washington</td>\n",
              "      <td>Sales</td>\n",
              "      <td>Our passion for improving quality of life thro...</td>\n",
              "      <td>THE COMPANY: ESRI – Environmental Systems Rese...</td>\n",
              "      <td>EDUCATION: Bachelor’s or Master’s in GIS, busi...</td>\n",
              "      <td>Our culture is anything but corporate—we have ...</td>\n",
              "      <td>Mid-Senior level</td>\n",
              "      <td>Bachelor's Degree</td>\n",
              "      <td>Computer Software</td>\n",
              "      <td>Sales</td>\n",
              "      <td>0</td>\n",
              "      <td>US</td>\n",
              "    </tr>\n",
              "    <tr>\n",
              "      <th>4</th>\n",
              "      <td>Bill Review Manager</td>\n",
              "      <td>US, FL, Fort Worth</td>\n",
              "      <td></td>\n",
              "      <td>SpotSource Solutions LLC is a Global Human Cap...</td>\n",
              "      <td>JOB TITLE: Itemization Review ManagerLOCATION:...</td>\n",
              "      <td>QUALIFICATIONS:RN license in the State of Texa...</td>\n",
              "      <td>Full Benefits Offered</td>\n",
              "      <td>Mid-Senior level</td>\n",
              "      <td>Bachelor's Degree</td>\n",
              "      <td>Hospital &amp; Health Care</td>\n",
              "      <td>Health Care Provider</td>\n",
              "      <td>0</td>\n",
              "      <td>US</td>\n",
              "    </tr>\n",
              "  </tbody>\n",
              "</table>\n",
              "</div>"
            ],
            "text/plain": [
              "                                       title  ... country\n",
              "0                           Marketing Intern  ...      US\n",
              "1  Customer Service - Cloud Video Production  ...      NZ\n",
              "2    Commissioning Machinery Assistant (CMA)  ...      US\n",
              "3          Account Executive - Washington DC  ...      US\n",
              "4                        Bill Review Manager  ...      US\n",
              "\n",
              "[5 rows x 13 columns]"
            ]
          },
          "metadata": {
            "tags": []
          },
          "execution_count": 18
        }
      ]
    },
    {
      "cell_type": "markdown",
      "metadata": {
        "id": "wzXp6yw2klPd",
        "colab_type": "text"
      },
      "source": [
        "See fraudulent for new data:"
      ]
    },
    {
      "cell_type": "code",
      "metadata": {
        "id": "osv1yKphkkZ0",
        "colab_type": "code",
        "colab": {
          "base_uri": "https://localhost:8080/",
          "height": 320
        },
        "outputId": "861c11e2-7707-4a7d-eab6-95cbe70d5b85"
      },
      "source": [
        "data_fraudulent = pd.DataFrame(data_edit['fraudulent'].value_counts().sort_values(ascending=False))\n",
        "plt.figure(figsize=(5,5))\n",
        "ax = sns.barplot(x = data_fraudulent.index, y = 'fraudulent' , data = data_fraudulent)"
      ],
      "execution_count": 7,
      "outputs": [
        {
          "output_type": "display_data",
          "data": {
            "image/png": "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\n",
            "text/plain": [
              "<Figure size 360x360 with 1 Axes>"
            ]
          },
          "metadata": {
            "tags": [],
            "needs_background": "light"
          }
        }
      ]
    },
    {
      "cell_type": "markdown",
      "metadata": {
        "id": "YgTkPtt5ktaL",
        "colab_type": "text"
      },
      "source": [
        "Well, we have fraudulent data"
      ]
    },
    {
      "cell_type": "code",
      "metadata": {
        "id": "bE6qXphNPxNO",
        "colab_type": "code",
        "colab": {
          "base_uri": "https://localhost:8080/",
          "height": 34
        },
        "outputId": "1b28aee6-ee89-4960-a1a7-fd64b064352e"
      },
      "source": [
        "tf_idf = TfidfVectorizer(sublinear_tf=True, min_df=5, norm='l2', encoding='latin-1', ngram_range=(1, 2), stop_words='english')\n",
        "# params: sublinear_tf=True, min_df=5, norm='l2', encoding='latin-1', ngram_range=(1, 2), stop_words='english'\n",
        "features = tf_idf.fit_transform(data_edit.description).toarray()\n",
        "labels = data_edit.fraudulent\n",
        "features.shape"
      ],
      "execution_count": 8,
      "outputs": [
        {
          "output_type": "execute_result",
          "data": {
            "text/plain": [
              "(9000, 41815)"
            ]
          },
          "metadata": {
            "tags": []
          },
          "execution_count": 8
        }
      ]
    },
    {
      "cell_type": "markdown",
      "metadata": {
        "id": "xRwCNEobnXxA",
        "colab_type": "text"
      },
      "source": [
        "**Find the best classificator:**"
      ]
    },
    {
      "cell_type": "code",
      "metadata": {
        "id": "IkliG41FSkye",
        "colab_type": "code",
        "colab": {
          "base_uri": "https://localhost:8080/",
          "height": 34
        },
        "outputId": "4a6b2547-b92f-4ef7-d242-58e0650e7b70"
      },
      "source": [
        "# create logistic regression algorithm\n",
        "\n",
        "CV = 5\n",
        "cls = LogisticRegression(random_state=42)\n",
        "print(np.mean(cross_val_score(cls, features, labels, scoring='accuracy', cv=CV)))"
      ],
      "execution_count": 9,
      "outputs": [
        {
          "output_type": "stream",
          "text": [
            "0.9581111111111111\n"
          ],
          "name": "stdout"
        }
      ]
    },
    {
      "cell_type": "code",
      "metadata": {
        "id": "UBknD5JIlmaR",
        "colab_type": "code",
        "colab": {
          "base_uri": "https://localhost:8080/",
          "height": 34
        },
        "outputId": "2edbe6e4-2ee1-4104-bbe0-d87d0606e037"
      },
      "source": [
        "# create NB algorithm\n",
        "\n",
        "cls = GaussianNB()\n",
        "print(np.mean(cross_val_score(cls, features, labels, scoring='accuracy', cv=CV)))"
      ],
      "execution_count": 10,
      "outputs": [
        {
          "output_type": "stream",
          "text": [
            "0.9695555555555556\n"
          ],
          "name": "stdout"
        }
      ]
    },
    {
      "cell_type": "code",
      "metadata": {
        "id": "uHpcDgEGm4A2",
        "colab_type": "code",
        "colab": {
          "base_uri": "https://localhost:8080/",
          "height": 34
        },
        "outputId": "762c85b2-0f9b-4127-cc82-761eecdb4356"
      },
      "source": [
        "# create Random Forest\n",
        "\n",
        "cls = RandomForestClassifier(n_estimators=7)\n",
        "print(np.mean(cross_val_score(cls, features, labels, scoring='accuracy', cv=CV)))"
      ],
      "execution_count": 11,
      "outputs": [
        {
          "output_type": "stream",
          "text": [
            "0.9716666666666667\n"
          ],
          "name": "stdout"
        }
      ]
    },
    {
      "cell_type": "code",
      "metadata": {
        "id": "6Zk9XkaJnAcS",
        "colab_type": "code",
        "colab": {
          "base_uri": "https://localhost:8080/",
          "height": 34
        },
        "outputId": "932a59c7-886d-4ec8-de7d-94f5b0f28635"
      },
      "source": [
        "# create eXtreme Gradient Boost\n",
        "\n",
        "classificator =  XGBClassifier()\n",
        "print(np.mean(cross_val_score(cls, features, labels, scoring='accuracy', cv=CV)))"
      ],
      "execution_count": 12,
      "outputs": [
        {
          "output_type": "stream",
          "text": [
            "0.9712222222222222\n"
          ],
          "name": "stdout"
        }
      ]
    },
    {
      "cell_type": "code",
      "metadata": {
        "id": "f8EfRAo3nIuC",
        "colab_type": "code",
        "colab": {
          "base_uri": "https://localhost:8080/",
          "height": 34
        },
        "outputId": "a183b8ec-7612-41f5-e9b6-fb6dc12b2cf1"
      },
      "source": [
        "# create  AdaBoostClassifier\n",
        "\n",
        "classificator = AdaBoostClassifier()\n",
        "print(np.mean(cross_val_score(cls, features, labels, scoring='accuracy', cv=CV)))"
      ],
      "execution_count": 13,
      "outputs": [
        {
          "output_type": "stream",
          "text": [
            "0.9728888888888889\n"
          ],
          "name": "stdout"
        }
      ]
    },
    {
      "cell_type": "markdown",
      "metadata": {
        "id": "USv-Ax2wzt74",
        "colab_type": "text"
      },
      "source": [
        "**The best result gave by Random Forest - 0.9716**"
      ]
    },
    {
      "cell_type": "markdown",
      "metadata": {
        "id": "dzsLsC_40sBJ",
        "colab_type": "text"
      },
      "source": [
        "Now, explore features:"
      ]
    },
    {
      "cell_type": "code",
      "metadata": {
        "id": "-lWRVyG13XhM",
        "colab_type": "code",
        "colab": {
          "base_uri": "https://localhost:8080/",
          "height": 227
        },
        "outputId": "749a0c69-429b-4f58-90ef-e21dd7401a3c"
      },
      "source": [
        "data_edit.head(3)"
      ],
      "execution_count": 19,
      "outputs": [
        {
          "output_type": "execute_result",
          "data": {
            "text/html": [
              "<div>\n",
              "<style scoped>\n",
              "    .dataframe tbody tr th:only-of-type {\n",
              "        vertical-align: middle;\n",
              "    }\n",
              "\n",
              "    .dataframe tbody tr th {\n",
              "        vertical-align: top;\n",
              "    }\n",
              "\n",
              "    .dataframe thead th {\n",
              "        text-align: right;\n",
              "    }\n",
              "</style>\n",
              "<table border=\"1\" class=\"dataframe\">\n",
              "  <thead>\n",
              "    <tr style=\"text-align: right;\">\n",
              "      <th></th>\n",
              "      <th>title</th>\n",
              "      <th>location</th>\n",
              "      <th>department</th>\n",
              "      <th>company_profile</th>\n",
              "      <th>description</th>\n",
              "      <th>requirements</th>\n",
              "      <th>benefits</th>\n",
              "      <th>required_experience</th>\n",
              "      <th>required_education</th>\n",
              "      <th>industry</th>\n",
              "      <th>function</th>\n",
              "      <th>fraudulent</th>\n",
              "      <th>country</th>\n",
              "    </tr>\n",
              "  </thead>\n",
              "  <tbody>\n",
              "    <tr>\n",
              "      <th>0</th>\n",
              "      <td>Marketing Intern</td>\n",
              "      <td>US, NY, New York</td>\n",
              "      <td>Marketing</td>\n",
              "      <td>We're Food52, and we've created a groundbreaki...</td>\n",
              "      <td>Food52, a fast-growing, James Beard Award-winn...</td>\n",
              "      <td>Experience with content management systems a m...</td>\n",
              "      <td></td>\n",
              "      <td>Internship</td>\n",
              "      <td></td>\n",
              "      <td></td>\n",
              "      <td>Marketing</td>\n",
              "      <td>0</td>\n",
              "      <td>US</td>\n",
              "    </tr>\n",
              "    <tr>\n",
              "      <th>1</th>\n",
              "      <td>Customer Service - Cloud Video Production</td>\n",
              "      <td>NZ, , Auckland</td>\n",
              "      <td>Success</td>\n",
              "      <td>90 Seconds, the worlds Cloud Video Production ...</td>\n",
              "      <td>Organised - Focused - Vibrant - Awesome!Do you...</td>\n",
              "      <td>What we expect from you:Your key responsibilit...</td>\n",
              "      <td>What you will get from usThrough being part of...</td>\n",
              "      <td>Not Applicable</td>\n",
              "      <td></td>\n",
              "      <td>Marketing and Advertising</td>\n",
              "      <td>Customer Service</td>\n",
              "      <td>0</td>\n",
              "      <td>NZ</td>\n",
              "    </tr>\n",
              "    <tr>\n",
              "      <th>2</th>\n",
              "      <td>Commissioning Machinery Assistant (CMA)</td>\n",
              "      <td>US, IA, Wever</td>\n",
              "      <td></td>\n",
              "      <td>Valor Services provides Workforce Solutions th...</td>\n",
              "      <td>Our client, located in Houston, is actively se...</td>\n",
              "      <td>Implement pre-commissioning and commissioning ...</td>\n",
              "      <td></td>\n",
              "      <td></td>\n",
              "      <td></td>\n",
              "      <td></td>\n",
              "      <td></td>\n",
              "      <td>0</td>\n",
              "      <td>US</td>\n",
              "    </tr>\n",
              "  </tbody>\n",
              "</table>\n",
              "</div>"
            ],
            "text/plain": [
              "                                       title  ... country\n",
              "0                           Marketing Intern  ...      US\n",
              "1  Customer Service - Cloud Video Production  ...      NZ\n",
              "2    Commissioning Machinery Assistant (CMA)  ...      US\n",
              "\n",
              "[3 rows x 13 columns]"
            ]
          },
          "metadata": {
            "tags": []
          },
          "execution_count": 19
        }
      ]
    },
    {
      "cell_type": "code",
      "metadata": {
        "id": "Tgsv9eQ73mlg",
        "colab_type": "code",
        "colab": {
          "base_uri": "https://localhost:8080/",
          "height": 511
        },
        "outputId": "13af44d7-262a-47a0-8283-e12aea3617e9"
      },
      "source": [
        "# See correlation btw features\n",
        "corr_data = {\n",
        "    'department': data_edit.department.astype('category').cat.codes,\n",
        "    'industry': data_edit.industry.astype('category').cat.codes,\n",
        "    'function': data_edit.function.astype('category').cat.codes,\n",
        "    'fraudulent': data_edit.fraudulent,\n",
        "    'location': data_edit.country.astype('category').cat.codes\n",
        "}\n",
        "\n",
        "corr_data = pd.DataFrame.from_dict(corr_data)\n",
        "corr = corr_data.corr()\n",
        "mask = np.zeros_like(corr, dtype=np.bool)\n",
        "mask[np.triu_indices_from(mask)] = True\n",
        "f, ax = plt.subplots(figsize=(10, 10))\n",
        "cmap = sns.diverging_palette(220, 10, as_cmap=True)\n",
        "sns.heatmap(corr, mask=mask, cmap=cmap, vmax=.3, center=0,square=True, linewidths=.5, cbar_kws={\"shrink\": .5}, annot = True)"
      ],
      "execution_count": 23,
      "outputs": [
        {
          "output_type": "execute_result",
          "data": {
            "text/plain": [
              "<matplotlib.axes._subplots.AxesSubplot at 0x7f41ba53a828>"
            ]
          },
          "metadata": {
            "tags": []
          },
          "execution_count": 23
        },
        {
          "output_type": "display_data",
          "data": {
            "image/png": "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\n",
            "text/plain": [
              "<Figure size 720x720 with 2 Axes>"
            ]
          },
          "metadata": {
            "tags": [],
            "needs_background": "light"
          }
        }
      ]
    },
    {
      "cell_type": "markdown",
      "metadata": {
        "id": "m629F_My5W2R",
        "colab_type": "text"
      },
      "source": [
        "The biggest correlation is between industry and function. It means, that one of this features we can drop. Let`s see other values of correlation at eaxh feature. \n",
        "\n",
        "So, we can see that correlation with other features is low for industry. Let`s drop function from features."
      ]
    }
  ]
}
>>>>>>> 3c4898aabe045853cbc42f09579471cb1b44186a
